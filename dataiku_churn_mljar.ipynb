{
  "nbformat": 4,
  "nbformat_minor": 0,
  "metadata": {
    "colab": {
      "name": "dataiku_churn_mljar.ipynb",
      "version": "0.3.2",
      "provenance": [],
      "collapsed_sections": []
    },
    "kernelspec": {
      "name": "python3",
      "display_name": "Python 3"
    },
    "accelerator": "GPU"
  },
  "cells": [
    {
      "cell_type": "code",
      "metadata": {
        "id": "_s97FvRkktJp",
        "colab_type": "code",
        "colab": {}
      },
      "source": [
        "## URL : \n",
        "## https://www.dataiku.com/learn/guide/tutorials/churn-prediction.html"
      ],
      "execution_count": 0,
      "outputs": []
    },
    {
      "cell_type": "code",
      "metadata": {
        "id": "Im1nUbQXoy-N",
        "colab_type": "code",
        "outputId": "c1fff045-6f6f-4db3-df42-8460de146389",
        "colab": {
          "base_uri": "https://localhost:8080/",
          "height": 397
        }
      },
      "source": [
        "## download data\n",
        "!wget https://downloads.dataiku.com/tutorials/v2.0/TUTORIAL_CHURN/events.csv.gz\n",
        "!wget https://downloads.dataiku.com/tutorials/v2.0/TUTORIAL_CHURN/products.csv.gz"
      ],
      "execution_count": 2,
      "outputs": [
        {
          "output_type": "stream",
          "text": [
            "--2019-05-24 10:16:55--  https://downloads.dataiku.com/tutorials/v2.0/TUTORIAL_CHURN/events.csv.gz\n",
            "Resolving downloads.dataiku.com (downloads.dataiku.com)... 3.83.61.197\n",
            "Connecting to downloads.dataiku.com (downloads.dataiku.com)|3.83.61.197|:443... connected.\n",
            "HTTP request sent, awaiting response... 200 OK\n",
            "Length: 34020865 (32M) [application/x-gzip]\n",
            "Saving to: ‘events.csv.gz’\n",
            "\n",
            "\revents.csv.gz         0%[                    ]       0  --.-KB/s               \revents.csv.gz        60%[===========>        ]  19.51M  97.5MB/s               \revents.csv.gz       100%[===================>]  32.44M   123MB/s    in 0.3s    \n",
            "\n",
            "2019-05-24 10:16:56 (123 MB/s) - ‘events.csv.gz’ saved [34020865/34020865]\n",
            "\n",
            "--2019-05-24 10:16:57--  https://downloads.dataiku.com/tutorials/v2.0/TUTORIAL_CHURN/products.csv.gz\n",
            "Resolving downloads.dataiku.com (downloads.dataiku.com)... 3.83.61.197\n",
            "Connecting to downloads.dataiku.com (downloads.dataiku.com)|3.83.61.197|:443... connected.\n",
            "HTTP request sent, awaiting response... 200 OK\n",
            "Length: 4610086 (4.4M) [application/x-gzip]\n",
            "Saving to: ‘products.csv.gz’\n",
            "\n",
            "products.csv.gz     100%[===================>]   4.40M  --.-KB/s    in 0.1s    \n",
            "\n",
            "2019-05-24 10:16:57 (39.7 MB/s) - ‘products.csv.gz’ saved [4610086/4610086]\n",
            "\n"
          ],
          "name": "stdout"
        }
      ]
    },
    {
      "cell_type": "code",
      "metadata": {
        "id": "Ot_d59kxo_f0",
        "colab_type": "code",
        "outputId": "a0e26a97-1d0d-4372-bc83-2ef46ba8bbef",
        "colab": {
          "base_uri": "https://localhost:8080/",
          "height": 573
        }
      },
      "source": [
        "! pip install featuretools --upgrade"
      ],
      "execution_count": 3,
      "outputs": [
        {
          "output_type": "stream",
          "text": [
            "Collecting featuretools\n",
            "\u001b[?25l  Downloading https://files.pythonhosted.org/packages/5c/a3/dd2bf58b8475937f2d8d3121f197eac01ed7d0bc466616d276a56a5ee9b7/featuretools-0.8.0-py3-none-any.whl (216kB)\n",
            "\u001b[K     |████████████████████████████████| 225kB 2.8MB/s \n",
            "\u001b[?25hRequirement already satisfied, skipping upgrade: cloudpickle>=0.4.0 in /usr/local/lib/python3.6/dist-packages (from featuretools) (0.6.1)\n",
            "Requirement already satisfied, skipping upgrade: numpy>=1.13.3 in /usr/local/lib/python3.6/dist-packages (from featuretools) (1.16.3)\n",
            "Requirement already satisfied, skipping upgrade: distributed>=1.24.2 in /usr/local/lib/python3.6/dist-packages (from featuretools) (1.25.3)\n",
            "Requirement already satisfied, skipping upgrade: dask>=1.1.0 in /usr/local/lib/python3.6/dist-packages (from featuretools) (1.1.5)\n",
            "Requirement already satisfied, skipping upgrade: future>=0.16.0 in /usr/local/lib/python3.6/dist-packages (from featuretools) (0.16.0)\n",
            "Requirement already satisfied, skipping upgrade: toolz>=0.8.2 in /usr/local/lib/python3.6/dist-packages (from featuretools) (0.9.0)\n",
            "Requirement already satisfied, skipping upgrade: psutil>=5.4.8 in /usr/local/lib/python3.6/dist-packages (from featuretools) (5.4.8)\n",
            "Requirement already satisfied, skipping upgrade: tqdm>=4.19.2 in /usr/local/lib/python3.6/dist-packages (from featuretools) (4.28.1)\n",
            "Requirement already satisfied, skipping upgrade: pandas>=0.23.0 in /usr/local/lib/python3.6/dist-packages (from featuretools) (0.24.2)\n",
            "Requirement already satisfied, skipping upgrade: click>=7.0.0 in /usr/local/lib/python3.6/dist-packages (from featuretools) (7.0)\n",
            "Requirement already satisfied, skipping upgrade: pyyaml>=3.12 in /usr/local/lib/python3.6/dist-packages (from featuretools) (3.13)\n",
            "Requirement already satisfied, skipping upgrade: scikit-learn>=0.20.0; python_version >= \"3\" in /usr/local/lib/python3.6/dist-packages (from featuretools) (0.21.1)\n",
            "Requirement already satisfied, skipping upgrade: six in /usr/local/lib/python3.6/dist-packages (from distributed>=1.24.2->featuretools) (1.12.0)\n",
            "Requirement already satisfied, skipping upgrade: tblib in /usr/local/lib/python3.6/dist-packages (from distributed>=1.24.2->featuretools) (1.4.0)\n",
            "Requirement already satisfied, skipping upgrade: zict>=0.1.3 in /usr/local/lib/python3.6/dist-packages (from distributed>=1.24.2->featuretools) (0.1.4)\n",
            "Requirement already satisfied, skipping upgrade: sortedcontainers!=2.0.0,!=2.0.1 in /usr/local/lib/python3.6/dist-packages (from distributed>=1.24.2->featuretools) (2.1.0)\n",
            "Requirement already satisfied, skipping upgrade: msgpack in /usr/local/lib/python3.6/dist-packages (from distributed>=1.24.2->featuretools) (0.5.6)\n",
            "Requirement already satisfied, skipping upgrade: tornado>=4.5.1 in /usr/local/lib/python3.6/dist-packages (from distributed>=1.24.2->featuretools) (4.5.3)\n",
            "Requirement already satisfied, skipping upgrade: python-dateutil>=2.5.0 in /usr/local/lib/python3.6/dist-packages (from pandas>=0.23.0->featuretools) (2.5.3)\n",
            "Requirement already satisfied, skipping upgrade: pytz>=2011k in /usr/local/lib/python3.6/dist-packages (from pandas>=0.23.0->featuretools) (2018.9)\n",
            "Requirement already satisfied, skipping upgrade: joblib>=0.11 in /usr/local/lib/python3.6/dist-packages (from scikit-learn>=0.20.0; python_version >= \"3\"->featuretools) (0.12.5)\n",
            "Requirement already satisfied, skipping upgrade: scipy>=0.17.0 in /usr/local/lib/python3.6/dist-packages (from scikit-learn>=0.20.0; python_version >= \"3\"->featuretools) (1.3.0)\n",
            "Requirement already satisfied, skipping upgrade: heapdict in /usr/local/lib/python3.6/dist-packages (from zict>=0.1.3->distributed>=1.24.2->featuretools) (1.0.0)\n",
            "Installing collected packages: featuretools\n",
            "  Found existing installation: featuretools 0.4.1\n",
            "    Uninstalling featuretools-0.4.1:\n",
            "      Successfully uninstalled featuretools-0.4.1\n",
            "Successfully installed featuretools-0.8.0\n"
          ],
          "name": "stdout"
        }
      ]
    },
    {
      "cell_type": "code",
      "metadata": {
        "id": "gBKgRq1Cyr_e",
        "colab_type": "code",
        "colab": {}
      },
      "source": [
        "import featuretools as ft"
      ],
      "execution_count": 0,
      "outputs": []
    },
    {
      "cell_type": "code",
      "metadata": {
        "id": "HcTZV81WyvVm",
        "colab_type": "code",
        "outputId": "c66f0474-1638-4fd4-dd9c-6d7541e953ed",
        "colab": {
          "base_uri": "https://localhost:8080/",
          "height": 35
        }
      },
      "source": [
        "ft.__version__"
      ],
      "execution_count": 5,
      "outputs": [
        {
          "output_type": "execute_result",
          "data": {
            "text/plain": [
              "'0.8.0'"
            ]
          },
          "metadata": {
            "tags": []
          },
          "execution_count": 5
        }
      ]
    },
    {
      "cell_type": "code",
      "metadata": {
        "id": "ixwBE9_npC1Q",
        "colab_type": "code",
        "colab": {}
      },
      "source": [
        "import pandas as pd\n",
        "import featuretools as ft\n",
        "import numpy as np"
      ],
      "execution_count": 0,
      "outputs": []
    },
    {
      "cell_type": "code",
      "metadata": {
        "id": "sesyIUaypw-T",
        "colab_type": "code",
        "colab": {}
      },
      "source": [
        "events_df = pd.read_csv('events.csv.gz', compression='gzip', engine='python')"
      ],
      "execution_count": 0,
      "outputs": []
    },
    {
      "cell_type": "code",
      "metadata": {
        "id": "z07-mnSLp4Vg",
        "colab_type": "code",
        "outputId": "8ee05d09-96fb-4311-9d9b-ffa96d00e75d",
        "colab": {
          "base_uri": "https://localhost:8080/",
          "height": 35
        }
      },
      "source": [
        "events_df.shape"
      ],
      "execution_count": 8,
      "outputs": [
        {
          "output_type": "execute_result",
          "data": {
            "text/plain": [
              "(3015356, 5)"
            ]
          },
          "metadata": {
            "tags": []
          },
          "execution_count": 8
        }
      ]
    },
    {
      "cell_type": "code",
      "metadata": {
        "id": "cmRcvDCcp-Xu",
        "colab_type": "code",
        "outputId": "c4abecab-6676-4d82-a7d5-ae6b00553951",
        "colab": {
          "base_uri": "https://localhost:8080/",
          "height": 35
        }
      },
      "source": [
        "products_df = pd.read_csv('products.csv.gz', compression='gzip', engine='python')\n",
        "print(products_df.shape)"
      ],
      "execution_count": 9,
      "outputs": [
        {
          "output_type": "stream",
          "text": [
            "(837868, 5)\n"
          ],
          "name": "stdout"
        }
      ]
    },
    {
      "cell_type": "code",
      "metadata": {
        "id": "BK-nHmZ5qJQ8",
        "colab_type": "code",
        "outputId": "6a33d2fb-e274-4e6a-9be3-63a7fb33ffdd",
        "colab": {
          "base_uri": "https://localhost:8080/",
          "height": 348
        }
      },
      "source": [
        "events_df.sample(100).head(10)"
      ],
      "execution_count": 16,
      "outputs": [
        {
          "output_type": "execute_result",
          "data": {
            "text/html": [
              "<div>\n",
              "<style scoped>\n",
              "    .dataframe tbody tr th:only-of-type {\n",
              "        vertical-align: middle;\n",
              "    }\n",
              "\n",
              "    .dataframe tbody tr th {\n",
              "        vertical-align: top;\n",
              "    }\n",
              "\n",
              "    .dataframe thead th {\n",
              "        text-align: right;\n",
              "    }\n",
              "</style>\n",
              "<table border=\"1\" class=\"dataframe\">\n",
              "  <thead>\n",
              "    <tr style=\"text-align: right;\">\n",
              "      <th></th>\n",
              "      <th>user_id</th>\n",
              "      <th>event_timestamp</th>\n",
              "      <th>event_type</th>\n",
              "      <th>product_id</th>\n",
              "      <th>seller_id</th>\n",
              "      <th>date</th>\n",
              "    </tr>\n",
              "  </thead>\n",
              "  <tbody>\n",
              "    <tr>\n",
              "      <th>958980</th>\n",
              "      <td>5661</td>\n",
              "      <td>2015-01-04 18:00:00</td>\n",
              "      <td>product_page</td>\n",
              "      <td>809899.0</td>\n",
              "      <td>154173.0</td>\n",
              "      <td>2015-01-04 18:00:00</td>\n",
              "    </tr>\n",
              "    <tr>\n",
              "      <th>1063896</th>\n",
              "      <td>32047</td>\n",
              "      <td>2015-04-02 21:00:00</td>\n",
              "      <td>product_page</td>\n",
              "      <td>284533.0</td>\n",
              "      <td>90574.0</td>\n",
              "      <td>2015-04-02 21:00:00</td>\n",
              "    </tr>\n",
              "    <tr>\n",
              "      <th>2261134</th>\n",
              "      <td>136807</td>\n",
              "      <td>2014-02-01 19:00:00</td>\n",
              "      <td>product_page</td>\n",
              "      <td>643338.0</td>\n",
              "      <td>123904.0</td>\n",
              "      <td>2014-02-01 19:00:00</td>\n",
              "    </tr>\n",
              "    <tr>\n",
              "      <th>265511</th>\n",
              "      <td>98475</td>\n",
              "      <td>2014-09-15 11:00:00</td>\n",
              "      <td>product_page</td>\n",
              "      <td>502400.0</td>\n",
              "      <td>45007.0</td>\n",
              "      <td>2014-09-15 11:00:00</td>\n",
              "    </tr>\n",
              "    <tr>\n",
              "      <th>1943360</th>\n",
              "      <td>88057</td>\n",
              "      <td>2014-04-21 11:00:00</td>\n",
              "      <td>seller_page</td>\n",
              "      <td>NaN</td>\n",
              "      <td>36031.0</td>\n",
              "      <td>2014-04-21 11:00:00</td>\n",
              "    </tr>\n",
              "    <tr>\n",
              "      <th>1375339</th>\n",
              "      <td>34634</td>\n",
              "      <td>2014-03-08 18:00:00</td>\n",
              "      <td>seller_page</td>\n",
              "      <td>NaN</td>\n",
              "      <td>135424.0</td>\n",
              "      <td>2014-03-08 18:00:00</td>\n",
              "    </tr>\n",
              "    <tr>\n",
              "      <th>902940</th>\n",
              "      <td>40561</td>\n",
              "      <td>2014-09-21 14:00:00</td>\n",
              "      <td>product_page</td>\n",
              "      <td>800039.0</td>\n",
              "      <td>1384.0</td>\n",
              "      <td>2014-09-21 14:00:00</td>\n",
              "    </tr>\n",
              "    <tr>\n",
              "      <th>2244552</th>\n",
              "      <td>125849</td>\n",
              "      <td>2014-02-08 20:00:00</td>\n",
              "      <td>seller_page</td>\n",
              "      <td>NaN</td>\n",
              "      <td>140149.0</td>\n",
              "      <td>2014-02-08 20:00:00</td>\n",
              "    </tr>\n",
              "    <tr>\n",
              "      <th>849949</th>\n",
              "      <td>5661</td>\n",
              "      <td>2015-01-17 20:00:00</td>\n",
              "      <td>product_page</td>\n",
              "      <td>736157.0</td>\n",
              "      <td>111.0</td>\n",
              "      <td>2015-01-17 20:00:00</td>\n",
              "    </tr>\n",
              "    <tr>\n",
              "      <th>592168</th>\n",
              "      <td>39050</td>\n",
              "      <td>2015-01-31 21:00:00</td>\n",
              "      <td>product_page</td>\n",
              "      <td>473458.0</td>\n",
              "      <td>87612.0</td>\n",
              "      <td>2015-01-31 21:00:00</td>\n",
              "    </tr>\n",
              "  </tbody>\n",
              "</table>\n",
              "</div>"
            ],
            "text/plain": [
              "         user_id      event_timestamp  ... seller_id                date\n",
              "958980      5661  2015-01-04 18:00:00  ...  154173.0 2015-01-04 18:00:00\n",
              "1063896    32047  2015-04-02 21:00:00  ...   90574.0 2015-04-02 21:00:00\n",
              "2261134   136807  2014-02-01 19:00:00  ...  123904.0 2014-02-01 19:00:00\n",
              "265511     98475  2014-09-15 11:00:00  ...   45007.0 2014-09-15 11:00:00\n",
              "1943360    88057  2014-04-21 11:00:00  ...   36031.0 2014-04-21 11:00:00\n",
              "1375339    34634  2014-03-08 18:00:00  ...  135424.0 2014-03-08 18:00:00\n",
              "902940     40561  2014-09-21 14:00:00  ...    1384.0 2014-09-21 14:00:00\n",
              "2244552   125849  2014-02-08 20:00:00  ...  140149.0 2014-02-08 20:00:00\n",
              "849949      5661  2015-01-17 20:00:00  ...     111.0 2015-01-17 20:00:00\n",
              "592168     39050  2015-01-31 21:00:00  ...   87612.0 2015-01-31 21:00:00\n",
              "\n",
              "[10 rows x 6 columns]"
            ]
          },
          "metadata": {
            "tags": []
          },
          "execution_count": 16
        }
      ]
    },
    {
      "cell_type": "code",
      "metadata": {
        "id": "qi54OnpKqW25",
        "colab_type": "code",
        "outputId": "a50b0be8-1828-4d39-90cb-ae8f3f930e33",
        "colab": {
          "base_uri": "https://localhost:8080/",
          "height": 190
        }
      },
      "source": [
        "products_df.info()"
      ],
      "execution_count": 11,
      "outputs": [
        {
          "output_type": "stream",
          "text": [
            "<class 'pandas.core.frame.DataFrame'>\n",
            "RangeIndex: 837868 entries, 0 to 837867\n",
            "Data columns (total 5 columns):\n",
            "product_id       837868 non-null int64\n",
            "category_id_0    837664 non-null float64\n",
            "category_id_1    837868 non-null int64\n",
            "category_id_2    837868 non-null int64\n",
            "price            831509 non-null float64\n",
            "dtypes: float64(2), int64(3)\n",
            "memory usage: 32.0 MB\n"
          ],
          "name": "stdout"
        }
      ]
    },
    {
      "cell_type": "code",
      "metadata": {
        "id": "9S9M0xISqspa",
        "colab_type": "code",
        "colab": {}
      },
      "source": [
        "## correct data types\n",
        "events_df['date'] = pd.to_datetime(events_df.event_timestamp, errors='ignore', \n",
        "                                   cache=True)"
      ],
      "execution_count": 0,
      "outputs": []
    },
    {
      "cell_type": "code",
      "metadata": {
        "id": "PCXBEV_IhO4A",
        "colab_type": "code",
        "colab": {
          "base_uri": "https://localhost:8080/",
          "height": 207
        },
        "outputId": "bae2df67-6c1d-4232-f516-9e5ddad164ad"
      },
      "source": [
        "events_df.info()"
      ],
      "execution_count": 18,
      "outputs": [
        {
          "output_type": "stream",
          "text": [
            "<class 'pandas.core.frame.DataFrame'>\n",
            "RangeIndex: 3015356 entries, 0 to 3015355\n",
            "Data columns (total 6 columns):\n",
            "user_id            int64\n",
            "event_timestamp    object\n",
            "event_type         object\n",
            "product_id         float64\n",
            "seller_id          float64\n",
            "date               datetime64[ns]\n",
            "dtypes: datetime64[ns](1), float64(2), int64(1), object(2)\n",
            "memory usage: 138.0+ MB\n"
          ],
          "name": "stdout"
        }
      ]
    },
    {
      "cell_type": "code",
      "metadata": {
        "id": "mu-nq-pbrMOX",
        "colab_type": "code",
        "outputId": "5bd782c1-ad90-46a8-f2a5-ebed3146d1a2",
        "colab": {
          "base_uri": "https://localhost:8080/",
          "height": 190
        }
      },
      "source": [
        "##events_df['product_id'] = events_df['product_id'].fillna(np.nan).astype(int)\n",
        "##events_df['seller_id'] = events_df['seller_id'].fillna(np.nan).astype(int)\n",
        "events_df.drop('event_timestamp',axis=1, inplace=True)\n",
        "events_df.info()"
      ],
      "execution_count": 19,
      "outputs": [
        {
          "output_type": "stream",
          "text": [
            "<class 'pandas.core.frame.DataFrame'>\n",
            "RangeIndex: 3015356 entries, 0 to 3015355\n",
            "Data columns (total 5 columns):\n",
            "user_id       int64\n",
            "event_type    object\n",
            "product_id    float64\n",
            "seller_id     float64\n",
            "date          datetime64[ns]\n",
            "dtypes: datetime64[ns](1), float64(2), int64(1), object(1)\n",
            "memory usage: 115.0+ MB\n"
          ],
          "name": "stdout"
        }
      ]
    },
    {
      "cell_type": "code",
      "metadata": {
        "id": "xlznWN0yrWc4",
        "colab_type": "code",
        "outputId": "0f820804-37ae-41fc-84bb-648b1cad7276",
        "colab": {
          "base_uri": "https://localhost:8080/",
          "height": 86
        }
      },
      "source": [
        "events_df.event_type.value_counts(sort=True, ascending=False)"
      ],
      "execution_count": 20,
      "outputs": [
        {
          "output_type": "execute_result",
          "data": {
            "text/plain": [
              "product_page    1967391\n",
              "seller_page      940215\n",
              "buy_order        107750\n",
              "Name: event_type, dtype: int64"
            ]
          },
          "metadata": {
            "tags": []
          },
          "execution_count": 20
        }
      ]
    },
    {
      "cell_type": "code",
      "metadata": {
        "id": "Mxaazd9_sMOI",
        "colab_type": "code",
        "outputId": "386fd8ec-b7e6-4173-efa3-aab07af8030d",
        "colab": {
          "base_uri": "https://localhost:8080/",
          "height": 348
        }
      },
      "source": [
        "events_df[events_df.event_type=='buy_order'].sample(100).head(10)"
      ],
      "execution_count": 0,
      "outputs": [
        {
          "output_type": "execute_result",
          "data": {
            "text/html": [
              "<div>\n",
              "<style scoped>\n",
              "    .dataframe tbody tr th:only-of-type {\n",
              "        vertical-align: middle;\n",
              "    }\n",
              "\n",
              "    .dataframe tbody tr th {\n",
              "        vertical-align: top;\n",
              "    }\n",
              "\n",
              "    .dataframe thead th {\n",
              "        text-align: right;\n",
              "    }\n",
              "</style>\n",
              "<table border=\"1\" class=\"dataframe\">\n",
              "  <thead>\n",
              "    <tr style=\"text-align: right;\">\n",
              "      <th></th>\n",
              "      <th>user_id</th>\n",
              "      <th>event_type</th>\n",
              "      <th>product_id</th>\n",
              "      <th>seller_id</th>\n",
              "      <th>date</th>\n",
              "    </tr>\n",
              "  </thead>\n",
              "  <tbody>\n",
              "    <tr>\n",
              "      <th>2849227</th>\n",
              "      <td>307</td>\n",
              "      <td>buy_order</td>\n",
              "      <td>778891</td>\n",
              "      <td>3918</td>\n",
              "      <td>2014-11-25 13:00:00</td>\n",
              "    </tr>\n",
              "    <tr>\n",
              "      <th>2044831</th>\n",
              "      <td>6236</td>\n",
              "      <td>buy_order</td>\n",
              "      <td>218712</td>\n",
              "      <td>64676</td>\n",
              "      <td>2014-12-13 10:00:00</td>\n",
              "    </tr>\n",
              "    <tr>\n",
              "      <th>2849700</th>\n",
              "      <td>69061</td>\n",
              "      <td>buy_order</td>\n",
              "      <td>147670</td>\n",
              "      <td>60147</td>\n",
              "      <td>2014-11-25 12:00:00</td>\n",
              "    </tr>\n",
              "    <tr>\n",
              "      <th>115438</th>\n",
              "      <td>95555</td>\n",
              "      <td>buy_order</td>\n",
              "      <td>623826</td>\n",
              "      <td>163267</td>\n",
              "      <td>2014-10-10 20:00:00</td>\n",
              "    </tr>\n",
              "    <tr>\n",
              "      <th>904535</th>\n",
              "      <td>49826</td>\n",
              "      <td>buy_order</td>\n",
              "      <td>184512</td>\n",
              "      <td>75017</td>\n",
              "      <td>2015-01-08 10:00:00</td>\n",
              "    </tr>\n",
              "    <tr>\n",
              "      <th>2044386</th>\n",
              "      <td>81505</td>\n",
              "      <td>buy_order</td>\n",
              "      <td>164883</td>\n",
              "      <td>41156</td>\n",
              "      <td>2014-12-13 16:00:00</td>\n",
              "    </tr>\n",
              "    <tr>\n",
              "      <th>268374</th>\n",
              "      <td>123571</td>\n",
              "      <td>buy_order</td>\n",
              "      <td>114715</td>\n",
              "      <td>7334</td>\n",
              "      <td>2014-09-16 21:00:00</td>\n",
              "    </tr>\n",
              "    <tr>\n",
              "      <th>289471</th>\n",
              "      <td>93711</td>\n",
              "      <td>buy_order</td>\n",
              "      <td>515656</td>\n",
              "      <td>36681</td>\n",
              "      <td>2014-10-21 15:00:00</td>\n",
              "    </tr>\n",
              "    <tr>\n",
              "      <th>376963</th>\n",
              "      <td>121509</td>\n",
              "      <td>buy_order</td>\n",
              "      <td>159847</td>\n",
              "      <td>31388</td>\n",
              "      <td>2014-07-16 00:00:00</td>\n",
              "    </tr>\n",
              "    <tr>\n",
              "      <th>2248632</th>\n",
              "      <td>84174</td>\n",
              "      <td>buy_order</td>\n",
              "      <td>263800</td>\n",
              "      <td>101634</td>\n",
              "      <td>2014-02-07 11:00:00</td>\n",
              "    </tr>\n",
              "  </tbody>\n",
              "</table>\n",
              "</div>"
            ],
            "text/plain": [
              "         user_id event_type  product_id  seller_id                date\n",
              "2849227      307  buy_order      778891       3918 2014-11-25 13:00:00\n",
              "2044831     6236  buy_order      218712      64676 2014-12-13 10:00:00\n",
              "2849700    69061  buy_order      147670      60147 2014-11-25 12:00:00\n",
              "115438     95555  buy_order      623826     163267 2014-10-10 20:00:00\n",
              "904535     49826  buy_order      184512      75017 2015-01-08 10:00:00\n",
              "2044386    81505  buy_order      164883      41156 2014-12-13 16:00:00\n",
              "268374    123571  buy_order      114715       7334 2014-09-16 21:00:00\n",
              "289471     93711  buy_order      515656      36681 2014-10-21 15:00:00\n",
              "376963    121509  buy_order      159847      31388 2014-07-16 00:00:00\n",
              "2248632    84174  buy_order      263800     101634 2014-02-07 11:00:00"
            ]
          },
          "metadata": {
            "tags": []
          },
          "execution_count": 15
        }
      ]
    },
    {
      "cell_type": "code",
      "metadata": {
        "id": "XXe32y-juH8p",
        "colab_type": "code",
        "outputId": "28d8a6c9-4a50-4b61-d8a1-ffd45b10a84a",
        "colab": {
          "base_uri": "https://localhost:8080/",
          "height": 348
        }
      },
      "source": [
        "products_df.head(10)"
      ],
      "execution_count": 0,
      "outputs": [
        {
          "output_type": "execute_result",
          "data": {
            "text/html": [
              "<div>\n",
              "<style scoped>\n",
              "    .dataframe tbody tr th:only-of-type {\n",
              "        vertical-align: middle;\n",
              "    }\n",
              "\n",
              "    .dataframe tbody tr th {\n",
              "        vertical-align: top;\n",
              "    }\n",
              "\n",
              "    .dataframe thead th {\n",
              "        text-align: right;\n",
              "    }\n",
              "</style>\n",
              "<table border=\"1\" class=\"dataframe\">\n",
              "  <thead>\n",
              "    <tr style=\"text-align: right;\">\n",
              "      <th></th>\n",
              "      <th>product_id</th>\n",
              "      <th>category_id_0</th>\n",
              "      <th>category_id_1</th>\n",
              "      <th>category_id_2</th>\n",
              "      <th>price</th>\n",
              "    </tr>\n",
              "  </thead>\n",
              "  <tbody>\n",
              "    <tr>\n",
              "      <th>0</th>\n",
              "      <td>0</td>\n",
              "      <td>9.0</td>\n",
              "      <td>38</td>\n",
              "      <td>166</td>\n",
              "      <td>20.04</td>\n",
              "    </tr>\n",
              "    <tr>\n",
              "      <th>1</th>\n",
              "      <td>1</td>\n",
              "      <td>5.0</td>\n",
              "      <td>37</td>\n",
              "      <td>109</td>\n",
              "      <td>7.02</td>\n",
              "    </tr>\n",
              "    <tr>\n",
              "      <th>2</th>\n",
              "      <td>2</td>\n",
              "      <td>6.0</td>\n",
              "      <td>19</td>\n",
              "      <td>196</td>\n",
              "      <td>10.00</td>\n",
              "    </tr>\n",
              "    <tr>\n",
              "      <th>3</th>\n",
              "      <td>3</td>\n",
              "      <td>4.0</td>\n",
              "      <td>12</td>\n",
              "      <td>100</td>\n",
              "      <td>12.00</td>\n",
              "    </tr>\n",
              "    <tr>\n",
              "      <th>4</th>\n",
              "      <td>4</td>\n",
              "      <td>1.0</td>\n",
              "      <td>39</td>\n",
              "      <td>38</td>\n",
              "      <td>0.01</td>\n",
              "    </tr>\n",
              "    <tr>\n",
              "      <th>5</th>\n",
              "      <td>5</td>\n",
              "      <td>1.0</td>\n",
              "      <td>39</td>\n",
              "      <td>38</td>\n",
              "      <td>74.87</td>\n",
              "    </tr>\n",
              "    <tr>\n",
              "      <th>6</th>\n",
              "      <td>6</td>\n",
              "      <td>1.0</td>\n",
              "      <td>45</td>\n",
              "      <td>69</td>\n",
              "      <td>39.18</td>\n",
              "    </tr>\n",
              "    <tr>\n",
              "      <th>7</th>\n",
              "      <td>7</td>\n",
              "      <td>1.0</td>\n",
              "      <td>31</td>\n",
              "      <td>152</td>\n",
              "      <td>NaN</td>\n",
              "    </tr>\n",
              "    <tr>\n",
              "      <th>8</th>\n",
              "      <td>8</td>\n",
              "      <td>2.0</td>\n",
              "      <td>105</td>\n",
              "      <td>145</td>\n",
              "      <td>29.49</td>\n",
              "    </tr>\n",
              "    <tr>\n",
              "      <th>9</th>\n",
              "      <td>9</td>\n",
              "      <td>9.0</td>\n",
              "      <td>7</td>\n",
              "      <td>174</td>\n",
              "      <td>25.02</td>\n",
              "    </tr>\n",
              "  </tbody>\n",
              "</table>\n",
              "</div>"
            ],
            "text/plain": [
              "   product_id  category_id_0  category_id_1  category_id_2  price\n",
              "0           0            9.0             38            166  20.04\n",
              "1           1            5.0             37            109   7.02\n",
              "2           2            6.0             19            196  10.00\n",
              "3           3            4.0             12            100  12.00\n",
              "4           4            1.0             39             38   0.01\n",
              "5           5            1.0             39             38  74.87\n",
              "6           6            1.0             45             69  39.18\n",
              "7           7            1.0             31            152    NaN\n",
              "8           8            2.0            105            145  29.49\n",
              "9           9            9.0              7            174  25.02"
            ]
          },
          "metadata": {
            "tags": []
          },
          "execution_count": 16
        }
      ]
    },
    {
      "cell_type": "code",
      "metadata": {
        "id": "WXUQS2P8vkzp",
        "colab_type": "code",
        "outputId": "e6347605-50c1-4d40-873a-486ce999718a",
        "colab": {
          "base_uri": "https://localhost:8080/",
          "height": 35
        }
      },
      "source": [
        "print('dates min : {}, max: {}'.format(events_df.date.min(), events_df.date.max()))"
      ],
      "execution_count": 0,
      "outputs": [
        {
          "output_type": "stream",
          "text": [
            "dates min : 2014-01-01 00:00:00, max: 2015-04-15 23:00:00\n"
          ],
          "name": "stdout"
        }
      ]
    },
    {
      "cell_type": "code",
      "metadata": {
        "id": "O50E74I3yubW",
        "colab_type": "code",
        "colab": {}
      },
      "source": [
        "merged_df = pd.merge(events_df, products_df, how='left', left_on='product_id', \n",
        "                     right_on='product_id')"
      ],
      "execution_count": 0,
      "outputs": []
    },
    {
      "cell_type": "code",
      "metadata": {
        "id": "JS_SsL834xCP",
        "colab_type": "code",
        "outputId": "a9da977f-ec5c-44ff-bd1e-46dc7861019e",
        "colab": {
          "base_uri": "https://localhost:8080/",
          "height": 55
        }
      },
      "source": [
        "## create target variable\n",
        "import datetime as dt\n",
        "REF_DATE = dt.date(2014, 8, 1)\n",
        "\n",
        "## shift it by 4months backward\n",
        "train_start_dt = REF_DATE - pd.Timedelta(4, unit='M')\n",
        "prediction_window = REF_DATE + pd.Timedelta(4, unit='M')\n",
        "\n",
        "## todo : we can store all parametre into config dicto\n",
        "config = {\n",
        "    'ref_date':REF_DATE,\n",
        "    'train_start_dt': train_start_dt,\n",
        "    'prediction_window' : prediction_window\n",
        "}\n",
        "\n",
        "print(config)"
      ],
      "execution_count": 0,
      "outputs": [
        {
          "output_type": "stream",
          "text": [
            "{'ref_date': datetime.date(2014, 8, 1), 'train_start_dt': datetime.date(2014, 4, 2), 'prediction_window': datetime.date(2014, 11, 30)}\n"
          ],
          "name": "stdout"
        }
      ]
    },
    {
      "cell_type": "code",
      "metadata": {
        "id": "_wKxJ0TwVW-d",
        "colab_type": "code",
        "colab": {}
      },
      "source": [
        "## define target\n",
        "def filter_ds(df_in, dt_from, dt_to, min_spend):\n",
        "    tmp_df = df_in[(df_in['date'] >= pd.Timestamp(dt_from)) & (df_in['date'] < pd.Timestamp(dt_to))]\n",
        "    tmp_df = tmp_df[tmp_df['event_type']=='buy_order']\n",
        "    tmp_spend = tmp_df.groupby('user_id')['price'].agg([\"sum\", \"size\"]).reset_index()\n",
        "    tmp_spend.columns = ['user_id','total_spend', 'total_trx']\n",
        "    ## apply spending filter\n",
        "    tmp_spend_filter = tmp_spend[tmp_spend['total_spend']>= min_spend]\n",
        "    print('# users : {}'.format(tmp_spend_filter.user_id.nunique()))\n",
        "    print('Train window start : {} \\nTrain window end : {}'.format(tmp_df.date.min(), tmp_df.date.max()))\n",
        "    return tmp_spend_filter, tmp_df"
      ],
      "execution_count": 0,
      "outputs": []
    },
    {
      "cell_type": "code",
      "metadata": {
        "id": "eDgWfv-dTtc0",
        "colab_type": "code",
        "outputId": "c6e12807-8223-4f1e-e25a-cca2a7f79ca2",
        "colab": {
          "base_uri": "https://localhost:8080/",
          "height": 121
        }
      },
      "source": [
        "## train window\n",
        "train_active_clients, actives_df = filter_ds(merged_df, train_start_dt, REF_DATE, 30)\n",
        "## target\n",
        "pred_target, target_df = filter_ds(merged_df, REF_DATE, prediction_window, 1)"
      ],
      "execution_count": 0,
      "outputs": [
        {
          "output_type": "stream",
          "text": [
            "# users : 4564\n",
            "Train window start : 2014-04-02 00:00:00 \n",
            "Train window end : 2014-07-31 23:00:00\n",
            "# users : 14348\n",
            "Train window start : 2014-08-01 00:00:00 \n",
            "Train window end : 2014-11-29 23:00:00\n"
          ],
          "name": "stdout"
        }
      ]
    },
    {
      "cell_type": "code",
      "metadata": {
        "id": "oLcTqMVuXsr2",
        "colab_type": "code",
        "colab": {}
      },
      "source": [
        "## merge perim + target\n",
        "train = pd.merge(train_active_clients, pred_target, how='left', on='user_id', sort=True, indicator=True, suffixes=('_train','_pred'))\n",
        "train['target'] = train['_merge'].map({'left_only':'churn', 'both':'active'})"
      ],
      "execution_count": 0,
      "outputs": []
    },
    {
      "cell_type": "code",
      "metadata": {
        "id": "JAQxAyX6azKw",
        "colab_type": "code",
        "outputId": "17fe11d7-2995-4b10-8c64-8c09662b15b5",
        "colab": {
          "base_uri": "https://localhost:8080/",
          "height": 198
        }
      },
      "source": [
        "train.head(5)"
      ],
      "execution_count": 0,
      "outputs": [
        {
          "output_type": "execute_result",
          "data": {
            "text/html": [
              "<div>\n",
              "<style scoped>\n",
              "    .dataframe tbody tr th:only-of-type {\n",
              "        vertical-align: middle;\n",
              "    }\n",
              "\n",
              "    .dataframe tbody tr th {\n",
              "        vertical-align: top;\n",
              "    }\n",
              "\n",
              "    .dataframe thead th {\n",
              "        text-align: right;\n",
              "    }\n",
              "</style>\n",
              "<table border=\"1\" class=\"dataframe\">\n",
              "  <thead>\n",
              "    <tr style=\"text-align: right;\">\n",
              "      <th></th>\n",
              "      <th>user_id</th>\n",
              "      <th>total_spend_train</th>\n",
              "      <th>total_trx_train</th>\n",
              "      <th>total_spend_pred</th>\n",
              "      <th>total_trx_pred</th>\n",
              "      <th>_merge</th>\n",
              "      <th>target</th>\n",
              "    </tr>\n",
              "  </thead>\n",
              "  <tbody>\n",
              "    <tr>\n",
              "      <th>0</th>\n",
              "      <td>1</td>\n",
              "      <td>158.26</td>\n",
              "      <td>3</td>\n",
              "      <td>NaN</td>\n",
              "      <td>NaN</td>\n",
              "      <td>left_only</td>\n",
              "      <td>churn</td>\n",
              "    </tr>\n",
              "    <tr>\n",
              "      <th>1</th>\n",
              "      <td>143</td>\n",
              "      <td>43.11</td>\n",
              "      <td>1</td>\n",
              "      <td>25.02</td>\n",
              "      <td>1.0</td>\n",
              "      <td>both</td>\n",
              "      <td>active</td>\n",
              "    </tr>\n",
              "    <tr>\n",
              "      <th>2</th>\n",
              "      <td>164</td>\n",
              "      <td>1556.65</td>\n",
              "      <td>26</td>\n",
              "      <td>90.06</td>\n",
              "      <td>1.0</td>\n",
              "      <td>both</td>\n",
              "      <td>active</td>\n",
              "    </tr>\n",
              "    <tr>\n",
              "      <th>3</th>\n",
              "      <td>198</td>\n",
              "      <td>76.95</td>\n",
              "      <td>3</td>\n",
              "      <td>10.49</td>\n",
              "      <td>1.0</td>\n",
              "      <td>both</td>\n",
              "      <td>active</td>\n",
              "    </tr>\n",
              "    <tr>\n",
              "      <th>4</th>\n",
              "      <td>242</td>\n",
              "      <td>58.08</td>\n",
              "      <td>4</td>\n",
              "      <td>18.78</td>\n",
              "      <td>2.0</td>\n",
              "      <td>both</td>\n",
              "      <td>active</td>\n",
              "    </tr>\n",
              "  </tbody>\n",
              "</table>\n",
              "</div>"
            ],
            "text/plain": [
              "   user_id  total_spend_train  ...     _merge  target\n",
              "0        1             158.26  ...  left_only   churn\n",
              "1      143              43.11  ...       both  active\n",
              "2      164            1556.65  ...       both  active\n",
              "3      198              76.95  ...       both  active\n",
              "4      242              58.08  ...       both  active\n",
              "\n",
              "[5 rows x 7 columns]"
            ]
          },
          "metadata": {
            "tags": []
          },
          "execution_count": 23
        }
      ]
    },
    {
      "cell_type": "code",
      "metadata": {
        "id": "TFENXCakXBcC",
        "colab_type": "code",
        "outputId": "858c2222-491a-425d-b0ba-cad29175b28d",
        "colab": {
          "base_uri": "https://localhost:8080/",
          "height": 69
        }
      },
      "source": [
        "train['target'].value_counts()"
      ],
      "execution_count": 0,
      "outputs": [
        {
          "output_type": "execute_result",
          "data": {
            "text/plain": [
              "churn     3500\n",
              "active    1064\n",
              "Name: target, dtype: int64"
            ]
          },
          "metadata": {
            "tags": []
          },
          "execution_count": 26
        }
      ]
    },
    {
      "cell_type": "code",
      "metadata": {
        "id": "tzlaYT4DXDZn",
        "colab_type": "code",
        "colab": {}
      },
      "source": [
        "## now feature extraction : (dataiku random forest : 0.81 auc)\n",
        "## total number of products seen or bought on website\n",
        "## number of distinct product seen or bought\n",
        "## number of distinct categories (to have an idea of the diversity of purchases of a user)\n",
        "## total number of products bought\n",
        "## and total amount spent"
      ],
      "execution_count": 0,
      "outputs": []
    },
    {
      "cell_type": "code",
      "metadata": {
        "id": "tOq9-Da-mMIu",
        "colab_type": "code",
        "outputId": "5e83e7bf-d62c-4ee9-a5cb-e702a6ba8097",
        "colab": {
          "base_uri": "https://localhost:8080/",
          "height": 348
        }
      },
      "source": [
        "train.head(10)"
      ],
      "execution_count": 0,
      "outputs": [
        {
          "output_type": "execute_result",
          "data": {
            "text/html": [
              "<div>\n",
              "<style scoped>\n",
              "    .dataframe tbody tr th:only-of-type {\n",
              "        vertical-align: middle;\n",
              "    }\n",
              "\n",
              "    .dataframe tbody tr th {\n",
              "        vertical-align: top;\n",
              "    }\n",
              "\n",
              "    .dataframe thead th {\n",
              "        text-align: right;\n",
              "    }\n",
              "</style>\n",
              "<table border=\"1\" class=\"dataframe\">\n",
              "  <thead>\n",
              "    <tr style=\"text-align: right;\">\n",
              "      <th></th>\n",
              "      <th>user_id</th>\n",
              "      <th>total_spend_train</th>\n",
              "      <th>total_trx_train</th>\n",
              "      <th>total_spend_pred</th>\n",
              "      <th>total_trx_pred</th>\n",
              "      <th>_merge</th>\n",
              "      <th>target</th>\n",
              "    </tr>\n",
              "  </thead>\n",
              "  <tbody>\n",
              "    <tr>\n",
              "      <th>0</th>\n",
              "      <td>1</td>\n",
              "      <td>158.26</td>\n",
              "      <td>3</td>\n",
              "      <td>NaN</td>\n",
              "      <td>NaN</td>\n",
              "      <td>left_only</td>\n",
              "      <td>churn</td>\n",
              "    </tr>\n",
              "    <tr>\n",
              "      <th>1</th>\n",
              "      <td>143</td>\n",
              "      <td>43.11</td>\n",
              "      <td>1</td>\n",
              "      <td>25.02</td>\n",
              "      <td>1.0</td>\n",
              "      <td>both</td>\n",
              "      <td>active</td>\n",
              "    </tr>\n",
              "    <tr>\n",
              "      <th>2</th>\n",
              "      <td>164</td>\n",
              "      <td>1556.65</td>\n",
              "      <td>26</td>\n",
              "      <td>90.06</td>\n",
              "      <td>1.0</td>\n",
              "      <td>both</td>\n",
              "      <td>active</td>\n",
              "    </tr>\n",
              "    <tr>\n",
              "      <th>3</th>\n",
              "      <td>198</td>\n",
              "      <td>76.95</td>\n",
              "      <td>3</td>\n",
              "      <td>10.49</td>\n",
              "      <td>1.0</td>\n",
              "      <td>both</td>\n",
              "      <td>active</td>\n",
              "    </tr>\n",
              "    <tr>\n",
              "      <th>4</th>\n",
              "      <td>242</td>\n",
              "      <td>58.08</td>\n",
              "      <td>4</td>\n",
              "      <td>18.78</td>\n",
              "      <td>2.0</td>\n",
              "      <td>both</td>\n",
              "      <td>active</td>\n",
              "    </tr>\n",
              "    <tr>\n",
              "      <th>5</th>\n",
              "      <td>289</td>\n",
              "      <td>105.32</td>\n",
              "      <td>7</td>\n",
              "      <td>6.49</td>\n",
              "      <td>1.0</td>\n",
              "      <td>both</td>\n",
              "      <td>active</td>\n",
              "    </tr>\n",
              "    <tr>\n",
              "      <th>6</th>\n",
              "      <td>306</td>\n",
              "      <td>35.03</td>\n",
              "      <td>1</td>\n",
              "      <td>NaN</td>\n",
              "      <td>NaN</td>\n",
              "      <td>left_only</td>\n",
              "      <td>churn</td>\n",
              "    </tr>\n",
              "    <tr>\n",
              "      <th>7</th>\n",
              "      <td>349</td>\n",
              "      <td>30.03</td>\n",
              "      <td>1</td>\n",
              "      <td>NaN</td>\n",
              "      <td>NaN</td>\n",
              "      <td>left_only</td>\n",
              "      <td>churn</td>\n",
              "    </tr>\n",
              "    <tr>\n",
              "      <th>8</th>\n",
              "      <td>369</td>\n",
              "      <td>1008.82</td>\n",
              "      <td>26</td>\n",
              "      <td>79.10</td>\n",
              "      <td>5.0</td>\n",
              "      <td>both</td>\n",
              "      <td>active</td>\n",
              "    </tr>\n",
              "    <tr>\n",
              "      <th>9</th>\n",
              "      <td>459</td>\n",
              "      <td>117.29</td>\n",
              "      <td>1</td>\n",
              "      <td>NaN</td>\n",
              "      <td>NaN</td>\n",
              "      <td>left_only</td>\n",
              "      <td>churn</td>\n",
              "    </tr>\n",
              "  </tbody>\n",
              "</table>\n",
              "</div>"
            ],
            "text/plain": [
              "   user_id  total_spend_train  ...     _merge  target\n",
              "0        1             158.26  ...  left_only   churn\n",
              "1      143              43.11  ...       both  active\n",
              "2      164            1556.65  ...       both  active\n",
              "3      198              76.95  ...       both  active\n",
              "4      242              58.08  ...       both  active\n",
              "5      289             105.32  ...       both  active\n",
              "6      306              35.03  ...  left_only   churn\n",
              "7      349              30.03  ...  left_only   churn\n",
              "8      369            1008.82  ...       both  active\n",
              "9      459             117.29  ...  left_only   churn\n",
              "\n",
              "[10 rows x 7 columns]"
            ]
          },
          "metadata": {
            "tags": []
          },
          "execution_count": 85
        }
      ]
    },
    {
      "cell_type": "code",
      "metadata": {
        "id": "zWQi8uJNtvUU",
        "colab_type": "code",
        "outputId": "ad691a82-11a8-45b7-fbd4-90a4124ae989",
        "colab": {
          "base_uri": "https://localhost:8080/",
          "height": 35
        }
      },
      "source": [
        "## nbre products seen in train window\n",
        "fdw_df =   merged_df[(merged_df['date'] >= pd.Timestamp(train_start_dt)) & (merged_df['date'] < pd.Timestamp(REF_DATE))]\n",
        "fdw_df.date.max()"
      ],
      "execution_count": 0,
      "outputs": [
        {
          "output_type": "execute_result",
          "data": {
            "text/plain": [
              "Timestamp('2014-07-31 23:00:00')"
            ]
          },
          "metadata": {
            "tags": []
          },
          "execution_count": 27
        }
      ]
    },
    {
      "cell_type": "code",
      "metadata": {
        "id": "XwHa7lr49qcs",
        "colab_type": "code",
        "outputId": "cbb4faf0-4a43-42b6-c84b-000032539e8d",
        "colab": {
          "base_uri": "https://localhost:8080/",
          "height": 86
        }
      },
      "source": [
        "fdw_df.event_type.value_counts()"
      ],
      "execution_count": 0,
      "outputs": [
        {
          "output_type": "execute_result",
          "data": {
            "text/plain": [
              "product_page    440563\n",
              "seller_page     197055\n",
              "buy_order        21928\n",
              "Name: event_type, dtype: int64"
            ]
          },
          "metadata": {
            "tags": []
          },
          "execution_count": 32
        }
      ]
    },
    {
      "cell_type": "code",
      "metadata": {
        "id": "Wrli43Gm8Aq0",
        "colab_type": "code",
        "colab": {}
      },
      "source": [
        "## isolate purchase trx a part\n",
        "fdw_buy_orders = fdw_df[fdw_df['event_type']=='buy_order']\n",
        "fdw_product_views = fdw_df[fdw_df['event_type']=='product_page']\n",
        "fdw_seller_views = fdw_df[fdw_df['event_type']=='seller_page']\n",
        "\n",
        "## keep just useful fields for each table\n",
        "fdw_buy_orders = fdw_buy_orders[['user_id', 'product_id', 'date']]\n",
        "fdw_product_views = fdw_product_views[['user_id', 'product_id', 'date']]\n",
        "fdw_seller_views = fdw_seller_views[['user_id', 'seller_id', 'date']]\n",
        "\n",
        "## referentiel produits unique\n",
        "products_ref = fdw_df[fdw_df.product_id != -999][['product_id', 'price','seller_id', 'category_id_0', 'category_id_1', 'category_id_2']].drop_duplicates()\n",
        "sellers_ref = fdw_df[['seller_id']].drop_duplicates()\n",
        "users_ref = fdw_df[['user_id']].drop_duplicates()"
      ],
      "execution_count": 0,
      "outputs": []
    },
    {
      "cell_type": "code",
      "metadata": {
        "id": "QI_3tdKPxlZj",
        "colab_type": "code",
        "colab": {}
      },
      "source": [
        "es = None\n",
        "del es\n",
        "# Create new entityset\n",
        "es = ft.EntitySet(id = 'churn_prediction')"
      ],
      "execution_count": 0,
      "outputs": []
    },
    {
      "cell_type": "code",
      "metadata": {
        "id": "sqEFQgQLiBJ6",
        "colab_type": "code",
        "outputId": "1d567f7b-81a3-4ed7-867e-836a4346ece0",
        "colab": {
          "base_uri": "https://localhost:8080/",
          "height": 52
        }
      },
      "source": [
        "print(len(products_ref.product_id))\n",
        "print(products_ref.product_id.nunique())"
      ],
      "execution_count": 0,
      "outputs": [
        {
          "output_type": "stream",
          "text": [
            "235665\n",
            "235665\n"
          ],
          "name": "stdout"
        }
      ]
    },
    {
      "cell_type": "code",
      "metadata": {
        "id": "Sye6wMTSy1cb",
        "colab_type": "code",
        "colab": {}
      },
      "source": [
        "## Create an entity from the customers dataframe\n",
        "\n",
        "es = es.entity_from_dataframe(entity_id = 'orders', dataframe = fdw_buy_orders, \n",
        "                              make_index=True, index='order_idx',\n",
        "                              time_index = 'date')\n",
        "\n",
        "es = es.entity_from_dataframe(entity_id = 'product_views', dataframe = fdw_product_views, \n",
        "                              make_index=True, index='pv_idx',\n",
        "                              time_index = 'date')\n",
        "\n",
        "es = es.entity_from_dataframe(entity_id = 'seller_views', dataframe = fdw_seller_views, \n",
        "                              make_index=True, index='sv_idx',\n",
        "                              time_index = 'date')\n",
        "## df can with own idx\n",
        "es = es.entity_from_dataframe(entity_id = 'products_list', dataframe = products_ref, \n",
        "                              make_index=False, index=\"product_id\")\n",
        "\n",
        "\n",
        "es = es.entity_from_dataframe(entity_id = 'sellers_list', dataframe = sellers_ref, \n",
        "                              make_index=False, index=\"seller_id\")\n",
        "\n",
        "es = es.entity_from_dataframe(entity_id = 'users', dataframe = users_ref, \n",
        "                              make_index=False, index=\"user_id\")\n"
      ],
      "execution_count": 0,
      "outputs": []
    },
    {
      "cell_type": "code",
      "metadata": {
        "id": "_184puRdb0MV",
        "colab_type": "code",
        "outputId": "bec35c54-f961-40e1-d610-8b5f39cdced8",
        "colab": {
          "base_uri": "https://localhost:8080/",
          "height": 155
        }
      },
      "source": [
        "es['orders']"
      ],
      "execution_count": 0,
      "outputs": [
        {
          "output_type": "execute_result",
          "data": {
            "text/plain": [
              "Entity: orders\n",
              "  Variables:\n",
              "    order_idx (dtype: index)\n",
              "    user_id (dtype: numeric)\n",
              "    product_id (dtype: numeric)\n",
              "    date (dtype: datetime_time_index)\n",
              "  Shape:\n",
              "    (Rows: 21928, Columns: 4)"
            ]
          },
          "metadata": {
            "tags": []
          },
          "execution_count": 131
        }
      ]
    },
    {
      "cell_type": "code",
      "metadata": {
        "id": "3r-V7dp-a1Ms",
        "colab_type": "code",
        "outputId": "0b238ad4-6999-4bc0-8116-2010b1c3f46d",
        "colab": {
          "base_uri": "https://localhost:8080/",
          "height": 496
        }
      },
      "source": [
        "## add relationships\n",
        "user_orders = ft.Relationship(es[\"users\"][\"user_id\"],es[\"orders\"][\"user_id\"])\n",
        "user_product = ft.Relationship(es[\"users\"][\"user_id\"],es[\"product_views\"][\"user_id\"])\n",
        "user_seller = ft.Relationship(es[\"users\"][\"user_id\"],es[\"seller_views\"][\"user_id\"])\n",
        "\n",
        "order_product = ft.Relationship(es[\"orders\"][\"product_id\"],es[\"products_list\"][\"product_id\"])\n",
        "views_product = ft.Relationship(es[\"product_views\"][\"product_id\"],es[\"products_list\"][\"product_id\"])\n",
        "seller_views_seller = ft.Relationship(es[\"seller_views\"][\"seller_id\"],es[\"sellers_list\"][\"seller_id\"])\n",
        "product_seller = ft.Relationship(es[\"products_list\"][\"seller_id\"],es[\"sellers_list\"][\"seller_id\"])"
      ],
      "execution_count": 0,
      "outputs": [
        {
          "output_type": "error",
          "ename": "AttributeError",
          "evalue": "ignored",
          "traceback": [
            "\u001b[0;31m---------------------------------------------------------------------------\u001b[0m",
            "\u001b[0;31mAttributeError\u001b[0m                            Traceback (most recent call last)",
            "\u001b[0;32m<ipython-input-130-25ccd6acb78b>\u001b[0m in \u001b[0;36m<module>\u001b[0;34m()\u001b[0m\n\u001b[1;32m      3\u001b[0m \u001b[0muser_seller\u001b[0m \u001b[0;34m=\u001b[0m \u001b[0mft\u001b[0m\u001b[0;34m.\u001b[0m\u001b[0mRelationship\u001b[0m\u001b[0;34m(\u001b[0m\u001b[0mes\u001b[0m\u001b[0;34m[\u001b[0m\u001b[0;34m\"users\"\u001b[0m\u001b[0;34m]\u001b[0m\u001b[0;34m[\u001b[0m\u001b[0;34m\"user_id\"\u001b[0m\u001b[0;34m]\u001b[0m\u001b[0;34m,\u001b[0m\u001b[0mes\u001b[0m\u001b[0;34m[\u001b[0m\u001b[0;34m\"seller_views\"\u001b[0m\u001b[0;34m]\u001b[0m\u001b[0;34m[\u001b[0m\u001b[0;34m\"user_id\"\u001b[0m\u001b[0;34m]\u001b[0m\u001b[0;34m)\u001b[0m\u001b[0;34m\u001b[0m\u001b[0;34m\u001b[0m\u001b[0m\n\u001b[1;32m      4\u001b[0m \u001b[0;34m\u001b[0m\u001b[0m\n\u001b[0;32m----> 5\u001b[0;31m \u001b[0morder_product\u001b[0m \u001b[0;34m=\u001b[0m \u001b[0mft\u001b[0m\u001b[0;34m.\u001b[0m\u001b[0mRelationship\u001b[0m\u001b[0;34m(\u001b[0m\u001b[0mes\u001b[0m\u001b[0;34m[\u001b[0m\u001b[0;34m\"orders\"\u001b[0m\u001b[0;34m]\u001b[0m\u001b[0;34m[\u001b[0m\u001b[0;34m\"product_id\"\u001b[0m\u001b[0;34m]\u001b[0m\u001b[0;34m,\u001b[0m\u001b[0mes\u001b[0m\u001b[0;34m[\u001b[0m\u001b[0;34m\"products_list\"\u001b[0m\u001b[0;34m]\u001b[0m\u001b[0;34m[\u001b[0m\u001b[0;34m\"product_id\"\u001b[0m\u001b[0;34m]\u001b[0m\u001b[0;34m)\u001b[0m\u001b[0;34m\u001b[0m\u001b[0;34m\u001b[0m\u001b[0m\n\u001b[0m\u001b[1;32m      6\u001b[0m \u001b[0mviews_product\u001b[0m \u001b[0;34m=\u001b[0m \u001b[0mft\u001b[0m\u001b[0;34m.\u001b[0m\u001b[0mRelationship\u001b[0m\u001b[0;34m(\u001b[0m\u001b[0mes\u001b[0m\u001b[0;34m[\u001b[0m\u001b[0;34m\"product_views\"\u001b[0m\u001b[0;34m]\u001b[0m\u001b[0;34m[\u001b[0m\u001b[0;34m\"product_id\"\u001b[0m\u001b[0;34m]\u001b[0m\u001b[0;34m,\u001b[0m\u001b[0mes\u001b[0m\u001b[0;34m[\u001b[0m\u001b[0;34m\"products_list\"\u001b[0m\u001b[0;34m]\u001b[0m\u001b[0;34m[\u001b[0m\u001b[0;34m\"product_id\"\u001b[0m\u001b[0;34m]\u001b[0m\u001b[0;34m)\u001b[0m\u001b[0;34m\u001b[0m\u001b[0;34m\u001b[0m\u001b[0m\n\u001b[1;32m      7\u001b[0m \u001b[0mseller_views_seller\u001b[0m \u001b[0;34m=\u001b[0m \u001b[0mft\u001b[0m\u001b[0;34m.\u001b[0m\u001b[0mRelationship\u001b[0m\u001b[0;34m(\u001b[0m\u001b[0mes\u001b[0m\u001b[0;34m[\u001b[0m\u001b[0;34m\"seller_views\"\u001b[0m\u001b[0;34m]\u001b[0m\u001b[0;34m[\u001b[0m\u001b[0;34m\"seller_id\"\u001b[0m\u001b[0;34m]\u001b[0m\u001b[0;34m,\u001b[0m\u001b[0mes\u001b[0m\u001b[0;34m[\u001b[0m\u001b[0;34m\"sellers_list\"\u001b[0m\u001b[0;34m]\u001b[0m\u001b[0;34m[\u001b[0m\u001b[0;34m\"seller_id\"\u001b[0m\u001b[0;34m]\u001b[0m\u001b[0;34m)\u001b[0m\u001b[0;34m\u001b[0m\u001b[0;34m\u001b[0m\u001b[0m\n",
            "\u001b[0;32m/usr/local/lib/python3.6/dist-packages/featuretools/entityset/relationship.py\u001b[0m in \u001b[0;36m__init__\u001b[0;34m(self, parent_variable, child_variable)\u001b[0m\n\u001b[1;32m     25\u001b[0m         if (parent_variable.entity.index is not None and\n\u001b[1;32m     26\u001b[0m                 parent_variable.id != parent_variable.entity.index):\n\u001b[0;32m---> 27\u001b[0;31m             \u001b[0;32mraise\u001b[0m \u001b[0mAttributeError\u001b[0m\u001b[0;34m(\u001b[0m\u001b[0;34m\"Parent variable '%s' is not the index of entity %s\"\u001b[0m \u001b[0;34m%\u001b[0m \u001b[0;34m(\u001b[0m\u001b[0mparent_variable\u001b[0m\u001b[0;34m,\u001b[0m \u001b[0mparent_variable\u001b[0m\u001b[0;34m.\u001b[0m\u001b[0mentity\u001b[0m\u001b[0;34m)\u001b[0m\u001b[0;34m)\u001b[0m\u001b[0;34m\u001b[0m\u001b[0;34m\u001b[0m\u001b[0m\n\u001b[0m\u001b[1;32m     28\u001b[0m \u001b[0;34m\u001b[0m\u001b[0m\n\u001b[1;32m     29\u001b[0m     \u001b[0;32mdef\u001b[0m \u001b[0m__repr__\u001b[0m\u001b[0;34m(\u001b[0m\u001b[0mself\u001b[0m\u001b[0;34m)\u001b[0m\u001b[0;34m:\u001b[0m\u001b[0;34m\u001b[0m\u001b[0;34m\u001b[0m\u001b[0m\n",
            "\u001b[0;31mAttributeError\u001b[0m: Parent variable '<Variable: product_id (dtype = numeric)>' is not the index of entity Entity: orders\n  Variables:\n    order_idx (dtype: index)\n    user_id (dtype: numeric)\n    product_id (dtype: numeric)\n    date (dtype: datetime_time_index)\n  Shape:\n    (Rows: 21928, Columns: 4)"
          ]
        }
      ]
    },
    {
      "cell_type": "code",
      "metadata": {
        "id": "RreBpSCXIlyL",
        "colab_type": "code",
        "outputId": "c6ebbea8-9e89-46c5-8e47-9a48bb40aaf9",
        "colab": {
          "base_uri": "https://localhost:8080/",
          "height": 155
        }
      },
      "source": [
        "es.add_relationship(user_orders)\n",
        "es"
      ],
      "execution_count": 0,
      "outputs": [
        {
          "output_type": "execute_result",
          "data": {
            "text/plain": [
              "Entityset: churn_prediction\n",
              "  Entities:\n",
              "    users [Rows: 44118, Columns: 1]\n",
              "    orders [Rows: 21928, Columns: 4]\n",
              "    product_views [Rows: 440563, Columns: 4]\n",
              "    seller_views [Rows: 197055, Columns: 4]\n",
              "  Relationships:\n",
              "    No relationships"
            ]
          },
          "metadata": {
            "tags": []
          },
          "execution_count": 87
        }
      ]
    },
    {
      "cell_type": "code",
      "metadata": {
        "id": "hA5pPWbH8CZV",
        "colab_type": "code",
        "colab": {}
      },
      "source": [
        "es = es.normalize_entity(base_entity_id=\"product_views\",\n",
        "                         new_entity_id=\"users\",\n",
        "                         index=\"user_id\")"
      ],
      "execution_count": 0,
      "outputs": []
    },
    {
      "cell_type": "code",
      "metadata": {
        "id": "Cek7w9MUMVK4",
        "colab_type": "code",
        "outputId": "3a0ba81d-c11f-4ef6-f9f8-783f232a9e80",
        "colab": {
          "base_uri": "https://localhost:8080/",
          "height": 365
        }
      },
      "source": [
        "es = es.normalize_entity(base_entity_id=\"product_views\",\n",
        "                         new_entity_id=\"products\",\n",
        "                         index=\"product_id\",\n",
        "                         make_time_index=False,\n",
        "                         additional_variables=[\"category_id_0\", \"category_id_1\", \"category_id_2\", \"price\", \"seller_id\"])"
      ],
      "execution_count": 0,
      "outputs": [
        {
          "output_type": "error",
          "ename": "KeyError",
          "evalue": "ignored",
          "traceback": [
            "\u001b[0;31m---------------------------------------------------------------------------\u001b[0m",
            "\u001b[0;31mKeyError\u001b[0m                                  Traceback (most recent call last)",
            "\u001b[0;32m<ipython-input-70-360a50c55e0d>\u001b[0m in \u001b[0;36m<module>\u001b[0;34m()\u001b[0m\n\u001b[1;32m      3\u001b[0m                          \u001b[0mindex\u001b[0m\u001b[0;34m=\u001b[0m\u001b[0;34m\"product_id\"\u001b[0m\u001b[0;34m,\u001b[0m\u001b[0;34m\u001b[0m\u001b[0;34m\u001b[0m\u001b[0m\n\u001b[1;32m      4\u001b[0m                          \u001b[0mmake_time_index\u001b[0m\u001b[0;34m=\u001b[0m\u001b[0;32mFalse\u001b[0m\u001b[0;34m,\u001b[0m\u001b[0;34m\u001b[0m\u001b[0;34m\u001b[0m\u001b[0m\n\u001b[0;32m----> 5\u001b[0;31m                          additional_variables=[\"category_id_0\", \"category_id_1\", \"category_id_2\", \"price\", \"seller_id\"])\n\u001b[0m",
            "\u001b[0;32m/usr/local/lib/python3.6/dist-packages/featuretools/entityset/entityset.py\u001b[0m in \u001b[0;36mnormalize_entity\u001b[0;34m(self, base_entity_id, new_entity_id, index, additional_variables, copy_variables, make_time_index, make_secondary_time_index, new_entity_time_index, new_entity_secondary_time_index)\u001b[0m\n\u001b[1;32m    720\u001b[0m         \u001b[0mtransfer_types\u001b[0m\u001b[0;34m[\u001b[0m\u001b[0mnew_index\u001b[0m\u001b[0;34m]\u001b[0m \u001b[0;34m=\u001b[0m \u001b[0mtype\u001b[0m\u001b[0;34m(\u001b[0m\u001b[0mbase_entity\u001b[0m\u001b[0;34m[\u001b[0m\u001b[0mindex\u001b[0m\u001b[0;34m]\u001b[0m\u001b[0;34m)\u001b[0m\u001b[0;34m\u001b[0m\u001b[0;34m\u001b[0m\u001b[0m\n\u001b[1;32m    721\u001b[0m         \u001b[0;32mfor\u001b[0m \u001b[0mv\u001b[0m \u001b[0;32min\u001b[0m \u001b[0madditional_variables\u001b[0m \u001b[0;34m+\u001b[0m \u001b[0mcopy_variables\u001b[0m\u001b[0;34m:\u001b[0m\u001b[0;34m\u001b[0m\u001b[0;34m\u001b[0m\u001b[0m\n\u001b[0;32m--> 722\u001b[0;31m             \u001b[0mtransfer_types\u001b[0m\u001b[0;34m[\u001b[0m\u001b[0mv\u001b[0m\u001b[0;34m]\u001b[0m \u001b[0;34m=\u001b[0m \u001b[0mtype\u001b[0m\u001b[0;34m(\u001b[0m\u001b[0mbase_entity\u001b[0m\u001b[0;34m[\u001b[0m\u001b[0mv\u001b[0m\u001b[0;34m]\u001b[0m\u001b[0;34m)\u001b[0m\u001b[0;34m\u001b[0m\u001b[0;34m\u001b[0m\u001b[0m\n\u001b[0m\u001b[1;32m    723\u001b[0m \u001b[0;34m\u001b[0m\u001b[0m\n\u001b[1;32m    724\u001b[0m         \u001b[0;31m# create and add new entity\u001b[0m\u001b[0;34m\u001b[0m\u001b[0;34m\u001b[0m\u001b[0;34m\u001b[0m\u001b[0m\n",
            "\u001b[0;32m/usr/local/lib/python3.6/dist-packages/featuretools/entityset/entity.py\u001b[0m in \u001b[0;36m__getitem__\u001b[0;34m(self, variable_id)\u001b[0m\n\u001b[1;32m    162\u001b[0m \u001b[0;34m\u001b[0m\u001b[0m\n\u001b[1;32m    163\u001b[0m     \u001b[0;32mdef\u001b[0m \u001b[0m__getitem__\u001b[0m\u001b[0;34m(\u001b[0m\u001b[0mself\u001b[0m\u001b[0;34m,\u001b[0m \u001b[0mvariable_id\u001b[0m\u001b[0;34m)\u001b[0m\u001b[0;34m:\u001b[0m\u001b[0;34m\u001b[0m\u001b[0;34m\u001b[0m\u001b[0m\n\u001b[0;32m--> 164\u001b[0;31m         \u001b[0;32mreturn\u001b[0m \u001b[0mself\u001b[0m\u001b[0;34m.\u001b[0m\u001b[0m_get_variable\u001b[0m\u001b[0;34m(\u001b[0m\u001b[0mvariable_id\u001b[0m\u001b[0;34m)\u001b[0m\u001b[0;34m\u001b[0m\u001b[0;34m\u001b[0m\u001b[0m\n\u001b[0m\u001b[1;32m    165\u001b[0m \u001b[0;34m\u001b[0m\u001b[0m\n\u001b[1;32m    166\u001b[0m     \u001b[0;32mdef\u001b[0m \u001b[0m_get_variable\u001b[0m\u001b[0;34m(\u001b[0m\u001b[0mself\u001b[0m\u001b[0;34m,\u001b[0m \u001b[0mvariable_id\u001b[0m\u001b[0;34m)\u001b[0m\u001b[0;34m:\u001b[0m\u001b[0;34m\u001b[0m\u001b[0;34m\u001b[0m\u001b[0m\n",
            "\u001b[0;32m/usr/local/lib/python3.6/dist-packages/featuretools/entityset/entity.py\u001b[0m in \u001b[0;36m_get_variable\u001b[0;34m(self, variable_id)\u001b[0m\n\u001b[1;32m    180\u001b[0m                 \u001b[0;32mreturn\u001b[0m \u001b[0mv\u001b[0m\u001b[0;34m\u001b[0m\u001b[0;34m\u001b[0m\u001b[0m\n\u001b[1;32m    181\u001b[0m \u001b[0;34m\u001b[0m\u001b[0m\n\u001b[0;32m--> 182\u001b[0;31m         \u001b[0;32mraise\u001b[0m \u001b[0mKeyError\u001b[0m\u001b[0;34m(\u001b[0m\u001b[0;34m\"Variable: %s not found in entity\"\u001b[0m \u001b[0;34m%\u001b[0m \u001b[0;34m(\u001b[0m\u001b[0mvariable_id\u001b[0m\u001b[0;34m)\u001b[0m\u001b[0;34m)\u001b[0m\u001b[0;34m\u001b[0m\u001b[0;34m\u001b[0m\u001b[0m\n\u001b[0m\u001b[1;32m    183\u001b[0m \u001b[0;34m\u001b[0m\u001b[0m\n\u001b[1;32m    184\u001b[0m     \u001b[0;34m@\u001b[0m\u001b[0mproperty\u001b[0m\u001b[0;34m\u001b[0m\u001b[0;34m\u001b[0m\u001b[0m\n",
            "\u001b[0;31mKeyError\u001b[0m: 'Variable: category_id_0 not found in entity'"
          ]
        }
      ]
    },
    {
      "cell_type": "code",
      "metadata": {
        "id": "1nGOc_cMM_i8",
        "colab_type": "code",
        "outputId": "f1f338af-a649-40dc-d0ba-8c201cfc687b",
        "colab": {
          "base_uri": "https://localhost:8080/",
          "height": 385
        }
      },
      "source": [
        "es.plot()"
      ],
      "execution_count": 0,
      "outputs": [
        {
          "output_type": "execute_result",
          "data": {
            "text/plain": [
              "<graphviz.dot.Digraph at 0x7f723f8d62e8>"
            ],
            "image/svg+xml": "<?xml version=\"1.0\" encoding=\"UTF-8\" standalone=\"no\"?>\n<!DOCTYPE svg PUBLIC \"-//W3C//DTD SVG 1.1//EN\"\n \"http://www.w3.org/Graphics/SVG/1.1/DTD/svg11.dtd\">\n<!-- Generated by graphviz version 2.40.1 (20161225.0304)\n -->\n<!-- Title: churn_prediction Pages: 1 -->\n<svg width=\"442pt\" height=\"273pt\"\n viewBox=\"0.00 0.00 442.00 273.00\" xmlns=\"http://www.w3.org/2000/svg\" xmlns:xlink=\"http://www.w3.org/1999/xlink\">\n<g id=\"graph0\" class=\"graph\" transform=\"scale(1 1) rotate(0) translate(4 269)\">\n<title>churn_prediction</title>\n<polygon fill=\"#ffffff\" stroke=\"transparent\" points=\"-4,4 -4,-269 438,-269 438,4 -4,4\"/>\n<!-- events -->\n<g id=\"node1\" class=\"node\">\n<title>events</title>\n<polygon fill=\"none\" stroke=\"#000000\" points=\"150,-143.5 150,-264.5 321,-264.5 321,-143.5 150,-143.5\"/>\n<text text-anchor=\"middle\" x=\"235.5\" y=\"-249.3\" font-family=\"Times,serif\" font-size=\"14.00\" fill=\"#000000\">events</text>\n<polyline fill=\"none\" stroke=\"#000000\" points=\"150,-241.5 321,-241.5 \"/>\n<text text-anchor=\"start\" x=\"158\" y=\"-226.3\" font-family=\"Times,serif\" font-size=\"14.00\" fill=\"#000000\">event_index : index</text>\n<text text-anchor=\"start\" x=\"158\" y=\"-211.3\" font-family=\"Times,serif\" font-size=\"14.00\" fill=\"#000000\">user_id : id</text>\n<text text-anchor=\"start\" x=\"158\" y=\"-196.3\" font-family=\"Times,serif\" font-size=\"14.00\" fill=\"#000000\">product_id : id</text>\n<text text-anchor=\"start\" x=\"158\" y=\"-181.3\" font-family=\"Times,serif\" font-size=\"14.00\" fill=\"#000000\">seller_id : numeric</text>\n<text text-anchor=\"start\" x=\"158\" y=\"-166.3\" font-family=\"Times,serif\" font-size=\"14.00\" fill=\"#000000\">date : datetime_time_index</text>\n<text text-anchor=\"start\" x=\"158\" y=\"-151.3\" font-family=\"Times,serif\" font-size=\"14.00\" fill=\"#000000\">event_type : categorical</text>\n</g>\n<!-- users -->\n<g id=\"node2\" class=\"node\">\n<title>users</title>\n<polygon fill=\"none\" stroke=\"#000000\" points=\"0,-23 0,-84 245,-84 245,-23 0,-23\"/>\n<text text-anchor=\"middle\" x=\"122.5\" y=\"-68.8\" font-family=\"Times,serif\" font-size=\"14.00\" fill=\"#000000\">users</text>\n<polyline fill=\"none\" stroke=\"#000000\" points=\"0,-61 245,-61 \"/>\n<text text-anchor=\"start\" x=\"8\" y=\"-45.8\" font-family=\"Times,serif\" font-size=\"14.00\" fill=\"#000000\">user_id : index</text>\n<text text-anchor=\"start\" x=\"8\" y=\"-30.8\" font-family=\"Times,serif\" font-size=\"14.00\" fill=\"#000000\">first_events_time : datetime_time_index</text>\n</g>\n<!-- events&#45;&gt;users -->\n<g id=\"edge1\" class=\"edge\">\n<title>events&#45;&gt;users</title>\n<path fill=\"none\" stroke=\"#000000\" d=\"M197.5,-143.2197C197.5,-143.2197 197.5,-94.3248 197.5,-94.3248\"/>\n<polygon fill=\"#000000\" stroke=\"#000000\" points=\"201.0001,-94.3247 197.5,-84.3248 194.0001,-94.3248 201.0001,-94.3247\"/>\n<text text-anchor=\"middle\" x=\"176\" y=\"-122.5722\" font-family=\"Times,serif\" font-size=\"14.00\" fill=\"#000000\">user_id</text>\n</g>\n<!-- products -->\n<g id=\"node3\" class=\"node\">\n<title>products</title>\n<polygon fill=\"none\" stroke=\"#000000\" points=\"263,-.5 263,-106.5 434,-106.5 434,-.5 263,-.5\"/>\n<text text-anchor=\"middle\" x=\"348.5\" y=\"-91.3\" font-family=\"Times,serif\" font-size=\"14.00\" fill=\"#000000\">products</text>\n<polyline fill=\"none\" stroke=\"#000000\" points=\"263,-83.5 434,-83.5 \"/>\n<text text-anchor=\"start\" x=\"271\" y=\"-68.3\" font-family=\"Times,serif\" font-size=\"14.00\" fill=\"#000000\">product_id : index</text>\n<text text-anchor=\"start\" x=\"271\" y=\"-53.3\" font-family=\"Times,serif\" font-size=\"14.00\" fill=\"#000000\">category_id_0 : categorical</text>\n<text text-anchor=\"start\" x=\"271\" y=\"-38.3\" font-family=\"Times,serif\" font-size=\"14.00\" fill=\"#000000\">category_id_1 : categorical</text>\n<text text-anchor=\"start\" x=\"271\" y=\"-23.3\" font-family=\"Times,serif\" font-size=\"14.00\" fill=\"#000000\">category_id_2 : categorical</text>\n<text text-anchor=\"start\" x=\"271\" y=\"-8.3\" font-family=\"Times,serif\" font-size=\"14.00\" fill=\"#000000\">price : numeric</text>\n</g>\n<!-- events&#45;&gt;products -->\n<g id=\"edge2\" class=\"edge\">\n<title>events&#45;&gt;products</title>\n<path fill=\"none\" stroke=\"#000000\" d=\"M292,-143.2197C292,-143.2197 292,-116.7559 292,-116.7559\"/>\n<polygon fill=\"#000000\" stroke=\"#000000\" points=\"295.5001,-116.7559 292,-106.7559 288.5001,-116.7559 295.5001,-116.7559\"/>\n<text text-anchor=\"middle\" x=\"260\" y=\"-118.7878\" font-family=\"Times,serif\" font-size=\"14.00\" fill=\"#000000\">product_id</text>\n</g>\n</g>\n</svg>\n"
          },
          "metadata": {
            "tags": []
          },
          "execution_count": 40
        }
      ]
    },
    {
      "cell_type": "code",
      "metadata": {
        "id": "XZ66qztEPFxQ",
        "colab_type": "code",
        "colab": {}
      },
      "source": [
        "##feature_defs = ft.dfs(entityset=es, target_entity=\"users\",\n",
        "##                                      agg_primitives=['Count','num_unique','Min', 'Max', 'Mean','Sum', 'Std', 'Mode', 'time_since_last'],\n",
        "##                                     trans_primitives=[\"time_since_previous\"],\n",
        "  ##                                    where_primitives=[\"count\", \"avg_time_between\"],\n",
        "    ##                                  training_window = ft.Timedelta(120, unit=\"d\"),\n",
        "      ##                                cutoff_time=pd.datetime(2014,8,1), \n",
        "        ##                              features_only=True)"
      ],
      "execution_count": 0,
      "outputs": []
    },
    {
      "cell_type": "code",
      "metadata": {
        "id": "g_l_khOV7qnd",
        "colab_type": "code",
        "colab": {}
      },
      "source": [
        "es[\"events\"][\"event_type\"].interesting_values = [\"buy_order\"]\n",
        "expensive_purchase = ft.Feature(es[\"products\"][\"price\"]) > 0.0\n",
        "buy_order = ft.Feature(es[\"events\"][\"event_type\"]) == 'buy_order'"
      ],
      "execution_count": 0,
      "outputs": []
    },
    {
      "cell_type": "code",
      "metadata": {
        "id": "UiJj_K_l4ULi",
        "colab_type": "code",
        "colab": {}
      },
      "source": [
        "feature_defs = ft.dfs(entityset=es, target_entity=\"users\",\n",
        "                                      agg_primitives=[\"count\", \"Sum\", \"mean\",\"avg_time_between\", \n",
        "                                                      \"percent_true\", \"time_since_first\", \"time_since_last\"],\n",
        "                                      trans_primitives=['cum_sum'],\n",
        "                                      where_primitives=[\"count\"],\n",
        "                                      seed_features=[buy_order, expensive_purchase],\n",
        "                                      training_window = ft.Timedelta(120, unit=\"d\"),\n",
        "                                      cutoff_time=pd.datetime(2014,8,1), \n",
        "                                      features_only=True, max_depth=3, n_jobs = -1)"
      ],
      "execution_count": 0,
      "outputs": []
    },
    {
      "cell_type": "code",
      "metadata": {
        "id": "b5dXRD1JS6po",
        "colab_type": "code",
        "outputId": "a1b1ce62-63a1-4969-9b24-4f0419c27751",
        "colab": {
          "base_uri": "https://localhost:8080/",
          "height": 743
        }
      },
      "source": [
        "feature_defs"
      ],
      "execution_count": 0,
      "outputs": [
        {
          "output_type": "execute_result",
          "data": {
            "text/plain": [
              "[<Feature: COUNT(events)>,\n",
              " <Feature: SUM(events.seller_id)>,\n",
              " <Feature: MEAN(events.seller_id)>,\n",
              " <Feature: AVG_TIME_BETWEEN(events.date)>,\n",
              " <Feature: TIME_SINCE_FIRST(events.date)>,\n",
              " <Feature: TIME_SINCE_LAST(events.date)>,\n",
              " <Feature: COUNT(events WHERE event_type = buy_order)>,\n",
              " <Feature: SUM(events.CUM_SUM(seller_id))>,\n",
              " <Feature: SUM(events.products.price)>,\n",
              " <Feature: MEAN(events.CUM_SUM(seller_id))>,\n",
              " <Feature: MEAN(events.products.price)>,\n",
              " <Feature: PERCENT_TRUE(events.event_type = buy_order)>,\n",
              " <Feature: CUM_SUM(COUNT(events))>,\n",
              " <Feature: CUM_SUM(SUM(events.seller_id))>,\n",
              " <Feature: CUM_SUM(MEAN(events.seller_id))>,\n",
              " <Feature: CUM_SUM(AVG_TIME_BETWEEN(events.date))>,\n",
              " <Feature: CUM_SUM(TIME_SINCE_FIRST(events.date))>,\n",
              " <Feature: CUM_SUM(TIME_SINCE_LAST(events.date))>,\n",
              " <Feature: SUM(events.products.COUNT(events))>,\n",
              " <Feature: SUM(events.products.SUM(events.seller_id))>,\n",
              " <Feature: SUM(events.products.MEAN(events.seller_id))>,\n",
              " <Feature: SUM(events.products.AVG_TIME_BETWEEN(events.date))>,\n",
              " <Feature: SUM(events.products.TIME_SINCE_FIRST(events.date))>,\n",
              " <Feature: SUM(events.products.TIME_SINCE_LAST(events.date))>,\n",
              " <Feature: SUM(events.products.CUM_SUM(price))>,\n",
              " <Feature: MEAN(events.products.COUNT(events))>,\n",
              " <Feature: MEAN(events.products.SUM(events.seller_id))>,\n",
              " <Feature: MEAN(events.products.MEAN(events.seller_id))>,\n",
              " <Feature: MEAN(events.products.AVG_TIME_BETWEEN(events.date))>,\n",
              " <Feature: MEAN(events.products.TIME_SINCE_FIRST(events.date))>,\n",
              " <Feature: MEAN(events.products.TIME_SINCE_LAST(events.date))>,\n",
              " <Feature: MEAN(events.products.CUM_SUM(price))>,\n",
              " <Feature: PERCENT_TRUE(events.products.price > 0.0)>,\n",
              " <Feature: CUM_SUM(COUNT(events WHERE event_type = buy_order))>,\n",
              " <Feature: CUM_SUM(SUM(events.CUM_SUM(seller_id)))>,\n",
              " <Feature: CUM_SUM(SUM(events.products.price))>,\n",
              " <Feature: CUM_SUM(MEAN(events.CUM_SUM(seller_id)))>,\n",
              " <Feature: CUM_SUM(MEAN(events.products.price))>,\n",
              " <Feature: CUM_SUM(PERCENT_TRUE(events.event_type = buy_order))>,\n",
              " <Feature: SUM(events.products.PERCENT_TRUE(events.event_type = buy_order))>,\n",
              " <Feature: MEAN(events.products.PERCENT_TRUE(events.event_type = buy_order))>,\n",
              " <Feature: CUM_SUM(PERCENT_TRUE(events.products.price > 0.0))>]"
            ]
          },
          "metadata": {
            "tags": []
          },
          "execution_count": 55
        }
      ]
    },
    {
      "cell_type": "code",
      "metadata": {
        "id": "l4eBYD5b9KOD",
        "colab_type": "code",
        "outputId": "f5956f76-c944-49b2-ba9d-c9402dae1fa1",
        "colab": {
          "base_uri": "https://localhost:8080/",
          "height": 385
        }
      },
      "source": [
        "es.plot()"
      ],
      "execution_count": 0,
      "outputs": [
        {
          "output_type": "execute_result",
          "data": {
            "text/plain": [
              "<graphviz.dot.Digraph at 0x7f9df5d90400>"
            ],
            "image/svg+xml": "<?xml version=\"1.0\" encoding=\"UTF-8\" standalone=\"no\"?>\n<!DOCTYPE svg PUBLIC \"-//W3C//DTD SVG 1.1//EN\"\n \"http://www.w3.org/Graphics/SVG/1.1/DTD/svg11.dtd\">\n<!-- Generated by graphviz version 2.40.1 (20161225.0304)\n -->\n<!-- Title: churn_prediction Pages: 1 -->\n<svg width=\"442pt\" height=\"273pt\"\n viewBox=\"0.00 0.00 442.00 273.00\" xmlns=\"http://www.w3.org/2000/svg\" xmlns:xlink=\"http://www.w3.org/1999/xlink\">\n<g id=\"graph0\" class=\"graph\" transform=\"scale(1 1) rotate(0) translate(4 269)\">\n<title>churn_prediction</title>\n<polygon fill=\"#ffffff\" stroke=\"transparent\" points=\"-4,4 -4,-269 438,-269 438,4 -4,4\"/>\n<!-- events -->\n<g id=\"node1\" class=\"node\">\n<title>events</title>\n<polygon fill=\"none\" stroke=\"#000000\" points=\"150,-143.5 150,-264.5 321,-264.5 321,-143.5 150,-143.5\"/>\n<text text-anchor=\"middle\" x=\"235.5\" y=\"-249.3\" font-family=\"Times,serif\" font-size=\"14.00\" fill=\"#000000\">events</text>\n<polyline fill=\"none\" stroke=\"#000000\" points=\"150,-241.5 321,-241.5 \"/>\n<text text-anchor=\"start\" x=\"158\" y=\"-226.3\" font-family=\"Times,serif\" font-size=\"14.00\" fill=\"#000000\">event_index : index</text>\n<text text-anchor=\"start\" x=\"158\" y=\"-211.3\" font-family=\"Times,serif\" font-size=\"14.00\" fill=\"#000000\">date : datetime_time_index</text>\n<text text-anchor=\"start\" x=\"158\" y=\"-196.3\" font-family=\"Times,serif\" font-size=\"14.00\" fill=\"#000000\">event_type : id</text>\n<text text-anchor=\"start\" x=\"158\" y=\"-181.3\" font-family=\"Times,serif\" font-size=\"14.00\" fill=\"#000000\">product_id : id</text>\n<text text-anchor=\"start\" x=\"158\" y=\"-166.3\" font-family=\"Times,serif\" font-size=\"14.00\" fill=\"#000000\">user_id : id</text>\n<text text-anchor=\"start\" x=\"158\" y=\"-151.3\" font-family=\"Times,serif\" font-size=\"14.00\" fill=\"#000000\">seller_id : id</text>\n</g>\n<!-- users -->\n<g id=\"node2\" class=\"node\">\n<title>users</title>\n<polygon fill=\"none\" stroke=\"#000000\" points=\"0,-23 0,-84 245,-84 245,-23 0,-23\"/>\n<text text-anchor=\"middle\" x=\"122.5\" y=\"-68.8\" font-family=\"Times,serif\" font-size=\"14.00\" fill=\"#000000\">users</text>\n<polyline fill=\"none\" stroke=\"#000000\" points=\"0,-61 245,-61 \"/>\n<text text-anchor=\"start\" x=\"8\" y=\"-45.8\" font-family=\"Times,serif\" font-size=\"14.00\" fill=\"#000000\">user_id : index</text>\n<text text-anchor=\"start\" x=\"8\" y=\"-30.8\" font-family=\"Times,serif\" font-size=\"14.00\" fill=\"#000000\">first_events_time : datetime_time_index</text>\n</g>\n<!-- events&#45;&gt;users -->\n<g id=\"edge1\" class=\"edge\">\n<title>events&#45;&gt;users</title>\n<path fill=\"none\" stroke=\"#000000\" d=\"M197.5,-143.2197C197.5,-143.2197 197.5,-94.3248 197.5,-94.3248\"/>\n<polygon fill=\"#000000\" stroke=\"#000000\" points=\"201.0001,-94.3247 197.5,-84.3248 194.0001,-94.3248 201.0001,-94.3247\"/>\n<text text-anchor=\"middle\" x=\"176\" y=\"-122.5722\" font-family=\"Times,serif\" font-size=\"14.00\" fill=\"#000000\">user_id</text>\n</g>\n<!-- products -->\n<g id=\"node3\" class=\"node\">\n<title>products</title>\n<polygon fill=\"none\" stroke=\"#000000\" points=\"263,-.5 263,-106.5 434,-106.5 434,-.5 263,-.5\"/>\n<text text-anchor=\"middle\" x=\"348.5\" y=\"-91.3\" font-family=\"Times,serif\" font-size=\"14.00\" fill=\"#000000\">products</text>\n<polyline fill=\"none\" stroke=\"#000000\" points=\"263,-83.5 434,-83.5 \"/>\n<text text-anchor=\"start\" x=\"271\" y=\"-68.3\" font-family=\"Times,serif\" font-size=\"14.00\" fill=\"#000000\">product_id : index</text>\n<text text-anchor=\"start\" x=\"271\" y=\"-53.3\" font-family=\"Times,serif\" font-size=\"14.00\" fill=\"#000000\">category_id_0 : categorical</text>\n<text text-anchor=\"start\" x=\"271\" y=\"-38.3\" font-family=\"Times,serif\" font-size=\"14.00\" fill=\"#000000\">category_id_1 : categorical</text>\n<text text-anchor=\"start\" x=\"271\" y=\"-23.3\" font-family=\"Times,serif\" font-size=\"14.00\" fill=\"#000000\">category_id_2 : categorical</text>\n<text text-anchor=\"start\" x=\"271\" y=\"-8.3\" font-family=\"Times,serif\" font-size=\"14.00\" fill=\"#000000\">price : numeric</text>\n</g>\n<!-- events&#45;&gt;products -->\n<g id=\"edge2\" class=\"edge\">\n<title>events&#45;&gt;products</title>\n<path fill=\"none\" stroke=\"#000000\" d=\"M292,-143.2197C292,-143.2197 292,-116.7559 292,-116.7559\"/>\n<polygon fill=\"#000000\" stroke=\"#000000\" points=\"295.5001,-116.7559 292,-106.7559 288.5001,-116.7559 295.5001,-116.7559\"/>\n<text text-anchor=\"middle\" x=\"260\" y=\"-118.7878\" font-family=\"Times,serif\" font-size=\"14.00\" fill=\"#000000\">product_id</text>\n</g>\n</g>\n</svg>\n"
          },
          "metadata": {
            "tags": []
          },
          "execution_count": 102
        }
      ]
    },
    {
      "cell_type": "code",
      "metadata": {
        "id": "iBcy-XRCj5wk",
        "colab_type": "code",
        "colab": {}
      },
      "source": [
        "## todo : jointure avec tbl perim + target\n",
        "feature_matrix_ = feature_matrix.reset_index(drop=False)\n",
        "train_matrix = pd.merge(train, feature_matrix_, on='user_id', how='inner')\n",
        "train_matrix.drop('_merge',axis=1).to_csv('train_matrix.csv')"
      ],
      "execution_count": 0,
      "outputs": []
    },
    {
      "cell_type": "code",
      "metadata": {
        "id": "yISbEby0819-",
        "colab_type": "code",
        "outputId": "dfb311bf-87eb-41df-b4c3-485b417986b4",
        "colab": {
          "base_uri": "https://localhost:8080/",
          "height": 353
        }
      },
      "source": [
        "## !pip install h20\n",
        "import h2o\n",
        "from h2o.automl import H2OAutoML\n",
        "h2o.init(max_mem_size='8g', nthreads=4)"
      ],
      "execution_count": 0,
      "outputs": [
        {
          "output_type": "error",
          "ename": "ModuleNotFoundError",
          "evalue": "ignored",
          "traceback": [
            "\u001b[0;31m---------------------------------------------------------------------------\u001b[0m",
            "\u001b[0;31mModuleNotFoundError\u001b[0m                       Traceback (most recent call last)",
            "\u001b[0;32m<ipython-input-41-90d9b109600d>\u001b[0m in \u001b[0;36m<module>\u001b[0;34m()\u001b[0m\n\u001b[0;32m----> 1\u001b[0;31m \u001b[0;32mimport\u001b[0m \u001b[0mh2o\u001b[0m\u001b[0;34m\u001b[0m\u001b[0;34m\u001b[0m\u001b[0m\n\u001b[0m\u001b[1;32m      2\u001b[0m \u001b[0;32mfrom\u001b[0m \u001b[0mh2o\u001b[0m\u001b[0;34m.\u001b[0m\u001b[0mautoml\u001b[0m \u001b[0;32mimport\u001b[0m \u001b[0mH2OAutoML\u001b[0m\u001b[0;34m\u001b[0m\u001b[0;34m\u001b[0m\u001b[0m\n\u001b[1;32m      3\u001b[0m \u001b[0mh2o\u001b[0m\u001b[0;34m.\u001b[0m\u001b[0minit\u001b[0m\u001b[0;34m(\u001b[0m\u001b[0mmax_mem_size\u001b[0m\u001b[0;34m=\u001b[0m\u001b[0;34m'8g'\u001b[0m\u001b[0;34m,\u001b[0m \u001b[0mnthreads\u001b[0m\u001b[0;34m=\u001b[0m\u001b[0;36m4\u001b[0m\u001b[0;34m)\u001b[0m\u001b[0;34m\u001b[0m\u001b[0;34m\u001b[0m\u001b[0m\n",
            "\u001b[0;31mModuleNotFoundError\u001b[0m: No module named 'h2o'",
            "",
            "\u001b[0;31m---------------------------------------------------------------------------\u001b[0;32m\nNOTE: If your import is failing due to a missing package, you can\nmanually install dependencies using either !pip or !apt.\n\nTo view examples of installing some common dependencies, click the\n\"Open Examples\" button below.\n\u001b[0;31m---------------------------------------------------------------------------\u001b[0m\n"
          ]
        }
      ]
    },
    {
      "cell_type": "code",
      "metadata": {
        "id": "RjY5TmpC1GOH",
        "colab_type": "code",
        "colab": {}
      },
      "source": [
        "!pip install h2o"
      ],
      "execution_count": 0,
      "outputs": []
    },
    {
      "cell_type": "code",
      "metadata": {
        "id": "P3m7YQFe_Hn0",
        "colab_type": "code",
        "colab": {}
      },
      "source": [
        "test = pd.read_csv('train_matrix.csv', index_col=['user_id'])\n",
        "##test.info()"
      ],
      "execution_count": 0,
      "outputs": []
    },
    {
      "cell_type": "code",
      "metadata": {
        "id": "DKwNwmN5Bgy4",
        "colab_type": "code",
        "colab": {}
      },
      "source": [
        "## check des trx\n",
        "test[['total_spend_train', 'SUM(events.products.price)']][test['total_spend_train'] >= 30].head(5)"
      ],
      "execution_count": 0,
      "outputs": []
    },
    {
      "cell_type": "code",
      "metadata": {
        "id": "nvwm6vJ2IP3A",
        "colab_type": "code",
        "outputId": "8c214e84-e985-4d5a-810a-744cc2e6827c",
        "colab": {
          "base_uri": "https://localhost:8080/",
          "height": 475
        }
      },
      "source": [
        "usr_143 = merged_df[merged_df.user_id==143]\n",
        "print(config)\n",
        "display(usr_143)\n",
        "##todo : sortir event_type comme table nprmalisee pour calculer spend by event_type, ou le placer e, condition where"
      ],
      "execution_count": 0,
      "outputs": [
        {
          "output_type": "stream",
          "text": [
            "{'ref_date': datetime.date(2014, 8, 1), 'train_start_dt': datetime.date(2014, 4, 2), 'prediction_window': datetime.date(2014, 11, 30)}\n"
          ],
          "name": "stdout"
        },
        {
          "output_type": "display_data",
          "data": {
            "text/html": [
              "<div>\n",
              "<style scoped>\n",
              "    .dataframe tbody tr th:only-of-type {\n",
              "        vertical-align: middle;\n",
              "    }\n",
              "\n",
              "    .dataframe tbody tr th {\n",
              "        vertical-align: top;\n",
              "    }\n",
              "\n",
              "    .dataframe thead th {\n",
              "        text-align: right;\n",
              "    }\n",
              "</style>\n",
              "<table border=\"1\" class=\"dataframe\">\n",
              "  <thead>\n",
              "    <tr style=\"text-align: right;\">\n",
              "      <th></th>\n",
              "      <th>event_index</th>\n",
              "      <th>user_id</th>\n",
              "      <th>event_type</th>\n",
              "      <th>product_id</th>\n",
              "      <th>seller_id</th>\n",
              "      <th>date</th>\n",
              "      <th>category_id_0</th>\n",
              "      <th>category_id_1</th>\n",
              "      <th>category_id_2</th>\n",
              "      <th>price</th>\n",
              "    </tr>\n",
              "  </thead>\n",
              "  <tbody>\n",
              "    <tr>\n",
              "      <th>56548</th>\n",
              "      <td>56548</td>\n",
              "      <td>143</td>\n",
              "      <td>buy_order</td>\n",
              "      <td>523332</td>\n",
              "      <td>53269</td>\n",
              "      <td>2014-09-06 13:00:00</td>\n",
              "      <td>1.0</td>\n",
              "      <td>112.0</td>\n",
              "      <td>61.0</td>\n",
              "      <td>25.02</td>\n",
              "    </tr>\n",
              "    <tr>\n",
              "      <th>56625</th>\n",
              "      <td>56625</td>\n",
              "      <td>143</td>\n",
              "      <td>seller_page</td>\n",
              "      <td>-999</td>\n",
              "      <td>62691</td>\n",
              "      <td>2014-09-06 13:00:00</td>\n",
              "      <td>NaN</td>\n",
              "      <td>NaN</td>\n",
              "      <td>NaN</td>\n",
              "      <td>NaN</td>\n",
              "    </tr>\n",
              "    <tr>\n",
              "      <th>1288665</th>\n",
              "      <td>1288665</td>\n",
              "      <td>143</td>\n",
              "      <td>seller_page</td>\n",
              "      <td>-999</td>\n",
              "      <td>69528</td>\n",
              "      <td>2015-03-08 09:00:00</td>\n",
              "      <td>NaN</td>\n",
              "      <td>NaN</td>\n",
              "      <td>NaN</td>\n",
              "      <td>NaN</td>\n",
              "    </tr>\n",
              "    <tr>\n",
              "      <th>1936659</th>\n",
              "      <td>1936659</td>\n",
              "      <td>143</td>\n",
              "      <td>product_page</td>\n",
              "      <td>225983</td>\n",
              "      <td>83300</td>\n",
              "      <td>2014-04-20 13:00:00</td>\n",
              "      <td>1.0</td>\n",
              "      <td>109.0</td>\n",
              "      <td>97.0</td>\n",
              "      <td>12.91</td>\n",
              "    </tr>\n",
              "    <tr>\n",
              "      <th>1938090</th>\n",
              "      <td>1938090</td>\n",
              "      <td>143</td>\n",
              "      <td>seller_page</td>\n",
              "      <td>-999</td>\n",
              "      <td>7225</td>\n",
              "      <td>2014-04-20 11:00:00</td>\n",
              "      <td>NaN</td>\n",
              "      <td>NaN</td>\n",
              "      <td>NaN</td>\n",
              "      <td>NaN</td>\n",
              "    </tr>\n",
              "    <tr>\n",
              "      <th>1939137</th>\n",
              "      <td>1939137</td>\n",
              "      <td>143</td>\n",
              "      <td>buy_order</td>\n",
              "      <td>246894</td>\n",
              "      <td>46141</td>\n",
              "      <td>2014-04-20 13:00:00</td>\n",
              "      <td>4.0</td>\n",
              "      <td>5.0</td>\n",
              "      <td>110.0</td>\n",
              "      <td>43.11</td>\n",
              "    </tr>\n",
              "    <tr>\n",
              "      <th>1940367</th>\n",
              "      <td>1940367</td>\n",
              "      <td>143</td>\n",
              "      <td>product_page</td>\n",
              "      <td>420659</td>\n",
              "      <td>83274</td>\n",
              "      <td>2014-04-20 13:00:00</td>\n",
              "      <td>1.0</td>\n",
              "      <td>39.0</td>\n",
              "      <td>38.0</td>\n",
              "      <td>17.05</td>\n",
              "    </tr>\n",
              "    <tr>\n",
              "      <th>1953643</th>\n",
              "      <td>1953643</td>\n",
              "      <td>143</td>\n",
              "      <td>product_page</td>\n",
              "      <td>621754</td>\n",
              "      <td>19251</td>\n",
              "      <td>2014-04-23 10:00:00</td>\n",
              "      <td>1.0</td>\n",
              "      <td>43.0</td>\n",
              "      <td>121.0</td>\n",
              "      <td>15.07</td>\n",
              "    </tr>\n",
              "    <tr>\n",
              "      <th>1958350</th>\n",
              "      <td>1958350</td>\n",
              "      <td>143</td>\n",
              "      <td>product_page</td>\n",
              "      <td>167019</td>\n",
              "      <td>22210</td>\n",
              "      <td>2014-04-23 10:00:00</td>\n",
              "      <td>7.0</td>\n",
              "      <td>107.0</td>\n",
              "      <td>104.0</td>\n",
              "      <td>80.27</td>\n",
              "    </tr>\n",
              "    <tr>\n",
              "      <th>1958682</th>\n",
              "      <td>1958682</td>\n",
              "      <td>143</td>\n",
              "      <td>product_page</td>\n",
              "      <td>670525</td>\n",
              "      <td>25140</td>\n",
              "      <td>2014-04-23 11:00:00</td>\n",
              "      <td>5.0</td>\n",
              "      <td>55.0</td>\n",
              "      <td>87.0</td>\n",
              "      <td>0.01</td>\n",
              "    </tr>\n",
              "    <tr>\n",
              "      <th>2160293</th>\n",
              "      <td>2160293</td>\n",
              "      <td>143</td>\n",
              "      <td>product_page</td>\n",
              "      <td>187915</td>\n",
              "      <td>988</td>\n",
              "      <td>2014-04-17 15:00:00</td>\n",
              "      <td>1.0</td>\n",
              "      <td>39.0</td>\n",
              "      <td>38.0</td>\n",
              "      <td>54.13</td>\n",
              "    </tr>\n",
              "    <tr>\n",
              "      <th>2181247</th>\n",
              "      <td>2181247</td>\n",
              "      <td>143</td>\n",
              "      <td>product_page</td>\n",
              "      <td>154200</td>\n",
              "      <td>8397</td>\n",
              "      <td>2014-04-19 16:00:00</td>\n",
              "      <td>1.0</td>\n",
              "      <td>39.0</td>\n",
              "      <td>38.0</td>\n",
              "      <td>21.05</td>\n",
              "    </tr>\n",
              "    <tr>\n",
              "      <th>2184469</th>\n",
              "      <td>2184469</td>\n",
              "      <td>143</td>\n",
              "      <td>seller_page</td>\n",
              "      <td>-999</td>\n",
              "      <td>55313</td>\n",
              "      <td>2014-04-19 17:00:00</td>\n",
              "      <td>NaN</td>\n",
              "      <td>NaN</td>\n",
              "      <td>NaN</td>\n",
              "      <td>NaN</td>\n",
              "    </tr>\n",
              "  </tbody>\n",
              "</table>\n",
              "</div>"
            ],
            "text/plain": [
              "         event_index  user_id  ... category_id_2  price\n",
              "56548          56548      143  ...          61.0  25.02\n",
              "56625          56625      143  ...           NaN    NaN\n",
              "1288665      1288665      143  ...           NaN    NaN\n",
              "1936659      1936659      143  ...          97.0  12.91\n",
              "1938090      1938090      143  ...           NaN    NaN\n",
              "1939137      1939137      143  ...         110.0  43.11\n",
              "1940367      1940367      143  ...          38.0  17.05\n",
              "1953643      1953643      143  ...         121.0  15.07\n",
              "1958350      1958350      143  ...         104.0  80.27\n",
              "1958682      1958682      143  ...          87.0   0.01\n",
              "2160293      2160293      143  ...          38.0  54.13\n",
              "2181247      2181247      143  ...          38.0  21.05\n",
              "2184469      2184469      143  ...           NaN    NaN\n",
              "\n",
              "[13 rows x 10 columns]"
            ]
          },
          "metadata": {
            "tags": []
          }
        }
      ]
    },
    {
      "cell_type": "code",
      "metadata": {
        "id": "7eS7OYyJ9sr0",
        "colab_type": "code",
        "outputId": "c7bdf6f4-20e8-4836-ad9f-51ccb79fb7c8",
        "colab": {
          "base_uri": "https://localhost:8080/",
          "height": 287
        }
      },
      "source": [
        "hdf = h2o.import_file('train_matrix.csv')\n",
        "hdf = hdf.drop(['total_spend_pred','total_trx_pred', 'total_trx_train', 'total_spend_train'], axis=1)\n",
        "## define target as binary class\n",
        "hdf['target'] = hdf['target'].asfactor()\n",
        "## define predictors\n",
        "col_names = hdf.col_names\n",
        "col_names.remove('user_id')\n",
        "col_names.remove('C1')\n",
        "col_names.remove('target')\n",
        "\n",
        "hdf.head()"
      ],
      "execution_count": 0,
      "outputs": [
        {
          "output_type": "stream",
          "text": [
            "Parse progress: |█████████████████████████████████████████████████████████| 100%\n"
          ],
          "name": "stdout"
        },
        {
          "output_type": "display_data",
          "data": {
            "text/html": [
              "<table>\n",
              "<thead>\n",
              "<tr><th style=\"text-align: right;\">  C1</th><th style=\"text-align: right;\">  user_id</th><th>target  </th><th style=\"text-align: right;\">  COUNT(events)</th><th style=\"text-align: right;\">  NUM_UNIQUE(events.event_type)</th><th style=\"text-align: right;\">  NUM_UNIQUE(events.product_id)</th><th style=\"text-align: right;\">  NUM_UNIQUE(events.seller_id)</th><th>MODE(events.event_type)  </th><th style=\"text-align: right;\">  MODE(events.product_id)</th><th style=\"text-align: right;\">  MODE(events.seller_id)</th><th style=\"text-align: right;\">  TIME_SINCE_LAST(events.date)</th><th style=\"text-align: right;\">  NUM_UNIQUE(events.products.category_id_0)</th><th style=\"text-align: right;\">  NUM_UNIQUE(events.products.category_id_1)</th><th style=\"text-align: right;\">  NUM_UNIQUE(events.products.category_id_2)</th><th style=\"text-align: right;\">  MIN(events.time_since_previous_by_product_id)</th><th style=\"text-align: right;\">  MIN(events.time_since_previous_by_user_id)</th><th style=\"text-align: right;\">  MIN(events.time_since_previous_by_seller_id)</th><th style=\"text-align: right;\">  MIN(events.products.price)</th><th style=\"text-align: right;\">  MAX(events.time_since_previous_by_product_id)</th><th style=\"text-align: right;\">  MAX(events.time_since_previous_by_user_id)</th><th style=\"text-align: right;\">  MAX(events.time_since_previous_by_seller_id)</th><th style=\"text-align: right;\">  MAX(events.products.price)</th><th style=\"text-align: right;\">  MEAN(events.time_since_previous_by_product_id)</th><th style=\"text-align: right;\">  MEAN(events.time_since_previous_by_user_id)</th><th style=\"text-align: right;\">  MEAN(events.time_since_previous_by_seller_id)</th><th style=\"text-align: right;\">  MEAN(events.products.price)</th><th style=\"text-align: right;\">  SUM(events.time_since_previous_by_product_id)</th><th style=\"text-align: right;\">  SUM(events.time_since_previous_by_user_id)</th><th style=\"text-align: right;\">  SUM(events.time_since_previous_by_seller_id)</th><th style=\"text-align: right;\">  SUM(events.products.price)</th><th style=\"text-align: right;\">  STD(events.time_since_previous_by_product_id)</th><th style=\"text-align: right;\">  STD(events.time_since_previous_by_user_id)</th><th style=\"text-align: right;\">  STD(events.time_since_previous_by_seller_id)</th><th style=\"text-align: right;\">  STD(events.products.price)</th><th style=\"text-align: right;\">  MODE(events.products.category_id_0)</th><th style=\"text-align: right;\">  MODE(events.products.category_id_1)</th><th style=\"text-align: right;\">  MODE(events.products.category_id_2)</th></tr>\n",
              "</thead>\n",
              "<tbody>\n",
              "<tr><td style=\"text-align: right;\">   0</td><td style=\"text-align: right;\">        1</td><td>churn   </td><td style=\"text-align: right;\">             23</td><td style=\"text-align: right;\">                              3</td><td style=\"text-align: right;\">                             17</td><td style=\"text-align: right;\">                            11</td><td>product_page             </td><td style=\"text-align: right;\">                     -999</td><td style=\"text-align: right;\">                   43358</td><td style=\"text-align: right;\">                   1.06704e+07</td><td style=\"text-align: right;\">                                          7</td><td style=\"text-align: right;\">                                         11</td><td style=\"text-align: right;\">                                         11</td><td style=\"text-align: right;\">                                    0          </td><td style=\"text-align: right;\">                                           0</td><td style=\"text-align: right;\">                                  -7.6392e+06 </td><td style=\"text-align: right;\">                        5.5 </td><td style=\"text-align: right;\">                                    5.7348e+06 </td><td style=\"text-align: right;\">                                  3.5496e+06</td><td style=\"text-align: right;\">                                   7.1316e+06 </td><td style=\"text-align: right;\">                135.37      </td><td style=\"text-align: right;\">                                940050          </td><td style=\"text-align: right;\">                                     377018  </td><td style=\"text-align: right;\">                               163964          </td><td style=\"text-align: right;\">                      33.9369</td><td style=\"text-align: right;\">                                    7.5204e+06 </td><td style=\"text-align: right;\">                                 8.2944e+06 </td><td style=\"text-align: right;\">                                   3.6072e+06 </td><td style=\"text-align: right;\">               542.99       </td><td style=\"text-align: right;\">                                    1.96608e+06</td><td style=\"text-align: right;\">                            787530          </td><td style=\"text-align: right;\">                                   3.01938e+06</td><td style=\"text-align: right;\">                37.1451     </td><td style=\"text-align: right;\">                                    1</td><td style=\"text-align: right;\">                                   39</td><td style=\"text-align: right;\">                                   38</td></tr>\n",
              "<tr><td style=\"text-align: right;\">   1</td><td style=\"text-align: right;\">      143</td><td>active  </td><td style=\"text-align: right;\">             10</td><td style=\"text-align: right;\">                              3</td><td style=\"text-align: right;\">                              9</td><td style=\"text-align: right;\">                            10</td><td>product_page             </td><td style=\"text-align: right;\">                     -999</td><td style=\"text-align: right;\">                     988</td><td style=\"text-align: right;\">                   9.1044e+06 </td><td style=\"text-align: right;\">                                          4</td><td style=\"text-align: right;\">                                          6</td><td style=\"text-align: right;\">                                          6</td><td style=\"text-align: right;\">                                   -7.362e+06  </td><td style=\"text-align: right;\">                                           0</td><td style=\"text-align: right;\">                                  -5.7276e+06 </td><td style=\"text-align: right;\">                        0.01</td><td style=\"text-align: right;\">                                68400          </td><td style=\"text-align: right;\">                             248400         </td><td style=\"text-align: right;\">                                   1.2924e+06 </td><td style=\"text-align: right;\">                 80.27      </td><td style=\"text-align: right;\">                                    -1.94616e+06</td><td style=\"text-align: right;\">                                      56000  </td><td style=\"text-align: right;\">                              -518760          </td><td style=\"text-align: right;\">                      30.45  </td><td style=\"text-align: right;\">                                   -9.7308e+06 </td><td style=\"text-align: right;\">                            504000          </td><td style=\"text-align: right;\">                                  -5.1876e+06 </td><td style=\"text-align: right;\">               243.6        </td><td style=\"text-align: right;\">                                    3.20793e+06</td><td style=\"text-align: right;\">                             92784.9        </td><td style=\"text-align: right;\">                                   1.94353e+06</td><td style=\"text-align: right;\">                26.57       </td><td style=\"text-align: right;\">                                    1</td><td style=\"text-align: right;\">                                   39</td><td style=\"text-align: right;\">                                   38</td></tr>\n",
              "<tr><td style=\"text-align: right;\">   2</td><td style=\"text-align: right;\">      164</td><td>active  </td><td style=\"text-align: right;\">            280</td><td style=\"text-align: right;\">                              3</td><td style=\"text-align: right;\">                            217</td><td style=\"text-align: right;\">                            86</td><td>product_page             </td><td style=\"text-align: right;\">                     -999</td><td style=\"text-align: right;\">                   69436</td><td style=\"text-align: right;\">                   1.73592e+07</td><td style=\"text-align: right;\">                                         10</td><td style=\"text-align: right;\">                                         58</td><td style=\"text-align: right;\">                                         58</td><td style=\"text-align: right;\">                                   -1.33056e+07</td><td style=\"text-align: right;\">                                           0</td><td style=\"text-align: right;\">                                  -1.38168e+07</td><td style=\"text-align: right;\">                        0.01</td><td style=\"text-align: right;\">                                    9.6264e+06 </td><td style=\"text-align: right;\">                                  1.5336e+06</td><td style=\"text-align: right;\">                                   1.19304e+07</td><td style=\"text-align: right;\">               1242.17      </td><td style=\"text-align: right;\">                                266328          </td><td style=\"text-align: right;\">                                      53045.2</td><td style=\"text-align: right;\">                               212413          </td><td style=\"text-align: right;\">                      34.6246</td><td style=\"text-align: right;\">                                    3.96828e+07</td><td style=\"text-align: right;\">                                 1.47996e+07</td><td style=\"text-align: right;\">                                   5.88384e+07</td><td style=\"text-align: right;\">              8032.9        </td><td style=\"text-align: right;\">                                    2.90943e+06</td><td style=\"text-align: right;\">                            174840          </td><td style=\"text-align: right;\">                                   3.53529e+06</td><td style=\"text-align: right;\">               109.309      </td><td style=\"text-align: right;\">                                    1</td><td style=\"text-align: right;\">                                   43</td><td style=\"text-align: right;\">                                  121</td></tr>\n",
              "<tr><td style=\"text-align: right;\">   3</td><td style=\"text-align: right;\">      198</td><td>active  </td><td style=\"text-align: right;\">              6</td><td style=\"text-align: right;\">                              2</td><td style=\"text-align: right;\">                              6</td><td style=\"text-align: right;\">                             6</td><td>buy_order                </td><td style=\"text-align: right;\">                     1044</td><td style=\"text-align: right;\">                    1183</td><td style=\"text-align: right;\">                   3.2904e+06 </td><td style=\"text-align: right;\">                                          3</td><td style=\"text-align: right;\">                                          6</td><td style=\"text-align: right;\">                                          6</td><td style=\"text-align: right;\">                                  nan          </td><td style=\"text-align: right;\">                                           0</td><td style=\"text-align: right;\">                             -828000          </td><td style=\"text-align: right;\">                        7.02</td><td style=\"text-align: right;\">                                  nan          </td><td style=\"text-align: right;\">                             172800         </td><td style=\"text-align: right;\">                              784800          </td><td style=\"text-align: right;\">                120.06      </td><td style=\"text-align: right;\">                                   nan          </td><td style=\"text-align: right;\">                                      50400  </td><td style=\"text-align: right;\">                               -33600          </td><td style=\"text-align: right;\">                      37.685 </td><td style=\"text-align: right;\">                                    0          </td><td style=\"text-align: right;\">                            252000          </td><td style=\"text-align: right;\">                             -201600          </td><td style=\"text-align: right;\">               226.11       </td><td style=\"text-align: right;\">                                  nan          </td><td style=\"text-align: right;\">                             76537          </td><td style=\"text-align: right;\">                              709445          </td><td style=\"text-align: right;\">                42.9413     </td><td style=\"text-align: right;\">                                    1</td><td style=\"text-align: right;\">                                   31</td><td style=\"text-align: right;\">                                   31</td></tr>\n",
              "<tr><td style=\"text-align: right;\">   4</td><td style=\"text-align: right;\">      242</td><td>active  </td><td style=\"text-align: right;\">             23</td><td style=\"text-align: right;\">                              2</td><td style=\"text-align: right;\">                             20</td><td style=\"text-align: right;\">                            17</td><td>product_page             </td><td style=\"text-align: right;\">                    72105</td><td style=\"text-align: right;\">                   19251</td><td style=\"text-align: right;\">                   1.737e+07  </td><td style=\"text-align: right;\">                                          7</td><td style=\"text-align: right;\">                                         14</td><td style=\"text-align: right;\">                                         14</td><td style=\"text-align: right;\">                                   -1.00512e+07</td><td style=\"text-align: right;\">                                           0</td><td style=\"text-align: right;\">                                  -1.23372e+07</td><td style=\"text-align: right;\">                        2.51</td><td style=\"text-align: right;\">                                    1.06344e+07</td><td style=\"text-align: right;\">                                  4.3236e+06</td><td style=\"text-align: right;\">                                   1.38024e+07</td><td style=\"text-align: right;\">                369.9       </td><td style=\"text-align: right;\">                                     1.00569e+06</td><td style=\"text-align: right;\">                                     701345  </td><td style=\"text-align: right;\">                                    1.01144e+06</td><td style=\"text-align: right;\">                      37.8433</td><td style=\"text-align: right;\">                                    1.40796e+07</td><td style=\"text-align: right;\">                                 1.54296e+07</td><td style=\"text-align: right;\">                                   2.32632e+07</td><td style=\"text-align: right;\">               794.71       </td><td style=\"text-align: right;\">                                    5.26648e+06</td><td style=\"text-align: right;\">                                 1.26801e+06</td><td style=\"text-align: right;\">                                   5.81886e+06</td><td style=\"text-align: right;\">                77.0627     </td><td style=\"text-align: right;\">                                    1</td><td style=\"text-align: right;\">                                   39</td><td style=\"text-align: right;\">                                   38</td></tr>\n",
              "<tr><td style=\"text-align: right;\">   5</td><td style=\"text-align: right;\">      289</td><td>active  </td><td style=\"text-align: right;\">            322</td><td style=\"text-align: right;\">                              3</td><td style=\"text-align: right;\">                            175</td><td style=\"text-align: right;\">                            53</td><td>product_page             </td><td style=\"text-align: right;\">                     -999</td><td style=\"text-align: right;\">                   27272</td><td style=\"text-align: right;\">                   1.82628e+07</td><td style=\"text-align: right;\">                                         11</td><td style=\"text-align: right;\">                                         51</td><td style=\"text-align: right;\">                                         51</td><td style=\"text-align: right;\">                                   -1.8252e+07 </td><td style=\"text-align: right;\">                                           0</td><td style=\"text-align: right;\">                                  -1.49508e+07</td><td style=\"text-align: right;\">                        0.01</td><td style=\"text-align: right;\">                                    9.0828e+06 </td><td style=\"text-align: right;\">                                  3.2796e+06</td><td style=\"text-align: right;\">                                   9.5472e+06 </td><td style=\"text-align: right;\">                  4.1093e+07</td><td style=\"text-align: right;\">                                 43854.5        </td><td style=\"text-align: right;\">                                      56815  </td><td style=\"text-align: right;\">                                53697.2        </td><td style=\"text-align: right;\">                  195077     </td><td style=\"text-align: right;\">                                    9.648e+06  </td><td style=\"text-align: right;\">                                 1.82376e+07</td><td style=\"text-align: right;\">                                   1.72368e+07</td><td style=\"text-align: right;\">                 4.21367e+07</td><td style=\"text-align: right;\">                                    2.42885e+06</td><td style=\"text-align: right;\">                            221461          </td><td style=\"text-align: right;\">                                   2.74943e+06</td><td style=\"text-align: right;\">                 2.79659e+06</td><td style=\"text-align: right;\">                                    1</td><td style=\"text-align: right;\">                                   39</td><td style=\"text-align: right;\">                                   38</td></tr>\n",
              "<tr><td style=\"text-align: right;\">   6</td><td style=\"text-align: right;\">      306</td><td>churn   </td><td style=\"text-align: right;\">              6</td><td style=\"text-align: right;\">                              2</td><td style=\"text-align: right;\">                              6</td><td style=\"text-align: right;\">                             6</td><td>product_page             </td><td style=\"text-align: right;\">                    94474</td><td style=\"text-align: right;\">                    1559</td><td style=\"text-align: right;\">                   8.4996e+06 </td><td style=\"text-align: right;\">                                          5</td><td style=\"text-align: right;\">                                          6</td><td style=\"text-align: right;\">                                          6</td><td style=\"text-align: right;\">                                97200          </td><td style=\"text-align: right;\">                                           0</td><td style=\"text-align: right;\">                               90000          </td><td style=\"text-align: right;\">                       12   </td><td style=\"text-align: right;\">                                    1.1988e+06 </td><td style=\"text-align: right;\">                             691200         </td><td style=\"text-align: right;\">                                   1.8684e+06 </td><td style=\"text-align: right;\">                 48.97      </td><td style=\"text-align: right;\">                                732000          </td><td style=\"text-align: right;\">                                     293040  </td><td style=\"text-align: right;\">                               644400          </td><td style=\"text-align: right;\">                      28.8233</td><td style=\"text-align: right;\">                                    2.196e+06  </td><td style=\"text-align: right;\">                                 1.4652e+06 </td><td style=\"text-align: right;\">                                   2.5776e+06 </td><td style=\"text-align: right;\">               172.94       </td><td style=\"text-align: right;\">                               569692          </td><td style=\"text-align: right;\">                            267814          </td><td style=\"text-align: right;\">                              840624          </td><td style=\"text-align: right;\">                12.3845     </td><td style=\"text-align: right;\">                                    1</td><td style=\"text-align: right;\">                                    7</td><td style=\"text-align: right;\">                                   38</td></tr>\n",
              "<tr><td style=\"text-align: right;\">   7</td><td style=\"text-align: right;\">      349</td><td>churn   </td><td style=\"text-align: right;\">              1</td><td style=\"text-align: right;\">                              1</td><td style=\"text-align: right;\">                              1</td><td style=\"text-align: right;\">                             1</td><td>buy_order                </td><td style=\"text-align: right;\">                   420355</td><td style=\"text-align: right;\">                    8397</td><td style=\"text-align: right;\">                   8.3808e+06 </td><td style=\"text-align: right;\">                                          1</td><td style=\"text-align: right;\">                                          1</td><td style=\"text-align: right;\">                                          1</td><td style=\"text-align: right;\">                               212400          </td><td style=\"text-align: right;\">                                         nan</td><td style=\"text-align: right;\">                                  -2.376e+06  </td><td style=\"text-align: right;\">                       30.03</td><td style=\"text-align: right;\">                               212400          </td><td style=\"text-align: right;\">                                nan         </td><td style=\"text-align: right;\">                                  -2.376e+06  </td><td style=\"text-align: right;\">                 30.03      </td><td style=\"text-align: right;\">                                212400          </td><td style=\"text-align: right;\">                                        nan  </td><td style=\"text-align: right;\">                                   -2.376e+06  </td><td style=\"text-align: right;\">                      30.03  </td><td style=\"text-align: right;\">                               212400          </td><td style=\"text-align: right;\">                                 0          </td><td style=\"text-align: right;\">                                  -2.376e+06  </td><td style=\"text-align: right;\">                30.03       </td><td style=\"text-align: right;\">                                  nan          </td><td style=\"text-align: right;\">                               nan          </td><td style=\"text-align: right;\">                                 nan          </td><td style=\"text-align: right;\">               nan          </td><td style=\"text-align: right;\">                                    1</td><td style=\"text-align: right;\">                                   34</td><td style=\"text-align: right;\">                                  212</td></tr>\n",
              "<tr><td style=\"text-align: right;\">   8</td><td style=\"text-align: right;\">      369</td><td>active  </td><td style=\"text-align: right;\">            250</td><td style=\"text-align: right;\">                              3</td><td style=\"text-align: right;\">                            159</td><td style=\"text-align: right;\">                            28</td><td>product_page             </td><td style=\"text-align: right;\">                     -999</td><td style=\"text-align: right;\">                    4729</td><td style=\"text-align: right;\">                   1.78848e+07</td><td style=\"text-align: right;\">                                         10</td><td style=\"text-align: right;\">                                         52</td><td style=\"text-align: right;\">                                         52</td><td style=\"text-align: right;\">                                   -1.6416e+07 </td><td style=\"text-align: right;\">                                           0</td><td style=\"text-align: right;\">                                  -1.62432e+07</td><td style=\"text-align: right;\">                        0.01</td><td style=\"text-align: right;\">                                    4.7592e+06 </td><td style=\"text-align: right;\">                             748800         </td><td style=\"text-align: right;\">                                   1.06992e+07</td><td style=\"text-align: right;\">                554.97      </td><td style=\"text-align: right;\">                               -194247          </td><td style=\"text-align: right;\">                                      71016.9</td><td style=\"text-align: right;\">                              -182707          </td><td style=\"text-align: right;\">                      29.3561</td><td style=\"text-align: right;\">                                   -2.73888e+07</td><td style=\"text-align: right;\">                                 1.76832e+07</td><td style=\"text-align: right;\">                                  -4.56768e+07</td><td style=\"text-align: right;\">              5460.24       </td><td style=\"text-align: right;\">                                    2.0835e+06 </td><td style=\"text-align: right;\">                            110908          </td><td style=\"text-align: right;\">                                   2.48047e+06</td><td style=\"text-align: right;\">                67.9458     </td><td style=\"text-align: right;\">                                    1</td><td style=\"text-align: right;\">                                   39</td><td style=\"text-align: right;\">                                   38</td></tr>\n",
              "<tr><td style=\"text-align: right;\">   9</td><td style=\"text-align: right;\">      459</td><td>churn   </td><td style=\"text-align: right;\">              4</td><td style=\"text-align: right;\">                              2</td><td style=\"text-align: right;\">                              4</td><td style=\"text-align: right;\">                             4</td><td>product_page             </td><td style=\"text-align: right;\">                   119848</td><td style=\"text-align: right;\">                   20394</td><td style=\"text-align: right;\">                   5.0256e+06 </td><td style=\"text-align: right;\">                                          3</td><td style=\"text-align: right;\">                                          3</td><td style=\"text-align: right;\">                                          3</td><td style=\"text-align: right;\">                                  nan          </td><td style=\"text-align: right;\">                                           0</td><td style=\"text-align: right;\">                                  -1.5408e+06 </td><td style=\"text-align: right;\">                        0.01</td><td style=\"text-align: right;\">                                  nan          </td><td style=\"text-align: right;\">                                  1.4436e+06</td><td style=\"text-align: right;\">                               93600          </td><td style=\"text-align: right;\">               1011.05      </td><td style=\"text-align: right;\">                                   nan          </td><td style=\"text-align: right;\">                                     549600  </td><td style=\"text-align: right;\">                              -600000          </td><td style=\"text-align: right;\">                     287.097 </td><td style=\"text-align: right;\">                                    0          </td><td style=\"text-align: right;\">                                 1.6488e+06 </td><td style=\"text-align: right;\">                                  -1.8e+06    </td><td style=\"text-align: right;\">              1148.39       </td><td style=\"text-align: right;\">                                  nan          </td><td style=\"text-align: right;\">                            780995          </td><td style=\"text-align: right;\">                              844776          </td><td style=\"text-align: right;\">               485.345      </td><td style=\"text-align: right;\">                                    1</td><td style=\"text-align: right;\">                                   43</td><td style=\"text-align: right;\">                                  121</td></tr>\n",
              "</tbody>\n",
              "</table>"
            ]
          },
          "metadata": {
            "tags": []
          }
        },
        {
          "output_type": "execute_result",
          "data": {
            "text/plain": [
              ""
            ]
          },
          "metadata": {
            "tags": []
          },
          "execution_count": 107
        }
      ]
    },
    {
      "cell_type": "code",
      "metadata": {
        "id": "0jBNQMcN_20Z",
        "colab_type": "code",
        "outputId": "7910d86b-10c1-4464-a814-918ab1c61163",
        "colab": {
          "base_uri": "https://localhost:8080/",
          "height": 225
        }
      },
      "source": [
        "aml = H2OAutoML(max_models = 10, max_runtime_secs=300, seed = 1985, nfolds=10,\n",
        "                stopping_rounds=20, include_algos=['DRF', 'GBM'])\n",
        "aml.train(x = col_names, y = 'target', training_frame = hdf)\n",
        "\n",
        "# View the AutoML Leaderboard\n",
        "lb = aml.leaderboard\n",
        "lb.head(rows=lb.nrows)"
      ],
      "execution_count": 0,
      "outputs": [
        {
          "output_type": "stream",
          "text": [
            "AutoML progress: |████████████████████████████████████████████████████████| 100%\n"
          ],
          "name": "stdout"
        },
        {
          "output_type": "display_data",
          "data": {
            "text/html": [
              "<table>\n",
              "<thead>\n",
              "<tr><th>model_id                                 </th><th style=\"text-align: right;\">     auc</th><th style=\"text-align: right;\">  logloss</th><th style=\"text-align: right;\">  mean_per_class_error</th><th style=\"text-align: right;\">    rmse</th><th style=\"text-align: right;\">     mse</th></tr>\n",
              "</thead>\n",
              "<tbody>\n",
              "<tr><td>GBM_grid_1_AutoML_20190522_130101_model_1</td><td style=\"text-align: right;\">0.774468</td><td style=\"text-align: right;\"> 0.482863</td><td style=\"text-align: right;\">              0.479688</td><td style=\"text-align: right;\">0.396736</td><td style=\"text-align: right;\">0.157399</td></tr>\n",
              "<tr><td>DRF_1_AutoML_20190522_130101             </td><td style=\"text-align: right;\">0.76715 </td><td style=\"text-align: right;\"> 0.451057</td><td style=\"text-align: right;\">              0.47503 </td><td style=\"text-align: right;\">0.383486</td><td style=\"text-align: right;\">0.147062</td></tr>\n",
              "<tr><td>XRT_1_AutoML_20190522_130101             </td><td style=\"text-align: right;\">0.765192</td><td style=\"text-align: right;\"> 0.452051</td><td style=\"text-align: right;\">              0.473353</td><td style=\"text-align: right;\">0.383893</td><td style=\"text-align: right;\">0.147374</td></tr>\n",
              "<tr><td>GBM_4_AutoML_20190522_130101             </td><td style=\"text-align: right;\">0.760929</td><td style=\"text-align: right;\"> 0.506622</td><td style=\"text-align: right;\">              0.482203</td><td style=\"text-align: right;\">0.393187</td><td style=\"text-align: right;\">0.154596</td></tr>\n",
              "<tr><td>GBM_5_AutoML_20190522_130101             </td><td style=\"text-align: right;\">0.758886</td><td style=\"text-align: right;\"> 0.471302</td><td style=\"text-align: right;\">              0.478707</td><td style=\"text-align: right;\">0.388764</td><td style=\"text-align: right;\">0.151137</td></tr>\n",
              "<tr><td>GBM_3_AutoML_20190522_130101             </td><td style=\"text-align: right;\">0.75635 </td><td style=\"text-align: right;\"> 0.509461</td><td style=\"text-align: right;\">              0.484083</td><td style=\"text-align: right;\">0.393758</td><td style=\"text-align: right;\">0.155046</td></tr>\n",
              "<tr><td>GBM_2_AutoML_20190522_130101             </td><td style=\"text-align: right;\">0.755657</td><td style=\"text-align: right;\"> 0.511009</td><td style=\"text-align: right;\">              0.481692</td><td style=\"text-align: right;\">0.393919</td><td style=\"text-align: right;\">0.155172</td></tr>\n",
              "<tr><td>GBM_1_AutoML_20190522_130101             </td><td style=\"text-align: right;\">0.755264</td><td style=\"text-align: right;\"> 0.501814</td><td style=\"text-align: right;\">              0.480996</td><td style=\"text-align: right;\">0.392895</td><td style=\"text-align: right;\">0.154367</td></tr>\n",
              "</tbody>\n",
              "</table>"
            ]
          },
          "metadata": {
            "tags": []
          }
        },
        {
          "output_type": "execute_result",
          "data": {
            "text/plain": [
              ""
            ]
          },
          "metadata": {
            "tags": []
          },
          "execution_count": 90
        }
      ]
    },
    {
      "cell_type": "code",
      "metadata": {
        "id": "PJkbdT7_DKXU",
        "colab_type": "code",
        "outputId": "54a5df4b-4634-473e-a6e7-45cf4ad2165a",
        "colab": {
          "base_uri": "https://localhost:8080/",
          "height": 3547
        }
      },
      "source": [
        "best_mdl = aml.leader\n",
        "best_mdl.auc\n"
      ],
      "execution_count": 0,
      "outputs": [
        {
          "output_type": "stream",
          "text": [
            "Model Details\n",
            "=============\n",
            "H2OGradientBoostingEstimator :  Gradient Boosting Machine\n",
            "Model Key:  GBM_grid_1_AutoML_20190522_130101_model_1\n",
            "\n",
            "\n",
            "ModelMetricsBinomial: gbm\n",
            "** Reported on train data. **\n",
            "\n",
            "MSE: 0.1503347532899899\n",
            "RMSE: 0.3877302584142614\n",
            "LogLoss: 0.46365227817712773\n",
            "Mean Per-Class Error: 0.2072669172932331\n",
            "AUC: 0.8357718850698174\n",
            "pr_auc: 0.9492432947246796\n",
            "Gini: 0.6715437701396347\n",
            "Confusion Matrix (Act/Pred) for max f1 @ threshold = 0.6854811686639226: \n"
          ],
          "name": "stdout"
        },
        {
          "output_type": "display_data",
          "data": {
            "text/html": [
              "<div style=\"overflow:auto\"><table style=\"width:50%\"><tr><td><b></b></td>\n",
              "<td><b>active</b></td>\n",
              "<td><b>churn</b></td>\n",
              "<td><b>Error</b></td>\n",
              "<td><b>Rate</b></td></tr>\n",
              "<tr><td>active</td>\n",
              "<td>148.0</td>\n",
              "<td>916.0</td>\n",
              "<td>0.8609</td>\n",
              "<td> (916.0/1064.0)</td></tr>\n",
              "<tr><td>churn</td>\n",
              "<td>34.0</td>\n",
              "<td>3466.0</td>\n",
              "<td>0.0097</td>\n",
              "<td> (34.0/3500.0)</td></tr>\n",
              "<tr><td>Total</td>\n",
              "<td>182.0</td>\n",
              "<td>4382.0</td>\n",
              "<td>0.2082</td>\n",
              "<td> (950.0/4564.0)</td></tr></table></div>"
            ],
            "text/plain": [
              "        active    churn    Error    Rate\n",
              "------  --------  -------  -------  --------------\n",
              "active  148       916      0.8609   (916.0/1064.0)\n",
              "churn   34        3466     0.0097   (34.0/3500.0)\n",
              "Total   182       4382     0.2082   (950.0/4564.0)"
            ]
          },
          "metadata": {
            "tags": []
          }
        },
        {
          "output_type": "stream",
          "text": [
            "Maximum Metrics: Maximum metrics at their respective thresholds\n",
            "\n"
          ],
          "name": "stdout"
        },
        {
          "output_type": "display_data",
          "data": {
            "text/html": [
              "<div style=\"overflow:auto\"><table style=\"width:50%\"><tr><td><b>metric</b></td>\n",
              "<td><b>threshold</b></td>\n",
              "<td><b>value</b></td>\n",
              "<td><b>idx</b></td></tr>\n",
              "<tr><td>max f1</td>\n",
              "<td>0.6854812</td>\n",
              "<td>0.8794722</td>\n",
              "<td>305.0</td></tr>\n",
              "<tr><td>max f2</td>\n",
              "<td>0.5976031</td>\n",
              "<td>0.9444775</td>\n",
              "<td>356.0</td></tr>\n",
              "<tr><td>max f0point5</td>\n",
              "<td>0.7676380</td>\n",
              "<td>0.8862161</td>\n",
              "<td>213.0</td></tr>\n",
              "<tr><td>max accuracy</td>\n",
              "<td>0.6854812</td>\n",
              "<td>0.7918493</td>\n",
              "<td>305.0</td></tr>\n",
              "<tr><td>max precision</td>\n",
              "<td>0.8616735</td>\n",
              "<td>1.0</td>\n",
              "<td>0.0</td></tr>\n",
              "<tr><td>max recall</td>\n",
              "<td>0.5535763</td>\n",
              "<td>1.0</td>\n",
              "<td>374.0</td></tr>\n",
              "<tr><td>max specificity</td>\n",
              "<td>0.8616735</td>\n",
              "<td>1.0</td>\n",
              "<td>0.0</td></tr>\n",
              "<tr><td>max absolute_mcc</td>\n",
              "<td>0.7809821</td>\n",
              "<td>0.4956328</td>\n",
              "<td>194.0</td></tr>\n",
              "<tr><td>max min_per_class_accuracy</td>\n",
              "<td>0.6887861</td>\n",
              "<td>0.7405714</td>\n",
              "<td>302.0</td></tr>\n",
              "<tr><td>max mean_per_class_accuracy</td>\n",
              "<td>0.7809821</td>\n",
              "<td>0.7927331</td>\n",
              "<td>194.0</td></tr></table></div>"
            ],
            "text/plain": [
              "metric                       threshold    value     idx\n",
              "---------------------------  -----------  --------  -----\n",
              "max f1                       0.685481     0.879472  305\n",
              "max f2                       0.597603     0.944477  356\n",
              "max f0point5                 0.767638     0.886216  213\n",
              "max accuracy                 0.685481     0.791849  305\n",
              "max precision                0.861673     1         0\n",
              "max recall                   0.553576     1         374\n",
              "max specificity              0.861673     1         0\n",
              "max absolute_mcc             0.780982     0.495633  194\n",
              "max min_per_class_accuracy   0.688786     0.740571  302\n",
              "max mean_per_class_accuracy  0.780982     0.792733  194"
            ]
          },
          "metadata": {
            "tags": []
          }
        },
        {
          "output_type": "stream",
          "text": [
            "Gains/Lift Table: Avg response rate: 76.69 %, avg score: 76.66 %\n",
            "\n"
          ],
          "name": "stdout"
        },
        {
          "output_type": "display_data",
          "data": {
            "text/html": [
              "<div style=\"overflow:auto\"><table style=\"width:50%\"><tr><td><b></b></td>\n",
              "<td><b>group</b></td>\n",
              "<td><b>cumulative_data_fraction</b></td>\n",
              "<td><b>lower_threshold</b></td>\n",
              "<td><b>lift</b></td>\n",
              "<td><b>cumulative_lift</b></td>\n",
              "<td><b>response_rate</b></td>\n",
              "<td><b>score</b></td>\n",
              "<td><b>cumulative_response_rate</b></td>\n",
              "<td><b>cumulative_score</b></td>\n",
              "<td><b>capture_rate</b></td>\n",
              "<td><b>cumulative_capture_rate</b></td>\n",
              "<td><b>gain</b></td>\n",
              "<td><b>cumulative_gain</b></td></tr>\n",
              "<tr><td></td>\n",
              "<td>1</td>\n",
              "<td>0.0100789</td>\n",
              "<td>0.8606274</td>\n",
              "<td>1.304</td>\n",
              "<td>1.304</td>\n",
              "<td>1.0</td>\n",
              "<td>0.8611870</td>\n",
              "<td>1.0</td>\n",
              "<td>0.8611870</td>\n",
              "<td>0.0131429</td>\n",
              "<td>0.0131429</td>\n",
              "<td>30.4000000</td>\n",
              "<td>30.4000000</td></tr>\n",
              "<tr><td></td>\n",
              "<td>2</td>\n",
              "<td>0.0201578</td>\n",
              "<td>0.8597981</td>\n",
              "<td>1.304</td>\n",
              "<td>1.304</td>\n",
              "<td>1.0</td>\n",
              "<td>0.8602066</td>\n",
              "<td>1.0</td>\n",
              "<td>0.8606968</td>\n",
              "<td>0.0131429</td>\n",
              "<td>0.0262857</td>\n",
              "<td>30.4000000</td>\n",
              "<td>30.4000000</td></tr>\n",
              "<tr><td></td>\n",
              "<td>3</td>\n",
              "<td>0.0300175</td>\n",
              "<td>0.8590749</td>\n",
              "<td>1.304</td>\n",
              "<td>1.304</td>\n",
              "<td>1.0</td>\n",
              "<td>0.8594263</td>\n",
              "<td>1.0</td>\n",
              "<td>0.8602795</td>\n",
              "<td>0.0128571</td>\n",
              "<td>0.0391429</td>\n",
              "<td>30.4000000</td>\n",
              "<td>30.4000000</td></tr>\n",
              "<tr><td></td>\n",
              "<td>4</td>\n",
              "<td>0.0400964</td>\n",
              "<td>0.8583588</td>\n",
              "<td>1.304</td>\n",
              "<td>1.304</td>\n",
              "<td>1.0</td>\n",
              "<td>0.8587065</td>\n",
              "<td>1.0</td>\n",
              "<td>0.8598841</td>\n",
              "<td>0.0131429</td>\n",
              "<td>0.0522857</td>\n",
              "<td>30.4000000</td>\n",
              "<td>30.4000000</td></tr>\n",
              "<tr><td></td>\n",
              "<td>5</td>\n",
              "<td>0.0501753</td>\n",
              "<td>0.8575980</td>\n",
              "<td>1.304</td>\n",
              "<td>1.304</td>\n",
              "<td>1.0</td>\n",
              "<td>0.8579902</td>\n",
              "<td>1.0</td>\n",
              "<td>0.8595036</td>\n",
              "<td>0.0131429</td>\n",
              "<td>0.0654286</td>\n",
              "<td>30.4000000</td>\n",
              "<td>30.4000000</td></tr>\n",
              "<tr><td></td>\n",
              "<td>6</td>\n",
              "<td>0.1001315</td>\n",
              "<td>0.8544160</td>\n",
              "<td>1.304</td>\n",
              "<td>1.304</td>\n",
              "<td>1.0</td>\n",
              "<td>0.8560445</td>\n",
              "<td>1.0</td>\n",
              "<td>0.8577779</td>\n",
              "<td>0.0651429</td>\n",
              "<td>0.1305714</td>\n",
              "<td>30.4000000</td>\n",
              "<td>30.4000000</td></tr>\n",
              "<tr><td></td>\n",
              "<td>7</td>\n",
              "<td>0.1500876</td>\n",
              "<td>0.8502591</td>\n",
              "<td>1.304</td>\n",
              "<td>1.304</td>\n",
              "<td>1.0</td>\n",
              "<td>0.8524193</td>\n",
              "<td>1.0</td>\n",
              "<td>0.8559943</td>\n",
              "<td>0.0651429</td>\n",
              "<td>0.1957143</td>\n",
              "<td>30.4000000</td>\n",
              "<td>30.4000000</td></tr>\n",
              "<tr><td></td>\n",
              "<td>8</td>\n",
              "<td>0.2000438</td>\n",
              "<td>0.8445756</td>\n",
              "<td>1.2982807</td>\n",
              "<td>1.3025717</td>\n",
              "<td>0.9956140</td>\n",
              "<td>0.8474397</td>\n",
              "<td>0.9989047</td>\n",
              "<td>0.8538580</td>\n",
              "<td>0.0648571</td>\n",
              "<td>0.2605714</td>\n",
              "<td>29.8280702</td>\n",
              "<td>30.2571742</td></tr>\n",
              "<tr><td></td>\n",
              "<td>9</td>\n",
              "<td>0.2999562</td>\n",
              "<td>0.8351733</td>\n",
              "<td>1.2925614</td>\n",
              "<td>1.2992374</td>\n",
              "<td>0.9912281</td>\n",
              "<td>0.8396724</td>\n",
              "<td>0.9963477</td>\n",
              "<td>0.8491329</td>\n",
              "<td>0.1291429</td>\n",
              "<td>0.3897143</td>\n",
              "<td>29.2561404</td>\n",
              "<td>29.9237400</td></tr>\n",
              "<tr><td></td>\n",
              "<td>10</td>\n",
              "<td>0.4000876</td>\n",
              "<td>0.8188184</td>\n",
              "<td>1.2783195</td>\n",
              "<td>1.2940022</td>\n",
              "<td>0.9803063</td>\n",
              "<td>0.8281385</td>\n",
              "<td>0.9923330</td>\n",
              "<td>0.8438785</td>\n",
              "<td>0.128</td>\n",
              "<td>0.5177143</td>\n",
              "<td>27.8319475</td>\n",
              "<td>29.4002191</td></tr>\n",
              "<tr><td></td>\n",
              "<td>11</td>\n",
              "<td>0.5</td>\n",
              "<td>0.7917237</td>\n",
              "<td>1.1695965</td>\n",
              "<td>1.2691429</td>\n",
              "<td>0.8969298</td>\n",
              "<td>0.8064240</td>\n",
              "<td>0.9732691</td>\n",
              "<td>0.8363942</td>\n",
              "<td>0.1168571</td>\n",
              "<td>0.6345714</td>\n",
              "<td>16.9596491</td>\n",
              "<td>26.9142857</td></tr>\n",
              "<tr><td></td>\n",
              "<td>12</td>\n",
              "<td>0.5999124</td>\n",
              "<td>0.7221118</td>\n",
              "<td>0.8979298</td>\n",
              "<td>1.2073192</td>\n",
              "<td>0.6885965</td>\n",
              "<td>0.7642040</td>\n",
              "<td>0.9258583</td>\n",
              "<td>0.8243713</td>\n",
              "<td>0.0897143</td>\n",
              "<td>0.7242857</td>\n",
              "<td>-10.2070175</td>\n",
              "<td>20.7319211</td></tr>\n",
              "<tr><td></td>\n",
              "<td>13</td>\n",
              "<td>0.9590272</td>\n",
              "<td>0.6860840</td>\n",
              "<td>0.7391190</td>\n",
              "<td>1.0319982</td>\n",
              "<td>0.5668090</td>\n",
              "<td>0.6875045</td>\n",
              "<td>0.7914096</td>\n",
              "<td>0.7731205</td>\n",
              "<td>0.2654286</td>\n",
              "<td>0.9897143</td>\n",
              "<td>-26.0881025</td>\n",
              "<td>3.1998172</td></tr>\n",
              "<tr><td></td>\n",
              "<td>14</td>\n",
              "<td>1.0</td>\n",
              "<td>0.4810067</td>\n",
              "<td>0.2510374</td>\n",
              "<td>1.0</td>\n",
              "<td>0.1925134</td>\n",
              "<td>0.6136396</td>\n",
              "<td>0.7668712</td>\n",
              "<td>0.7665861</td>\n",
              "<td>0.0102857</td>\n",
              "<td>1.0</td>\n",
              "<td>-74.8962567</td>\n",
              "<td>0.0</td></tr></table></div>"
            ],
            "text/plain": [
              "    group    cumulative_data_fraction    lower_threshold    lift      cumulative_lift    response_rate    score     cumulative_response_rate    cumulative_score    capture_rate    cumulative_capture_rate    gain      cumulative_gain\n",
              "--  -------  --------------------------  -----------------  --------  -----------------  ---------------  --------  --------------------------  ------------------  --------------  -------------------------  --------  -----------------\n",
              "    1        0.0100789                   0.860627           1.304     1.304              1                0.861187  1                           0.861187            0.0131429       0.0131429                  30.4      30.4\n",
              "    2        0.0201578                   0.859798           1.304     1.304              1                0.860207  1                           0.860697            0.0131429       0.0262857                  30.4      30.4\n",
              "    3        0.0300175                   0.859075           1.304     1.304              1                0.859426  1                           0.860279            0.0128571       0.0391429                  30.4      30.4\n",
              "    4        0.0400964                   0.858359           1.304     1.304              1                0.858707  1                           0.859884            0.0131429       0.0522857                  30.4      30.4\n",
              "    5        0.0501753                   0.857598           1.304     1.304              1                0.85799   1                           0.859504            0.0131429       0.0654286                  30.4      30.4\n",
              "    6        0.100131                    0.854416           1.304     1.304              1                0.856044  1                           0.857778            0.0651429       0.130571                   30.4      30.4\n",
              "    7        0.150088                    0.850259           1.304     1.304              1                0.852419  1                           0.855994            0.0651429       0.195714                   30.4      30.4\n",
              "    8        0.200044                    0.844576           1.29828   1.30257            0.995614         0.84744   0.998905                    0.853858            0.0648571       0.260571                   29.8281   30.2572\n",
              "    9        0.299956                    0.835173           1.29256   1.29924            0.991228         0.839672  0.996348                    0.849133            0.129143        0.389714                   29.2561   29.9237\n",
              "    10       0.400088                    0.818818           1.27832   1.294              0.980306         0.828138  0.992333                    0.843879            0.128           0.517714                   27.8319   29.4002\n",
              "    11       0.5                         0.791724           1.1696    1.26914            0.89693          0.806424  0.973269                    0.836394            0.116857        0.634571                   16.9596   26.9143\n",
              "    12       0.599912                    0.722112           0.89793   1.20732            0.688596         0.764204  0.925858                    0.824371            0.0897143       0.724286                   -10.207   20.7319\n",
              "    13       0.959027                    0.686084           0.739119  1.032              0.566809         0.687505  0.79141                     0.773121            0.265429        0.989714                   -26.0881  3.19982\n",
              "    14       1                           0.481007           0.251037  1                  0.192513         0.61364   0.766871                    0.766586            0.0102857       1                          -74.8963  0"
            ]
          },
          "metadata": {
            "tags": []
          }
        },
        {
          "output_type": "stream",
          "text": [
            "\n",
            "\n",
            "ModelMetricsBinomial: gbm\n",
            "** Reported on cross-validation data. **\n",
            "\n",
            "MSE: 0.15739925782190173\n",
            "RMSE: 0.39673575314294746\n",
            "LogLoss: 0.48286304662349744\n",
            "Mean Per-Class Error: 0.26228195488721806\n",
            "AUC: 0.7744676423200859\n",
            "pr_auc: 0.9167964786291396\n",
            "Gini: 0.5489352846401718\n",
            "Confusion Matrix (Act/Pred) for max f1 @ threshold = 0.6203208699125409: \n"
          ],
          "name": "stdout"
        },
        {
          "output_type": "display_data",
          "data": {
            "text/html": [
              "<div style=\"overflow:auto\"><table style=\"width:50%\"><tr><td><b></b></td>\n",
              "<td><b>active</b></td>\n",
              "<td><b>churn</b></td>\n",
              "<td><b>Error</b></td>\n",
              "<td><b>Rate</b></td></tr>\n",
              "<tr><td>active</td>\n",
              "<td>49.0</td>\n",
              "<td>1015.0</td>\n",
              "<td>0.9539</td>\n",
              "<td> (1015.0/1064.0)</td></tr>\n",
              "<tr><td>churn</td>\n",
              "<td>19.0</td>\n",
              "<td>3481.0</td>\n",
              "<td>0.0054</td>\n",
              "<td> (19.0/3500.0)</td></tr>\n",
              "<tr><td>Total</td>\n",
              "<td>68.0</td>\n",
              "<td>4496.0</td>\n",
              "<td>0.2266</td>\n",
              "<td> (1034.0/4564.0)</td></tr></table></div>"
            ],
            "text/plain": [
              "        active    churn    Error    Rate\n",
              "------  --------  -------  -------  ---------------\n",
              "active  49        1015     0.9539   (1015.0/1064.0)\n",
              "churn   19        3481     0.0054   (19.0/3500.0)\n",
              "Total   68        4496     0.2266   (1034.0/4564.0)"
            ]
          },
          "metadata": {
            "tags": []
          }
        },
        {
          "output_type": "stream",
          "text": [
            "Maximum Metrics: Maximum metrics at their respective thresholds\n",
            "\n"
          ],
          "name": "stdout"
        },
        {
          "output_type": "display_data",
          "data": {
            "text/html": [
              "<div style=\"overflow:auto\"><table style=\"width:50%\"><tr><td><b>metric</b></td>\n",
              "<td><b>threshold</b></td>\n",
              "<td><b>value</b></td>\n",
              "<td><b>idx</b></td></tr>\n",
              "<tr><td>max f1</td>\n",
              "<td>0.6203209</td>\n",
              "<td>0.8706853</td>\n",
              "<td>355.0</td></tr>\n",
              "<tr><td>max f2</td>\n",
              "<td>0.4369083</td>\n",
              "<td>0.9428371</td>\n",
              "<td>396.0</td></tr>\n",
              "<tr><td>max f0point5</td>\n",
              "<td>0.7424468</td>\n",
              "<td>0.8578226</td>\n",
              "<td>262.0</td></tr>\n",
              "<tr><td>max accuracy</td>\n",
              "<td>0.6412685</td>\n",
              "<td>0.7738826</td>\n",
              "<td>342.0</td></tr>\n",
              "<tr><td>max precision</td>\n",
              "<td>0.8992703</td>\n",
              "<td>1.0</td>\n",
              "<td>0.0</td></tr>\n",
              "<tr><td>max recall</td>\n",
              "<td>0.4369083</td>\n",
              "<td>1.0</td>\n",
              "<td>396.0</td></tr>\n",
              "<tr><td>max specificity</td>\n",
              "<td>0.8992703</td>\n",
              "<td>1.0</td>\n",
              "<td>0.0</td></tr>\n",
              "<tr><td>max absolute_mcc</td>\n",
              "<td>0.7559405</td>\n",
              "<td>0.4063221</td>\n",
              "<td>246.0</td></tr>\n",
              "<tr><td>max min_per_class_accuracy</td>\n",
              "<td>0.7062403</td>\n",
              "<td>0.722</td>\n",
              "<td>294.0</td></tr>\n",
              "<tr><td>max mean_per_class_accuracy</td>\n",
              "<td>0.7559405</td>\n",
              "<td>0.7377180</td>\n",
              "<td>246.0</td></tr></table></div>"
            ],
            "text/plain": [
              "metric                       threshold    value     idx\n",
              "---------------------------  -----------  --------  -----\n",
              "max f1                       0.620321     0.870685  355\n",
              "max f2                       0.436908     0.942837  396\n",
              "max f0point5                 0.742447     0.857823  262\n",
              "max accuracy                 0.641268     0.773883  342\n",
              "max precision                0.89927      1         0\n",
              "max recall                   0.436908     1         396\n",
              "max specificity              0.89927      1         0\n",
              "max absolute_mcc             0.755941     0.406322  246\n",
              "max min_per_class_accuracy   0.70624      0.722     294\n",
              "max mean_per_class_accuracy  0.755941     0.737718  246"
            ]
          },
          "metadata": {
            "tags": []
          }
        },
        {
          "output_type": "stream",
          "text": [
            "Gains/Lift Table: Avg response rate: 76.69 %, avg score: 76.73 %\n",
            "\n"
          ],
          "name": "stdout"
        },
        {
          "output_type": "display_data",
          "data": {
            "text/html": [
              "<div style=\"overflow:auto\"><table style=\"width:50%\"><tr><td><b></b></td>\n",
              "<td><b>group</b></td>\n",
              "<td><b>cumulative_data_fraction</b></td>\n",
              "<td><b>lower_threshold</b></td>\n",
              "<td><b>lift</b></td>\n",
              "<td><b>cumulative_lift</b></td>\n",
              "<td><b>response_rate</b></td>\n",
              "<td><b>score</b></td>\n",
              "<td><b>cumulative_response_rate</b></td>\n",
              "<td><b>cumulative_score</b></td>\n",
              "<td><b>capture_rate</b></td>\n",
              "<td><b>cumulative_capture_rate</b></td>\n",
              "<td><b>gain</b></td>\n",
              "<td><b>cumulative_gain</b></td></tr>\n",
              "<tr><td></td>\n",
              "<td>1</td>\n",
              "<td>0.0100789</td>\n",
              "<td>0.8929582</td>\n",
              "<td>1.2756522</td>\n",
              "<td>1.2756522</td>\n",
              "<td>0.9782609</td>\n",
              "<td>0.8955569</td>\n",
              "<td>0.9782609</td>\n",
              "<td>0.8955569</td>\n",
              "<td>0.0128571</td>\n",
              "<td>0.0128571</td>\n",
              "<td>27.5652174</td>\n",
              "<td>27.5652174</td></tr>\n",
              "<tr><td></td>\n",
              "<td>2</td>\n",
              "<td>0.0201578</td>\n",
              "<td>0.8881638</td>\n",
              "<td>1.304</td>\n",
              "<td>1.2898261</td>\n",
              "<td>1.0</td>\n",
              "<td>0.8903182</td>\n",
              "<td>0.9891304</td>\n",
              "<td>0.8929375</td>\n",
              "<td>0.0131429</td>\n",
              "<td>0.026</td>\n",
              "<td>30.4000000</td>\n",
              "<td>28.9826087</td></tr>\n",
              "<tr><td></td>\n",
              "<td>3</td>\n",
              "<td>0.0300175</td>\n",
              "<td>0.8830163</td>\n",
              "<td>1.2750222</td>\n",
              "<td>1.2849635</td>\n",
              "<td>0.9777778</td>\n",
              "<td>0.8856390</td>\n",
              "<td>0.9854015</td>\n",
              "<td>0.8905402</td>\n",
              "<td>0.0125714</td>\n",
              "<td>0.0385714</td>\n",
              "<td>27.5022222</td>\n",
              "<td>28.4963504</td></tr>\n",
              "<tr><td></td>\n",
              "<td>4</td>\n",
              "<td>0.0400964</td>\n",
              "<td>0.8769863</td>\n",
              "<td>1.2756522</td>\n",
              "<td>1.2826230</td>\n",
              "<td>0.9782609</td>\n",
              "<td>0.8798346</td>\n",
              "<td>0.9836066</td>\n",
              "<td>0.8878492</td>\n",
              "<td>0.0128571</td>\n",
              "<td>0.0514286</td>\n",
              "<td>27.5652174</td>\n",
              "<td>28.2622951</td></tr>\n",
              "<tr><td></td>\n",
              "<td>5</td>\n",
              "<td>0.0501753</td>\n",
              "<td>0.8704635</td>\n",
              "<td>1.1906087</td>\n",
              "<td>1.2641397</td>\n",
              "<td>0.9130435</td>\n",
              "<td>0.8741007</td>\n",
              "<td>0.9694323</td>\n",
              "<td>0.8850875</td>\n",
              "<td>0.012</td>\n",
              "<td>0.0634286</td>\n",
              "<td>19.0608696</td>\n",
              "<td>26.4139738</td></tr>\n",
              "<tr><td></td>\n",
              "<td>6</td>\n",
              "<td>0.1001315</td>\n",
              "<td>0.8492090</td>\n",
              "<td>1.2696842</td>\n",
              "<td>1.2669059</td>\n",
              "<td>0.9736842</td>\n",
              "<td>0.8556129</td>\n",
              "<td>0.9715536</td>\n",
              "<td>0.8703824</td>\n",
              "<td>0.0634286</td>\n",
              "<td>0.1268571</td>\n",
              "<td>26.9684211</td>\n",
              "<td>26.6905908</td></tr>\n",
              "<tr><td></td>\n",
              "<td>7</td>\n",
              "<td>0.1500876</td>\n",
              "<td>0.8444992</td>\n",
              "<td>1.2639649</td>\n",
              "<td>1.2659270</td>\n",
              "<td>0.9692982</td>\n",
              "<td>0.8466023</td>\n",
              "<td>0.9708029</td>\n",
              "<td>0.8624673</td>\n",
              "<td>0.0631429</td>\n",
              "<td>0.19</td>\n",
              "<td>26.3964912</td>\n",
              "<td>26.5927007</td></tr>\n",
              "<tr><td></td>\n",
              "<td>8</td>\n",
              "<td>0.2000438</td>\n",
              "<td>0.8399228</td>\n",
              "<td>1.2525263</td>\n",
              "<td>1.2625805</td>\n",
              "<td>0.9605263</td>\n",
              "<td>0.8423153</td>\n",
              "<td>0.9682366</td>\n",
              "<td>0.8574348</td>\n",
              "<td>0.0625714</td>\n",
              "<td>0.2525714</td>\n",
              "<td>25.2526316</td>\n",
              "<td>26.2580504</td></tr>\n",
              "<tr><td></td>\n",
              "<td>9</td>\n",
              "<td>0.2999562</td>\n",
              "<td>0.8291189</td>\n",
              "<td>1.2039123</td>\n",
              "<td>1.2430387</td>\n",
              "<td>0.9232456</td>\n",
              "<td>0.8345648</td>\n",
              "<td>0.9532505</td>\n",
              "<td>0.8498171</td>\n",
              "<td>0.1202857</td>\n",
              "<td>0.3728571</td>\n",
              "<td>20.3912281</td>\n",
              "<td>24.3038714</td></tr>\n",
              "<tr><td></td>\n",
              "<td>10</td>\n",
              "<td>0.4000876</td>\n",
              "<td>0.8154016</td>\n",
              "<td>1.2069847</td>\n",
              "<td>1.2340153</td>\n",
              "<td>0.9256018</td>\n",
              "<td>0.8229413</td>\n",
              "<td>0.9463308</td>\n",
              "<td>0.8430907</td>\n",
              "<td>0.1208571</td>\n",
              "<td>0.4937143</td>\n",
              "<td>20.6984683</td>\n",
              "<td>23.4015334</td></tr>\n",
              "<tr><td></td>\n",
              "<td>11</td>\n",
              "<td>0.5</td>\n",
              "<td>0.7900565</td>\n",
              "<td>1.1238421</td>\n",
              "<td>1.212</td>\n",
              "<td>0.8618421</td>\n",
              "<td>0.8041239</td>\n",
              "<td>0.9294479</td>\n",
              "<td>0.8353042</td>\n",
              "<td>0.1122857</td>\n",
              "<td>0.606</td>\n",
              "<td>12.3842105</td>\n",
              "<td>21.2000000</td></tr>\n",
              "<tr><td></td>\n",
              "<td>12</td>\n",
              "<td>0.5999124</td>\n",
              "<td>0.7332816</td>\n",
              "<td>1.0123158</td>\n",
              "<td>1.1787436</td>\n",
              "<td>0.7763158</td>\n",
              "<td>0.7666156</td>\n",
              "<td>0.9039445</td>\n",
              "<td>0.8238645</td>\n",
              "<td>0.1011429</td>\n",
              "<td>0.7071429</td>\n",
              "<td>1.2315789</td>\n",
              "<td>17.8743608</td></tr>\n",
              "<tr><td></td>\n",
              "<td>13</td>\n",
              "<td>0.7258983</td>\n",
              "<td>0.6984419</td>\n",
              "<td>0.7506504</td>\n",
              "<td>1.1044443</td>\n",
              "<td>0.5756522</td>\n",
              "<td>0.7028912</td>\n",
              "<td>0.8469665</td>\n",
              "<td>0.8028685</td>\n",
              "<td>0.0945714</td>\n",
              "<td>0.8017143</td>\n",
              "<td>-24.9349565</td>\n",
              "<td>10.4444310</td></tr>\n",
              "<tr><td></td>\n",
              "<td>14</td>\n",
              "<td>0.8315074</td>\n",
              "<td>0.6911278</td>\n",
              "<td>0.7629212</td>\n",
              "<td>1.0610677</td>\n",
              "<td>0.5850622</td>\n",
              "<td>0.6937498</td>\n",
              "<td>0.8137022</td>\n",
              "<td>0.7890094</td>\n",
              "<td>0.0805714</td>\n",
              "<td>0.8822857</td>\n",
              "<td>-23.7078838</td>\n",
              "<td>6.1067721</td></tr>\n",
              "<tr><td></td>\n",
              "<td>15</td>\n",
              "<td>0.8998685</td>\n",
              "<td>0.6720491</td>\n",
              "<td>0.7523077</td>\n",
              "<td>1.0376119</td>\n",
              "<td>0.5769231</td>\n",
              "<td>0.6898217</td>\n",
              "<td>0.7957146</td>\n",
              "<td>0.7814743</td>\n",
              "<td>0.0514286</td>\n",
              "<td>0.9337143</td>\n",
              "<td>-24.7692308</td>\n",
              "<td>3.7611882</td></tr>\n",
              "<tr><td></td>\n",
              "<td>16</td>\n",
              "<td>1.0</td>\n",
              "<td>0.3826333</td>\n",
              "<td>0.6619869</td>\n",
              "<td>1.0</td>\n",
              "<td>0.5076586</td>\n",
              "<td>0.6400178</td>\n",
              "<td>0.7668712</td>\n",
              "<td>0.7673101</td>\n",
              "<td>0.0662857</td>\n",
              "<td>1.0</td>\n",
              "<td>-33.8013129</td>\n",
              "<td>0.0</td></tr></table></div>"
            ],
            "text/plain": [
              "    group    cumulative_data_fraction    lower_threshold    lift      cumulative_lift    response_rate    score     cumulative_response_rate    cumulative_score    capture_rate    cumulative_capture_rate    gain      cumulative_gain\n",
              "--  -------  --------------------------  -----------------  --------  -----------------  ---------------  --------  --------------------------  ------------------  --------------  -------------------------  --------  -----------------\n",
              "    1        0.0100789                   0.892958           1.27565   1.27565            0.978261         0.895557  0.978261                    0.895557            0.0128571       0.0128571                  27.5652   27.5652\n",
              "    2        0.0201578                   0.888164           1.304     1.28983            1                0.890318  0.98913                     0.892938            0.0131429       0.026                      30.4      28.9826\n",
              "    3        0.0300175                   0.883016           1.27502   1.28496            0.977778         0.885639  0.985401                    0.89054             0.0125714       0.0385714                  27.5022   28.4964\n",
              "    4        0.0400964                   0.876986           1.27565   1.28262            0.978261         0.879835  0.983607                    0.887849            0.0128571       0.0514286                  27.5652   28.2623\n",
              "    5        0.0501753                   0.870463           1.19061   1.26414            0.913043         0.874101  0.969432                    0.885087            0.012           0.0634286                  19.0609   26.414\n",
              "    6        0.100131                    0.849209           1.26968   1.26691            0.973684         0.855613  0.971554                    0.870382            0.0634286       0.126857                   26.9684   26.6906\n",
              "    7        0.150088                    0.844499           1.26396   1.26593            0.969298         0.846602  0.970803                    0.862467            0.0631429       0.19                       26.3965   26.5927\n",
              "    8        0.200044                    0.839923           1.25253   1.26258            0.960526         0.842315  0.968237                    0.857435            0.0625714       0.252571                   25.2526   26.2581\n",
              "    9        0.299956                    0.829119           1.20391   1.24304            0.923246         0.834565  0.953251                    0.849817            0.120286        0.372857                   20.3912   24.3039\n",
              "    10       0.400088                    0.815402           1.20698   1.23402            0.925602         0.822941  0.946331                    0.843091            0.120857        0.493714                   20.6985   23.4015\n",
              "    11       0.5                         0.790056           1.12384   1.212              0.861842         0.804124  0.929448                    0.835304            0.112286        0.606                      12.3842   21.2\n",
              "    12       0.599912                    0.733282           1.01232   1.17874            0.776316         0.766616  0.903944                    0.823864            0.101143        0.707143                   1.23158   17.8744\n",
              "    13       0.725898                    0.698442           0.75065   1.10444            0.575652         0.702891  0.846966                    0.802869            0.0945714       0.801714                   -24.935   10.4444\n",
              "    14       0.831507                    0.691128           0.762921  1.06107            0.585062         0.69375   0.813702                    0.789009            0.0805714       0.882286                   -23.7079  6.10677\n",
              "    15       0.899869                    0.672049           0.752308  1.03761            0.576923         0.689822  0.795715                    0.781474            0.0514286       0.933714                   -24.7692  3.76119\n",
              "    16       1                           0.382633           0.661987  1                  0.507659         0.640018  0.766871                    0.76731             0.0662857       1                          -33.8013  0"
            ]
          },
          "metadata": {
            "tags": []
          }
        },
        {
          "output_type": "stream",
          "text": [
            "\n",
            "Cross-Validation Metrics Summary: \n"
          ],
          "name": "stdout"
        },
        {
          "output_type": "display_data",
          "data": {
            "text/html": [
              "<div style=\"overflow:auto\"><table style=\"width:50%\"><tr><td><b></b></td>\n",
              "<td><b>mean</b></td>\n",
              "<td><b>sd</b></td>\n",
              "<td><b>cv_1_valid</b></td>\n",
              "<td><b>cv_2_valid</b></td>\n",
              "<td><b>cv_3_valid</b></td>\n",
              "<td><b>cv_4_valid</b></td>\n",
              "<td><b>cv_5_valid</b></td>\n",
              "<td><b>cv_6_valid</b></td>\n",
              "<td><b>cv_7_valid</b></td>\n",
              "<td><b>cv_8_valid</b></td>\n",
              "<td><b>cv_9_valid</b></td>\n",
              "<td><b>cv_10_valid</b></td></tr>\n",
              "<tr><td>accuracy</td>\n",
              "<td>0.779135</td>\n",
              "<td>0.0103730</td>\n",
              "<td>0.7724289</td>\n",
              "<td>0.7746171</td>\n",
              "<td>0.7768052</td>\n",
              "<td>0.8205689</td>\n",
              "<td>0.7785088</td>\n",
              "<td>0.7719298</td>\n",
              "<td>0.7807018</td>\n",
              "<td>0.7631579</td>\n",
              "<td>0.7807018</td>\n",
              "<td>0.7719298</td></tr>\n",
              "<tr><td>auc</td>\n",
              "<td>0.7757018</td>\n",
              "<td>0.0189872</td>\n",
              "<td>0.7397171</td>\n",
              "<td>0.7806030</td>\n",
              "<td>0.7912672</td>\n",
              "<td>0.8297147</td>\n",
              "<td>0.7734183</td>\n",
              "<td>0.7488706</td>\n",
              "<td>0.7496988</td>\n",
              "<td>0.7850279</td>\n",
              "<td>0.8040162</td>\n",
              "<td>0.7546848</td></tr>\n",
              "<tr><td>err</td>\n",
              "<td>0.2208650</td>\n",
              "<td>0.0103730</td>\n",
              "<td>0.2275711</td>\n",
              "<td>0.2253829</td>\n",
              "<td>0.2231947</td>\n",
              "<td>0.1794311</td>\n",
              "<td>0.2214912</td>\n",
              "<td>0.2280702</td>\n",
              "<td>0.2192982</td>\n",
              "<td>0.2368421</td>\n",
              "<td>0.2192982</td>\n",
              "<td>0.2280702</td></tr>\n",
              "<tr><td>err_count</td>\n",
              "<td>100.8</td>\n",
              "<td>4.7095647</td>\n",
              "<td>104.0</td>\n",
              "<td>103.0</td>\n",
              "<td>102.0</td>\n",
              "<td>82.0</td>\n",
              "<td>101.0</td>\n",
              "<td>104.0</td>\n",
              "<td>100.0</td>\n",
              "<td>108.0</td>\n",
              "<td>100.0</td>\n",
              "<td>104.0</td></tr>\n",
              "<tr><td>f0point5</td>\n",
              "<td>0.8136758</td>\n",
              "<td>0.0091097</td>\n",
              "<td>0.8086507</td>\n",
              "<td>0.8107488</td>\n",
              "<td>0.8136300</td>\n",
              "<td>0.8498117</td>\n",
              "<td>0.8111267</td>\n",
              "<td>0.8070588</td>\n",
              "<td>0.8142255</td>\n",
              "<td>0.7980226</td>\n",
              "<td>0.8146592</td>\n",
              "<td>0.8088235</td></tr>\n",
              "<tr><td>f1</td>\n",
              "<td>0.8736765</td>\n",
              "<td>0.0062335</td>\n",
              "<td>0.8686869</td>\n",
              "<td>0.8726823</td>\n",
              "<td>0.8731343</td>\n",
              "<td>0.8980100</td>\n",
              "<td>0.872956</td>\n",
              "<td>0.8683544</td>\n",
              "<td>0.8743719</td>\n",
              "<td>0.8625954</td>\n",
              "<td>0.8746867</td>\n",
              "<td>0.8712871</td></tr>\n",
              "<tr><td>f2</td>\n",
              "<td>0.9433083</td>\n",
              "<td>0.0026926</td>\n",
              "<td>0.9383524</td>\n",
              "<td>0.9448608</td>\n",
              "<td>0.942029</td>\n",
              "<td>0.9520042</td>\n",
              "<td>0.9449891</td>\n",
              "<td>0.9397260</td>\n",
              "<td>0.9441128</td>\n",
              "<td>0.9385382</td>\n",
              "<td>0.9442641</td>\n",
              "<td>0.944206</td></tr>\n",
              "<tr><td>lift_top_group</td>\n",
              "<td>1.3043671</td>\n",
              "<td>0.0151275</td>\n",
              "<td>1.3170029</td>\n",
              "<td>1.2946175</td>\n",
              "<td>1.2946175</td>\n",
              "<td>1.2554945</td>\n",
              "<td>1.314121</td>\n",
              "<td>1.3217391</td>\n",
              "<td>1.3065902</td>\n",
              "<td>1.3411765</td>\n",
              "<td>1.3028572</td>\n",
              "<td>1.2954545</td></tr>\n",
              "<tr><td>logloss</td>\n",
              "<td>0.4828689</td>\n",
              "<td>0.0159022</td>\n",
              "<td>0.5045474</td>\n",
              "<td>0.4806098</td>\n",
              "<td>0.4765513</td>\n",
              "<td>0.4428926</td>\n",
              "<td>0.4929955</td>\n",
              "<td>0.5057812</td>\n",
              "<td>0.4966481</td>\n",
              "<td>0.5109757</td>\n",
              "<td>0.4492861</td>\n",
              "<td>0.4684016</td></tr>\n",
              "<tr><td>max_per_class_error</td>\n",
              "<td>0.9346701</td>\n",
              "<td>0.0284422</td>\n",
              "<td>0.9181818</td>\n",
              "<td>0.9903846</td>\n",
              "<td>0.9615384</td>\n",
              "<td>0.8494624</td>\n",
              "<td>0.9266055</td>\n",
              "<td>0.9189189</td>\n",
              "<td>0.9252337</td>\n",
              "<td>0.9224138</td>\n",
              "<td>0.9339623</td>\n",
              "<td>1.0</td></tr>\n",
              "<tr><td>mcc</td>\n",
              "<td>0.1998588</td>\n",
              "<td>0.0488541</td>\n",
              "<td>0.1956317</td>\n",
              "<td>0.0862756</td>\n",
              "<td>0.1207977</td>\n",
              "<td>0.3027148</td>\n",
              "<td>0.2384281</td>\n",
              "<td>0.2105704</td>\n",
              "<td>0.2190608</td>\n",
              "<td>0.2219739</td>\n",
              "<td>0.2032763</td>\n",
              "<td>NaN</td></tr>\n",
              "<tr><td>mean_per_class_accuracy</td>\n",
              "<td>0.5308142</td>\n",
              "<td>0.0134989</td>\n",
              "<td>0.5365863</td>\n",
              "<td>0.5048077</td>\n",
              "<td>0.5163979</td>\n",
              "<td>0.5711479</td>\n",
              "<td>0.5366973</td>\n",
              "<td>0.537642</td>\n",
              "<td>0.5359505</td>\n",
              "<td>0.5373225</td>\n",
              "<td>0.5315903</td>\n",
              "<td>0.5</td></tr>\n",
              "<tr><td>mean_per_class_error</td>\n",
              "<td>0.4691858</td>\n",
              "<td>0.0134989</td>\n",
              "<td>0.4634137</td>\n",
              "<td>0.4951923</td>\n",
              "<td>0.4836021</td>\n",
              "<td>0.4288520</td>\n",
              "<td>0.4633028</td>\n",
              "<td>0.462358</td>\n",
              "<td>0.4640495</td>\n",
              "<td>0.4626775</td>\n",
              "<td>0.4684097</td>\n",
              "<td>0.5</td></tr>\n",
              "<tr><td>mse</td>\n",
              "<td>0.1574022</td>\n",
              "<td>0.0063257</td>\n",
              "<td>0.1656899</td>\n",
              "<td>0.1562526</td>\n",
              "<td>0.1546397</td>\n",
              "<td>0.1398204</td>\n",
              "<td>0.1611233</td>\n",
              "<td>0.1661460</td>\n",
              "<td>0.1621198</td>\n",
              "<td>0.1694391</td>\n",
              "<td>0.1456617</td>\n",
              "<td>0.1531290</td></tr>\n",
              "<tr><td>precision</td>\n",
              "<td>0.7780783</td>\n",
              "<td>0.0106418</td>\n",
              "<td>0.7730337</td>\n",
              "<td>0.7741228</td>\n",
              "<td>0.7782705</td>\n",
              "<td>0.8204545</td>\n",
              "<td>0.7745536</td>\n",
              "<td>0.7707865</td>\n",
              "<td>0.7785235</td>\n",
              "<td>0.7600897</td>\n",
              "<td>0.7790179</td>\n",
              "<td>0.7719298</td></tr>\n",
              "<tr><td>r2</td>\n",
              "<td>0.1192016</td>\n",
              "<td>0.0179573</td>\n",
              "<td>0.0934196</td>\n",
              "<td>0.1111024</td>\n",
              "<td>0.1202779</td>\n",
              "<td>0.1373816</td>\n",
              "<td>0.1142075</td>\n",
              "<td>0.0978525</td>\n",
              "<td>0.0972727</td>\n",
              "<td>0.1066815</td>\n",
              "<td>0.1836038</td>\n",
              "<td>0.1302168</td></tr>\n",
              "<tr><td>recall</td>\n",
              "<td>0.9962986</td>\n",
              "<td>0.0021955</td>\n",
              "<td>0.9913545</td>\n",
              "<td>1.0</td>\n",
              "<td>0.9943343</td>\n",
              "<td>0.9917582</td>\n",
              "<td>1.0</td>\n",
              "<td>0.9942029</td>\n",
              "<td>0.9971347</td>\n",
              "<td>0.9970588</td>\n",
              "<td>0.9971429</td>\n",
              "<td>1.0</td></tr>\n",
              "<tr><td>rmse</td>\n",
              "<td>0.3965763</td>\n",
              "<td>0.0080443</td>\n",
              "<td>0.4070503</td>\n",
              "<td>0.3952881</td>\n",
              "<td>0.3932426</td>\n",
              "<td>0.3739257</td>\n",
              "<td>0.4014016</td>\n",
              "<td>0.4076101</td>\n",
              "<td>0.4026411</td>\n",
              "<td>0.4116298</td>\n",
              "<td>0.3816564</td>\n",
              "<td>0.3913169</td></tr>\n",
              "<tr><td>specificity</td>\n",
              "<td>0.0653299</td>\n",
              "<td>0.0284422</td>\n",
              "<td>0.0818182</td>\n",
              "<td>0.0096154</td>\n",
              "<td>0.0384615</td>\n",
              "<td>0.1505376</td>\n",
              "<td>0.0733945</td>\n",
              "<td>0.0810811</td>\n",
              "<td>0.0747663</td>\n",
              "<td>0.0775862</td>\n",
              "<td>0.0660377</td>\n",
              "<td>0.0</td></tr></table></div>"
            ],
            "text/plain": [
              "                         mean       sd          cv_1_valid    cv_2_valid    cv_3_valid    cv_4_valid    cv_5_valid    cv_6_valid    cv_7_valid    cv_8_valid    cv_9_valid    cv_10_valid\n",
              "-----------------------  ---------  ----------  ------------  ------------  ------------  ------------  ------------  ------------  ------------  ------------  ------------  -------------\n",
              "accuracy                 0.779135   0.010373    0.772429      0.774617      0.776805      0.820569      0.778509      0.77193       0.780702      0.763158      0.780702      0.77193\n",
              "auc                      0.775702   0.0189872   0.739717      0.780603      0.791267      0.829715      0.773418      0.748871      0.749699      0.785028      0.804016      0.754685\n",
              "err                      0.220865   0.010373    0.227571      0.225383      0.223195      0.179431      0.221491      0.22807       0.219298      0.236842      0.219298      0.22807\n",
              "err_count                100.8      4.70956     104           103           102           82            101           104           100           108           100           104\n",
              "f0point5                 0.813676   0.00910973  0.808651      0.810749      0.81363       0.849812      0.811127      0.807059      0.814226      0.798023      0.814659      0.808824\n",
              "f1                       0.873676   0.00623355  0.868687      0.872682      0.873134      0.89801       0.872956      0.868354      0.874372      0.862595      0.874687      0.871287\n",
              "f2                       0.943308   0.00269263  0.938352      0.944861      0.942029      0.952004      0.944989      0.939726      0.944113      0.938538      0.944264      0.944206\n",
              "lift_top_group           1.30437    0.0151275   1.317         1.29462       1.29462       1.25549       1.31412       1.32174       1.30659       1.34118       1.30286       1.29545\n",
              "logloss                  0.482869   0.0159022   0.504547      0.48061       0.476551      0.442893      0.492995      0.505781      0.496648      0.510976      0.449286      0.468402\n",
              "max_per_class_error      0.93467    0.0284422   0.918182      0.990385      0.961538      0.849462      0.926605      0.918919      0.925234      0.922414      0.933962      1\n",
              "mcc                      0.199859   0.0488541   0.195632      0.0862756     0.120798      0.302715      0.238428      0.21057       0.219061      0.221974      0.203276      nan\n",
              "mean_per_class_accuracy  0.530814   0.0134989   0.536586      0.504808      0.516398      0.571148      0.536697      0.537642      0.535951      0.537323      0.53159       0.5\n",
              "mean_per_class_error     0.469186   0.0134989   0.463414      0.495192      0.483602      0.428852      0.463303      0.462358      0.46405       0.462677      0.46841       0.5\n",
              "mse                      0.157402   0.00632575  0.16569       0.156253      0.15464       0.13982       0.161123      0.166146      0.16212       0.169439      0.145662      0.153129\n",
              "precision                0.778078   0.0106418   0.773034      0.774123      0.77827       0.820455      0.774554      0.770787      0.778524      0.76009       0.779018      0.77193\n",
              "r2                       0.119202   0.0179573   0.0934196     0.111102      0.120278      0.137382      0.114208      0.0978525     0.0972727     0.106681      0.183604      0.130217\n",
              "recall                   0.996299   0.00219546  0.991354      1             0.994334      0.991758      1             0.994203      0.997135      0.997059      0.997143      1\n",
              "rmse                     0.396576   0.00804427  0.40705       0.395288      0.393243      0.373926      0.401402      0.40761       0.402641      0.41163       0.381656      0.391317\n",
              "specificity              0.0653299  0.0284422   0.0818182     0.00961539    0.0384615     0.150538      0.0733945     0.0810811     0.0747663     0.0775862     0.0660377     0"
            ]
          },
          "metadata": {
            "tags": []
          }
        },
        {
          "output_type": "stream",
          "text": [
            "Scoring History: \n"
          ],
          "name": "stdout"
        },
        {
          "output_type": "display_data",
          "data": {
            "text/html": [
              "<div style=\"overflow:auto\"><table style=\"width:50%\"><tr><td><b></b></td>\n",
              "<td><b>timestamp</b></td>\n",
              "<td><b>duration</b></td>\n",
              "<td><b>number_of_trees</b></td>\n",
              "<td><b>training_rmse</b></td>\n",
              "<td><b>training_logloss</b></td>\n",
              "<td><b>training_auc</b></td>\n",
              "<td><b>training_pr_auc</b></td>\n",
              "<td><b>training_lift</b></td>\n",
              "<td><b>training_classification_error</b></td></tr>\n",
              "<tr><td></td>\n",
              "<td>2019-05-22 13:05:57</td>\n",
              "<td>13.941 sec</td>\n",
              "<td>0.0</td>\n",
              "<td>0.4228236</td>\n",
              "<td>0.5430294</td>\n",
              "<td>0.5</td>\n",
              "<td>0.0</td>\n",
              "<td>1.0</td>\n",
              "<td>0.2331288</td></tr>\n",
              "<tr><td></td>\n",
              "<td>2019-05-22 13:05:57</td>\n",
              "<td>14.035 sec</td>\n",
              "<td>5.0</td>\n",
              "<td>0.4182163</td>\n",
              "<td>0.5322456</td>\n",
              "<td>0.8183406</td>\n",
              "<td>0.9110523</td>\n",
              "<td>1.304</td>\n",
              "<td>0.2145048</td></tr>\n",
              "<tr><td></td>\n",
              "<td>2019-05-22 13:05:57</td>\n",
              "<td>14.130 sec</td>\n",
              "<td>10.0</td>\n",
              "<td>0.4139535</td>\n",
              "<td>0.5224340</td>\n",
              "<td>0.8232899</td>\n",
              "<td>0.9409865</td>\n",
              "<td>1.304</td>\n",
              "<td>0.2160386</td></tr>\n",
              "<tr><td></td>\n",
              "<td>2019-05-22 13:05:57</td>\n",
              "<td>14.226 sec</td>\n",
              "<td>15.0</td>\n",
              "<td>0.4100000</td>\n",
              "<td>0.5134419</td>\n",
              "<td>0.8271269</td>\n",
              "<td>0.9427266</td>\n",
              "<td>1.304</td>\n",
              "<td>0.2118755</td></tr>\n",
              "<tr><td></td>\n",
              "<td>2019-05-22 13:05:57</td>\n",
              "<td>14.323 sec</td>\n",
              "<td>20.0</td>\n",
              "<td>0.4062982</td>\n",
              "<td>0.5051122</td>\n",
              "<td>0.8295681</td>\n",
              "<td>0.9450273</td>\n",
              "<td>1.304</td>\n",
              "<td>0.2109991</td></tr>\n",
              "<tr><td></td>\n",
              "<td>2019-05-22 13:05:57</td>\n",
              "<td>14.420 sec</td>\n",
              "<td>25.0</td>\n",
              "<td>0.4028647</td>\n",
              "<td>0.4974275</td>\n",
              "<td>0.8281030</td>\n",
              "<td>0.9452830</td>\n",
              "<td>1.304</td>\n",
              "<td>0.2109991</td></tr>\n",
              "<tr><td></td>\n",
              "<td>2019-05-22 13:05:58</td>\n",
              "<td>14.526 sec</td>\n",
              "<td>30.0</td>\n",
              "<td>0.3996449</td>\n",
              "<td>0.4902865</td>\n",
              "<td>0.8288895</td>\n",
              "<td>0.9481562</td>\n",
              "<td>1.304</td>\n",
              "<td>0.2118755</td></tr>\n",
              "<tr><td></td>\n",
              "<td>2019-05-22 13:05:58</td>\n",
              "<td>14.620 sec</td>\n",
              "<td>35.0</td>\n",
              "<td>0.3967606</td>\n",
              "<td>0.4838653</td>\n",
              "<td>0.8312244</td>\n",
              "<td>0.9477039</td>\n",
              "<td>1.304</td>\n",
              "<td>0.2101227</td></tr>\n",
              "<tr><td></td>\n",
              "<td>2019-05-22 13:05:58</td>\n",
              "<td>14.719 sec</td>\n",
              "<td>40.0</td>\n",
              "<td>0.3940053</td>\n",
              "<td>0.4777265</td>\n",
              "<td>0.8317675</td>\n",
              "<td>0.9484900</td>\n",
              "<td>1.304</td>\n",
              "<td>0.2096845</td></tr>\n",
              "<tr><td></td>\n",
              "<td>2019-05-22 13:05:58</td>\n",
              "<td>14.822 sec</td>\n",
              "<td>45.0</td>\n",
              "<td>0.3914778</td>\n",
              "<td>0.4720622</td>\n",
              "<td>0.8333711</td>\n",
              "<td>0.9492964</td>\n",
              "<td>1.304</td>\n",
              "<td>0.2090272</td></tr>\n",
              "<tr><td></td>\n",
              "<td>2019-05-22 13:05:58</td>\n",
              "<td>14.924 sec</td>\n",
              "<td>50.0</td>\n",
              "<td>0.3890882</td>\n",
              "<td>0.4667040</td>\n",
              "<td>0.8349517</td>\n",
              "<td>0.9480619</td>\n",
              "<td>1.304</td>\n",
              "<td>0.2083699</td></tr>\n",
              "<tr><td></td>\n",
              "<td>2019-05-22 13:05:58</td>\n",
              "<td>14.994 sec</td>\n",
              "<td>53.0</td>\n",
              "<td>0.3877303</td>\n",
              "<td>0.4636523</td>\n",
              "<td>0.8357719</td>\n",
              "<td>0.9492433</td>\n",
              "<td>1.304</td>\n",
              "<td>0.2081507</td></tr></table></div>"
            ],
            "text/plain": [
              "    timestamp            duration    number_of_trees    training_rmse    training_logloss    training_auc    training_pr_auc    training_lift    training_classification_error\n",
              "--  -------------------  ----------  -----------------  ---------------  ------------------  --------------  -----------------  ---------------  -------------------------------\n",
              "    2019-05-22 13:05:57  13.941 sec  0                  0.422824         0.543029            0.5             0                  1                0.233129\n",
              "    2019-05-22 13:05:57  14.035 sec  5                  0.418216         0.532246            0.818341        0.911052           1.304            0.214505\n",
              "    2019-05-22 13:05:57  14.130 sec  10                 0.413953         0.522434            0.82329         0.940986           1.304            0.216039\n",
              "    2019-05-22 13:05:57  14.226 sec  15                 0.41             0.513442            0.827127        0.942727           1.304            0.211876\n",
              "    2019-05-22 13:05:57  14.323 sec  20                 0.406298         0.505112            0.829568        0.945027           1.304            0.210999\n",
              "    2019-05-22 13:05:57  14.420 sec  25                 0.402865         0.497428            0.828103        0.945283           1.304            0.210999\n",
              "    2019-05-22 13:05:58  14.526 sec  30                 0.399645         0.490287            0.82889         0.948156           1.304            0.211876\n",
              "    2019-05-22 13:05:58  14.620 sec  35                 0.396761         0.483865            0.831224        0.947704           1.304            0.210123\n",
              "    2019-05-22 13:05:58  14.719 sec  40                 0.394005         0.477727            0.831767        0.94849            1.304            0.209684\n",
              "    2019-05-22 13:05:58  14.822 sec  45                 0.391478         0.472062            0.833371        0.949296           1.304            0.209027\n",
              "    2019-05-22 13:05:58  14.924 sec  50                 0.389088         0.466704            0.834952        0.948062           1.304            0.20837\n",
              "    2019-05-22 13:05:58  14.994 sec  53                 0.38773          0.463652            0.835772        0.949243           1.304            0.208151"
            ]
          },
          "metadata": {
            "tags": []
          }
        },
        {
          "output_type": "stream",
          "text": [
            "Variable Importances: \n"
          ],
          "name": "stdout"
        },
        {
          "output_type": "display_data",
          "data": {
            "text/html": [
              "<div style=\"overflow:auto\"><table style=\"width:50%\"><tr><td><b>variable</b></td>\n",
              "<td><b>relative_importance</b></td>\n",
              "<td><b>scaled_importance</b></td>\n",
              "<td><b>percentage</b></td></tr>\n",
              "<tr><td>NUM_UNIQUE(events.products.category_id_0)</td>\n",
              "<td>1026.7587891</td>\n",
              "<td>1.0</td>\n",
              "<td>0.1691453</td></tr>\n",
              "<tr><td>NUM_UNIQUE(events.product_id)</td>\n",
              "<td>1018.4805298</td>\n",
              "<td>0.9919375</td>\n",
              "<td>0.1677816</td></tr>\n",
              "<tr><td>NUM_UNIQUE(events.products.category_id_2)</td>\n",
              "<td>751.9967651</td>\n",
              "<td>0.7323987</td>\n",
              "<td>0.1238818</td></tr>\n",
              "<tr><td>NUM_UNIQUE(events.products.category_id_1)</td>\n",
              "<td>619.0935059</td>\n",
              "<td>0.6029591</td>\n",
              "<td>0.1019877</td></tr>\n",
              "<tr><td>NUM_UNIQUE(events.seller_id)</td>\n",
              "<td>414.4820862</td>\n",
              "<td>0.4036801</td>\n",
              "<td>0.0682806</td></tr>\n",
              "<tr><td>---</td>\n",
              "<td>---</td>\n",
              "<td>---</td>\n",
              "<td>---</td></tr>\n",
              "<tr><td>SUM(events.products.price)</td>\n",
              "<td>11.3651886</td>\n",
              "<td>0.0110690</td>\n",
              "<td>0.0018723</td></tr>\n",
              "<tr><td>STD(events.products.price)</td>\n",
              "<td>10.9614401</td>\n",
              "<td>0.0106758</td>\n",
              "<td>0.0018058</td></tr>\n",
              "<tr><td>MIN(events.time_since_previous_by_user_id)</td>\n",
              "<td>7.9813113</td>\n",
              "<td>0.0077733</td>\n",
              "<td>0.0013148</td></tr>\n",
              "<tr><td>MAX(events.products.price)</td>\n",
              "<td>5.3003263</td>\n",
              "<td>0.0051622</td>\n",
              "<td>0.0008732</td></tr>\n",
              "<tr><td>NUM_UNIQUE(events.event_type)</td>\n",
              "<td>4.6339254</td>\n",
              "<td>0.0045132</td>\n",
              "<td>0.0007634</td></tr></table></div>"
            ],
            "text/plain": [
              "variable                                    relative_importance    scaled_importance      percentage\n",
              "------------------------------------------  ---------------------  ---------------------  ---------------------\n",
              "NUM_UNIQUE(events.products.category_id_0)   1026.7587890625        1.0                    0.16914529837707304\n",
              "NUM_UNIQUE(events.product_id)               1018.4805297851562     0.9919374838905423     0.16778156168406885\n",
              "NUM_UNIQUE(events.products.category_id_2)   751.9967651367188      0.7323986637828954     0.12388179051652744\n",
              "NUM_UNIQUE(events.products.category_id_1)   619.093505859375       0.6029590517794828     0.10198768872239765\n",
              "NUM_UNIQUE(events.seller_id)                414.4820861816406      0.4036800956533235     0.0682805902281668\n",
              "---                                         ---                    ---                    ---\n",
              "SUM(events.products.price)                  11.365188598632812     0.011068995678147538   0.0018722685767147973\n",
              "STD(events.products.price)                  10.961440086364746     0.010675769424261057   0.0018057562046714698\n",
              "MIN(events.time_since_previous_by_user_id)  7.981311321258545      0.0077733070379129845  0.0013148183383043935\n",
              "MAX(events.products.price)                  5.300326347351074      0.005162192331648438   0.0008731605622165136\n",
              "NUM_UNIQUE(events.event_type)               4.633925437927246      0.0045131587742806975  0.0007633795874988138"
            ]
          },
          "metadata": {
            "tags": []
          }
        },
        {
          "output_type": "stream",
          "text": [
            "\n",
            "See the whole table with table.as_data_frame()\n"
          ],
          "name": "stdout"
        },
        {
          "output_type": "execute_result",
          "data": {
            "text/plain": [
              "<bound method ModelBase.auc of >"
            ]
          },
          "metadata": {
            "tags": []
          },
          "execution_count": 92
        }
      ]
    },
    {
      "cell_type": "code",
      "metadata": {
        "id": "mMKiqxzRDVso",
        "colab_type": "code",
        "outputId": "3fffb584-858e-49fe-d183-37c2c52b96e4",
        "colab": {
          "base_uri": "https://localhost:8080/",
          "height": 613
        }
      },
      "source": [
        "best_mdl.varimp_plot()"
      ],
      "execution_count": 0,
      "outputs": [
        {
          "output_type": "display_data",
          "data": {
            "image/png": "[encoded data removed]",
            "text/plain": [
              "<Figure size 1008x720 with 1 Axes>"
            ]
          },
          "metadata": {
            "tags": []
          }
        }
      ]
    },
    {
      "cell_type": "code",
      "metadata": {
        "id": "Fim400gWDmXg",
        "colab_type": "code",
        "colab": {}
      },
      "source": [
        "## try with mljar \n",
        "!pip install mljar-supervised"
      ],
      "execution_count": 0,
      "outputs": []
    },
    {
      "cell_type": "code",
      "metadata": {
        "id": "tKZCw-hElptt",
        "colab_type": "code",
        "colab": {}
      },
      "source": [
        "from supervised.automl import AutoML\n",
        "\n",
        "X = df[df.columns[:-1]]\n",
        "y = df[\"income\"]\n",
        "\n",
        "automl = AutoML()\n",
        "automl.fit(X, y)\n",
        "\n",
        "predictions = automl.predict(X)"
      ],
      "execution_count": 0,
      "outputs": []
    }
  ]
}