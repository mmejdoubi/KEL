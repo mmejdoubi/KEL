{
  "nbformat": 4,
  "nbformat_minor": 0,
  "metadata": {
    "colab": {
      "name": "manual_sliding_window.ipynb",
      "version": "0.3.2",
      "provenance": [],
      "collapsed_sections": [],
      "include_colab_link": true
    },
    "kernelspec": {
      "name": "python3",
      "display_name": "Python 3"
    },
    "accelerator": "GPU"
  },
  "cells": [
    {
      "cell_type": "markdown",
      "metadata": {
        "id": "view-in-github",
        "colab_type": "text"
      },
      "source": [
        "<a href=\"https://colab.research.google.com/github/mmejdoubi/KEL/blob/master/manual_sliding_window.ipynb\" target=\"_parent\"><img src=\"https://colab.research.google.com/assets/colab-badge.svg\" alt=\"Open In Colab\"/></a>"
      ]
    },
    {
      "metadata": {
        "colab_type": "code",
        "id": "3brKLowIPipC",
        "colab": {}
      },
      "cell_type": "code",
      "source": [
        "import numpy as np\n",
        "import pandas as pd"
      ],
      "execution_count": 0,
      "outputs": []
    },
    {
      "metadata": {
        "id": "Sd--F4wDWgSL",
        "colab_type": "code",
        "outputId": "db610622-e4fe-4091-b521-4d6fd4fa425b",
        "colab": {
          "base_uri": "https://localhost:8080/",
          "height": 358
        }
      },
      "cell_type": "code",
      "source": [
        "## download dataset\n",
        "! wget \"https://onedrive.live.com/download?cid=ED9B50B3CA11E5C4&resid=ED9B50B3CA11E5C4%21138&authkey=AMa0qTOP6n7RDII\" -O mad_subset.csv"
      ],
      "execution_count": 0,
      "outputs": [
        {
          "output_type": "stream",
          "text": [
            "--2019-01-31 16:52:53--  https://onedrive.live.com/download?cid=ED9B50B3CA11E5C4&resid=ED9B50B3CA11E5C4%21138&authkey=AMa0qTOP6n7RDII\n",
            "Resolving onedrive.live.com (onedrive.live.com)... 13.107.42.13\n",
            "Connecting to onedrive.live.com (onedrive.live.com)|13.107.42.13|:443... connected.\n",
            "HTTP request sent, awaiting response... 302 Found\n",
            "Location: https://6hjuna.dm.files.1drv.com/y4mOOmO9-9NXAZyKccLieKl3sJaVhY-DLGm1zH3RAlEhcR0yDI_ZhXPpDBp8d__5tDMEUabWqoS8ygOLOi1h0y9kG2tayP-cf1yoQ7T82SUbchsMkoIKBiN92yN22L2BrKF9vprmU3tJuNdNgrQTbp4-2xzr7kTWBwtP11B4qIbc_zfhQrdj-_lLmTbv3g197HWii_7X1bNSKSR2h-ghSoAeg/mad_subset.csv?download&psid=1 [following]\n",
            "--2019-01-31 16:52:55--  https://6hjuna.dm.files.1drv.com/y4mOOmO9-9NXAZyKccLieKl3sJaVhY-DLGm1zH3RAlEhcR0yDI_ZhXPpDBp8d__5tDMEUabWqoS8ygOLOi1h0y9kG2tayP-cf1yoQ7T82SUbchsMkoIKBiN92yN22L2BrKF9vprmU3tJuNdNgrQTbp4-2xzr7kTWBwtP11B4qIbc_zfhQrdj-_lLmTbv3g197HWii_7X1bNSKSR2h-ghSoAeg/mad_subset.csv?download&psid=1\n",
            "Resolving 6hjuna.dm.files.1drv.com (6hjuna.dm.files.1drv.com)... 13.107.42.12\n",
            "Connecting to 6hjuna.dm.files.1drv.com (6hjuna.dm.files.1drv.com)|13.107.42.12|:443... connected.\n",
            "HTTP request sent, awaiting response... 200 OK\n",
            "Length: 650459 (635K) [application/octet-stream]\n",
            "Saving to: ‘mad_subset.csv’\n",
            "\n",
            "mad_subset.csv      100%[===================>] 635.21K  --.-KB/s    in 0.04s   \n",
            "\n",
            "2019-01-31 16:52:55 (15.9 MB/s) - ‘mad_subset.csv’ saved [650459/650459]\n",
            "\n"
          ],
          "name": "stdout"
        }
      ]
    },
    {
      "metadata": {
        "id": "1__-c8v4WrEa",
        "colab_type": "code",
        "outputId": "82040281-fda3-4b1c-dd22-839c789ca41d",
        "colab": {
          "base_uri": "https://localhost:8080/",
          "height": 239
        }
      },
      "cell_type": "code",
      "source": [
        "! head mad_subset.csv"
      ],
      "execution_count": 0,
      "outputs": [
        {
          "output_type": "stream",
          "text": [
            ",NUM_PERS,MONTANT,CANAL_TYPE,parsed_dt\n",
            "16648,22160,2000,MBK,2018-08-18\n",
            "16653,22160,2000,MBK,2018-11-12\n",
            "16652,22160,2000,MBK,2018-10-16\n",
            "16651,22160,2000,MBK,2018-09-11\n",
            "16650,22160,2000,MBK,2018-09-25\n",
            "16649,22160,1000,MBK,2018-08-18\n",
            "16647,22160,1000,MBK,2018-07-09\n",
            "16646,22160,1700,MBK,2018-07-19\n",
            "16645,22160,500,MBK,2018-06-28\n"
          ],
          "name": "stdout"
        }
      ]
    },
    {
      "metadata": {
        "colab_type": "code",
        "id": "hXzBz6mgvHab",
        "scrolled": true,
        "outputId": "f4e09927-31a6-4e6f-e5df-f8adcf5d146c",
        "colab": {
          "base_uri": "https://localhost:8080/",
          "height": 191
        }
      },
      "cell_type": "code",
      "source": [
        "df = pd.read_csv(\"mad_subset.csv\", index_col='NUM_PERS', parse_dates=['parsed_dt'])\n",
        "df.info()"
      ],
      "execution_count": 0,
      "outputs": [
        {
          "output_type": "stream",
          "text": [
            "<class 'pandas.core.frame.DataFrame'>\n",
            "Int64Index: 19277 entries, 22160 to 90622471\n",
            "Data columns (total 4 columns):\n",
            "Unnamed: 0    19277 non-null int64\n",
            "MONTANT       19277 non-null int64\n",
            "CANAL_TYPE    19277 non-null object\n",
            "parsed_dt     19277 non-null datetime64[ns]\n",
            "dtypes: datetime64[ns](1), int64(2), object(1)\n",
            "memory usage: 753.0+ KB\n"
          ],
          "name": "stdout"
        }
      ]
    },
    {
      "metadata": {
        "id": "oIzDGHnoWTMb",
        "colab_type": "code",
        "outputId": "85b4c479-d25d-41d7-db3c-9382a4e15353",
        "colab": {
          "base_uri": "https://localhost:8080/",
          "height": 88
        }
      },
      "cell_type": "code",
      "source": [
        "print(\"nb_users => \" + str(df.index.nunique()))\n",
        "print(\"data start => \" + str(df.parsed_dt.min()))\n",
        "print(\"data end => \" + str(df.parsed_dt.max())) \n",
        "## predire sum(montant) sur oct-nov, training sur data last 6, par semaines"
      ],
      "execution_count": 0,
      "outputs": [
        {
          "output_type": "stream",
          "text": [
            "nb_users => 2516\n",
            "data start => 2017-01-01 00:00:00\n",
            "data end => 2018-11-30 00:00:00\n"
          ],
          "name": "stdout"
        }
      ]
    },
    {
      "metadata": {
        "id": "VUUGQMivWTMe",
        "colab_type": "code",
        "outputId": "25a4f10f-f6db-4273-eb16-3deeccf08a09",
        "colab": {
          "base_uri": "https://localhost:8080/",
          "height": 54
        }
      },
      "cell_type": "code",
      "source": [
        "import datetime as dt\n",
        "## decoupage en fenetres temporelles\n",
        "cutoff_dt = pd.to_datetime('30/9/2018', dayfirst=True)\n",
        "window_width = 7 ## detail jour\n",
        "training_length = 180 ## 6 mois\n",
        "\n",
        "## prediction window\n",
        "prediction_length = 60\n",
        "\n",
        "## nb de fenetres\n",
        "window_count = int(training_length / window_width)\n",
        "print('nbre fenetres historiques : ' + str(window_count))"
      ],
      "execution_count": 0,
      "outputs": [
        {
          "output_type": "stream",
          "text": [
            "nbre fenetres historiques : 25\n"
          ],
          "name": "stdout"
        }
      ]
    },
    {
      "metadata": {
        "colab_type": "code",
        "id": "X0PxWR6SrfXQ",
        "colab": {}
      },
      "cell_type": "code",
      "source": [
        "## Df hist contient toute data >= debut historique, et <= cutoff\n",
        "## df_hist va etre decoupe en window_count egales\n",
        "\n",
        "train_start_dt = cutoff_dt - dt.timedelta(training_length)\n",
        "training_data = df[(df[\"parsed_dt\"] <= cutoff_dt) & (df[\"parsed_dt\"] > train_start_dt)]\n",
        "\n",
        "## alternative way todo direct in pandas (new in 0.24) => ts.between_time('0:45', '0:15')\n",
        "## useful to calcul label \n",
        "prediction_end_dt = cutoff_dt + dt.timedelta(prediction_length)\n",
        "prediction_data = df[(df[\"parsed_dt\"] > cutoff_dt) & (df[\"parsed_dt\"] <= prediction_end_dt)]"
      ],
      "execution_count": 0,
      "outputs": []
    },
    {
      "metadata": {
        "colab_type": "code",
        "id": "e8XlIBh9-BOE",
        "outputId": "568a838e-b1b5-4095-e7e4-a6774d3b2630",
        "colab": {
          "base_uri": "https://localhost:8080/",
          "height": 88
        }
      },
      "cell_type": "code",
      "source": [
        "print(\"Total Training window start @ >> \" + str(training_data['parsed_dt'].min()))\n",
        "print(\"Total Training window end @ >> \" + str(training_data['parsed_dt'].max()))\n",
        "print(\"Prediction window end @ >> \" + str(prediction_data['parsed_dt'].max()))"
      ],
      "execution_count": 0,
      "outputs": [
        {
          "output_type": "stream",
          "text": [
            "Total Training window start @ >> 2018-04-04 00:00:00\n",
            "Total Training window end @ >> 2018-09-30 00:00:00\n",
            "Prediction window end @ >> 2018-11-29 00:00:00\n"
          ],
          "name": "stdout"
        }
      ]
    },
    {
      "metadata": {
        "id": "C6aXfjmyWTMq",
        "colab_type": "code",
        "colab": {}
      },
      "cell_type": "code",
      "source": [
        "## boucle qui calcul indicateurs pour une seule fenetre des window_count, \n",
        "## params : \n",
        "## start_dt=\n",
        "## end_dt= \n",
        "## starting_from cutoff_dt - (7d * iteration_number) à chaque fois\n",
        "## in_df = training_data\n",
        "\n",
        "def build_window(window_idx, in_df):\n",
        "    ## Set index on date col to be able to use pandas loc fx\n",
        "    in_df = in_df.set_index(in_df['parsed_dt'])\n",
        "    ## window_end starting from cutoff and backward\n",
        "    offset = int(window_idx * window_width)\n",
        "    t_end = cutoff_dt - dt.timedelta(offset)\n",
        "    t_start = cutoff_dt - dt.timedelta(offset + window_width)\n",
        "    suffix_start = (cutoff_dt - t_start).days\n",
        "    suffix_end = (cutoff_dt - t_end).days\n",
        "    suffix_str = str(suffix_end) + '_' + str(suffix_start) + '_DAYS'\n",
        "    ## slicing using df_w = df.loc['2002-1-1 01:00:00':'2002-1-1 04:00:00']\n",
        "    \n",
        "    ## populate window param dict\n",
        "    # dictionary with mixed keys\n",
        "    window_dict.update({window_idx: [t_start, t_end, suffix_str]})\n",
        "     \n",
        "    return window_dict\n",
        "\n",
        "    ##print('window {} Start : {} End : {}'.format(window_idx, t_start, t_end))\n",
        "    ## rename suffix : ecart en day entre cutoff, et t_start et t_end : agg_indic_7_15d"
      ],
      "execution_count": 0,
      "outputs": []
    },
    {
      "metadata": {
        "id": "JFE7ISGcWTMu",
        "colab_type": "code",
        "colab": {}
      },
      "cell_type": "code",
      "source": [
        "## stock window parametre as python dict\n",
        "window_dict =  \"global\"\n",
        "window_dict = {}\n",
        "\n",
        "for i in range(0,window_count):\n",
        "    build_window(i, training_data)"
      ],
      "execution_count": 0,
      "outputs": []
    },
    {
      "metadata": {
        "id": "324OGvj_WTM2",
        "colab_type": "code",
        "outputId": "f26ef737-a292-4710-d2fa-e38125adfc13",
        "colab": {
          "base_uri": "https://localhost:8080/",
          "height": 462
        }
      },
      "cell_type": "code",
      "source": [
        "## loop over all periods\n",
        "## todo :call a la fonction qui calcule les kpis\n",
        "\n",
        "for i in range(0, len(window_dict)):\n",
        "    print(\"window # {}, start : {}, End : {}, Variable Suffix : {}\"\n",
        "          .format(i, window_dict[i][0], window_dict[i][1], window_dict[i][2]))"
      ],
      "execution_count": 0,
      "outputs": [
        {
          "output_type": "stream",
          "text": [
            "window # 0, start : 2018-09-23 00:00:00, End : 2018-09-30 00:00:00, Variable Suffix : 0_7_DAYS\n",
            "window # 1, start : 2018-09-16 00:00:00, End : 2018-09-23 00:00:00, Variable Suffix : 7_14_DAYS\n",
            "window # 2, start : 2018-09-09 00:00:00, End : 2018-09-16 00:00:00, Variable Suffix : 14_21_DAYS\n",
            "window # 3, start : 2018-09-02 00:00:00, End : 2018-09-09 00:00:00, Variable Suffix : 21_28_DAYS\n",
            "window # 4, start : 2018-08-26 00:00:00, End : 2018-09-02 00:00:00, Variable Suffix : 28_35_DAYS\n",
            "window # 5, start : 2018-08-19 00:00:00, End : 2018-08-26 00:00:00, Variable Suffix : 35_42_DAYS\n",
            "window # 6, start : 2018-08-12 00:00:00, End : 2018-08-19 00:00:00, Variable Suffix : 42_49_DAYS\n",
            "window # 7, start : 2018-08-05 00:00:00, End : 2018-08-12 00:00:00, Variable Suffix : 49_56_DAYS\n",
            "window # 8, start : 2018-07-29 00:00:00, End : 2018-08-05 00:00:00, Variable Suffix : 56_63_DAYS\n",
            "window # 9, start : 2018-07-22 00:00:00, End : 2018-07-29 00:00:00, Variable Suffix : 63_70_DAYS\n",
            "window # 10, start : 2018-07-15 00:00:00, End : 2018-07-22 00:00:00, Variable Suffix : 70_77_DAYS\n",
            "window # 11, start : 2018-07-08 00:00:00, End : 2018-07-15 00:00:00, Variable Suffix : 77_84_DAYS\n",
            "window # 12, start : 2018-07-01 00:00:00, End : 2018-07-08 00:00:00, Variable Suffix : 84_91_DAYS\n",
            "window # 13, start : 2018-06-24 00:00:00, End : 2018-07-01 00:00:00, Variable Suffix : 91_98_DAYS\n",
            "window # 14, start : 2018-06-17 00:00:00, End : 2018-06-24 00:00:00, Variable Suffix : 98_105_DAYS\n",
            "window # 15, start : 2018-06-10 00:00:00, End : 2018-06-17 00:00:00, Variable Suffix : 105_112_DAYS\n",
            "window # 16, start : 2018-06-03 00:00:00, End : 2018-06-10 00:00:00, Variable Suffix : 112_119_DAYS\n",
            "window # 17, start : 2018-05-27 00:00:00, End : 2018-06-03 00:00:00, Variable Suffix : 119_126_DAYS\n",
            "window # 18, start : 2018-05-20 00:00:00, End : 2018-05-27 00:00:00, Variable Suffix : 126_133_DAYS\n",
            "window # 19, start : 2018-05-13 00:00:00, End : 2018-05-20 00:00:00, Variable Suffix : 133_140_DAYS\n",
            "window # 20, start : 2018-05-06 00:00:00, End : 2018-05-13 00:00:00, Variable Suffix : 140_147_DAYS\n",
            "window # 21, start : 2018-04-29 00:00:00, End : 2018-05-06 00:00:00, Variable Suffix : 147_154_DAYS\n",
            "window # 22, start : 2018-04-22 00:00:00, End : 2018-04-29 00:00:00, Variable Suffix : 154_161_DAYS\n",
            "window # 23, start : 2018-04-15 00:00:00, End : 2018-04-22 00:00:00, Variable Suffix : 161_168_DAYS\n",
            "window # 24, start : 2018-04-08 00:00:00, End : 2018-04-15 00:00:00, Variable Suffix : 168_175_DAYS\n"
          ],
          "name": "stdout"
        }
      ]
    },
    {
      "metadata": {
        "id": "QimDF7E7WTM7",
        "colab_type": "code",
        "colab": {}
      },
      "cell_type": "code",
      "source": [
        "numeric_cols = ['MONTANT']\n",
        "num_agg_fx = ['sum', 'mean', 'std']\n",
        "group_by = ['CANAL_TYPE']"
      ],
      "execution_count": 0,
      "outputs": []
    }
  ]
}